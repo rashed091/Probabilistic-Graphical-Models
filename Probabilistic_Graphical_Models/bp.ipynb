{
 "cells": [
  {
   "cell_type": "markdown",
   "metadata": {},
   "source": [
    "### Example: Vehicle Localization\n",
    "Sample code implementing max-product and sum-product belief propagation"
   ]
  },
  {
   "cell_type": "code",
   "execution_count": 5,
   "metadata": {},
   "outputs": [
    {
     "name": "stdout",
     "output_type": "stream",
     "text": [
      "=============== INPUT ====================\n",
      "unary potentials:\n",
      "[[0.7 0.1 0.2]\n",
      " [0.7 0.2 0.1]\n",
      " [0.2 0.1 0.7]\n",
      " [0.7 0.2 0.1]\n",
      " [0.2 0.6 0.2]\n",
      " [0.1 0.8 0.1]\n",
      " [0.4 0.3 0.3]\n",
      " [0.1 0.8 0.1]\n",
      " [0.1 0.1 0.8]\n",
      " [0.1 0.5 0.4]]\n",
      "pairwise potential:\n",
      "[[0.8 0.2 0. ]\n",
      " [0.2 0.6 0.2]\n",
      " [0.  0.2 0.8]]\n"
     ]
    }
   ],
   "source": [
    "# setup model\n",
    "import sys\n",
    "import numpy as np\n",
    "from numpy import array as arr\n",
    "\n",
    "# general parameters\n",
    "max_product = 1 # max-product vs. sum-product\n",
    "num_iters = 10\n",
    "\n",
    "# model parameters\n",
    "unary = np.array([[0.7,0.1,0.2],[0.7,0.2,0.1],[0.2,0.1,0.7],[0.7,0.2,0.1],\n",
    "                  [0.2,0.6,0.2],[0.1,0.8,0.1],[0.4,0.3,0.3],[0.1,0.8,0.1],\n",
    "                  [0.1,0.1,0.8],[0.1,0.5,0.4]])\n",
    "pairwise = arr([[0.8,0.2,0.0],[0.2,0.6,0.2],[0.0,0.2,0.8]])\n",
    "[num,dim] = unary.shape\n",
    "np.set_printoptions(precision=2)\n",
    "\n",
    "# print unaries\n",
    "print(\"=============== INPUT ====================\")\n",
    "print (\"unary potentials:\")\n",
    "print (unary)\n",
    "print (\"pairwise potential:\")\n",
    "print (pairwise)"
   ]
  },
  {
   "cell_type": "code",
   "execution_count": 12,
   "metadata": {},
   "outputs": [],
   "source": [
    "# initialize variables and factors\n",
    "variables = dim*np.ones(num,dtype=np.int64)\n",
    "factors = []\n",
    "\n",
    "# unary\n",
    "for i in range(num):\n",
    "    factors.append({'vars':arr([i]), 'vals':arr(unary[i])})\n",
    "\n",
    "# pairwise\n",
    "for i in range(num-1):\n",
    "    factors.append({'vars':arr([i,i+1]), 'vals':pairwise})\n",
    "\n",
    "# init all messages to zero\n",
    "msg_fv = {}\n",
    "msg_vf = {}\n",
    "ne_var = [[] for i in range(num)]\n",
    "for [f_idx,f] in enumerate(factors):\n",
    "    for v_idx in f['vars']:\n",
    "        msg_fv[(f_idx,v_idx)] = np.ones(variables[v_idx])\n",
    "        msg_vf[(v_idx,f_idx)] = np.ones(variables[v_idx])\n",
    "        ne_var[v_idx].append(f_idx)"
   ]
  },
  {
   "cell_type": "code",
   "execution_count": 13,
   "metadata": {},
   "outputs": [
    {
     "name": "stdout",
     "output_type": "stream",
     "text": [
      "=============== OUTPUT ====================\n",
      "max marginals:\n",
      "[[0.94 0.03 0.03]\n",
      " [0.95 0.02 0.03]\n",
      " [0.9  0.07 0.03]\n",
      " [0.81 0.17 0.02]\n",
      " [0.31 0.69 0.01]\n",
      " [0.11 0.86 0.03]\n",
      " [0.11 0.73 0.16]\n",
      " [0.01 0.81 0.18]\n",
      " [0.03 0.25 0.72]\n",
      " [0.02 0.25 0.72]]\n",
      "map estimate:\n",
      "[0 0 0 0 1 1 1 1 2 2]\n"
     ]
    }
   ],
   "source": [
    "# run inference\n",
    "for it in range(num_iters):\n",
    "  \n",
    "    # for all factor-to-variable messages do\n",
    "    for [key,msg] in msg_fv.items():\n",
    "        f_idx = key[0]\n",
    "        v_idx = key[1]\n",
    "        f_vars = factors[f_idx]['vars']\n",
    "        f_vals = factors[f_idx]['vals']\n",
    "\n",
    "        # unary factor\n",
    "        if np.size(f_vars)==1:\n",
    "              msg_fv[(f_idx,v_idx)] = f_vals\n",
    "\n",
    "        # pairwise factor\n",
    "        else:\n",
    "\n",
    "            # target variable = first variable of factor\n",
    "            if v_idx==f_vars[0]:\n",
    "                msg_vf_mat = np.tile(msg_vf[(f_vars[1],f_idx)],(variables[v_idx],1))\n",
    "                if max_product:\n",
    "                    msg_fv[(f_idx,v_idx)] = np.multiply(msg_vf_mat.transpose(),f_vals.transpose()).max(0)\n",
    "                else:\n",
    "                    msg_fv[(f_idx,v_idx)] = np.multiply(msg_vf_mat.transpose(),f_vals.transpose()).sum(0)\n",
    "\n",
    "            # target variable = second variable of factor\n",
    "            else:\n",
    "                msg_vf_mat = np.tile(msg_vf[(f_vars[0],f_idx)],(variables[v_idx],1))\n",
    "                if max_product:\n",
    "                    msg_fv[(f_idx,v_idx)] = np.multiply(msg_vf_mat.transpose(),f_vals).max(0)\n",
    "                else:\n",
    "                    msg_fv[(f_idx,v_idx)] = np.multiply(msg_vf_mat.transpose(),f_vals).sum(0)\n",
    "\n",
    "    # for all variable-to-factor messages do\n",
    "    for [key,msg] in msg_vf.items():\n",
    "        v_idx = key[0]\n",
    "        f_idx = key[1]\n",
    "        f_vars = factors[f_idx]['vars']\n",
    "        f_vals = factors[f_idx]['vals']\n",
    "\n",
    "        msg_vf[(v_idx,f_idx)] = np.ones((variables[v_idx]))\n",
    "        for f_idx2 in ne_var[v_idx]:\n",
    "            if f_idx2 != f_idx:\n",
    "                msg_vf[(v_idx,f_idx)] = np.multiply(msg_vf[(v_idx,f_idx)],msg_fv[(f_idx2,v_idx)])\n",
    "\n",
    "# normalize marginals and compute map state\n",
    "marginals = np.zeros([num,dim])\n",
    "for v_idx in range(num):\n",
    "    marginals[v_idx] = np.ones((variables[v_idx]))\n",
    "    for f_idx in ne_var[v_idx]:\n",
    "        marginals[v_idx] = np.multiply(marginals[v_idx],msg_fv[(f_idx,v_idx)])\n",
    "        marginals[v_idx] = marginals[v_idx]/np.sum(marginals[v_idx])\n",
    "\n",
    "# output marginals / map state  \n",
    "print (\"=============== OUTPUT ====================\")\n",
    "if max_product:\n",
    "    print(\"max marginals:\")\n",
    "    print (marginals)\n",
    "    print (\"map estimate:\")\n",
    "    print (np.argmax(marginals,axis=1))\n",
    "else:\n",
    "    print (\"marginals:\")\n",
    "    print (marginals)"
   ]
  },
  {
   "cell_type": "code",
   "execution_count": 14,
   "metadata": {},
   "outputs": [
    {
     "ename": "TypeError",
     "evalue": "only size-1 arrays can be converted to Python scalars",
     "output_type": "error",
     "traceback": [
      "\u001b[0;31m---------------------------------------------------------------------------\u001b[0m",
      "\u001b[0;31mTypeError\u001b[0m                                 Traceback (most recent call last)",
      "\u001b[0;32m<ipython-input-14-ec4b3ee343c2>\u001b[0m in \u001b[0;36m<module>\u001b[0;34m\u001b[0m\n\u001b[1;32m      9\u001b[0m \u001b[0mplt\u001b[0m\u001b[0;34m.\u001b[0m\u001b[0msuptitle\u001b[0m\u001b[0;34m(\u001b[0m\u001b[0;34m'Observations'\u001b[0m\u001b[0;34m,\u001b[0m \u001b[0mfontsize\u001b[0m\u001b[0;34m=\u001b[0m\u001b[0;36m16\u001b[0m\u001b[0;34m,\u001b[0m \u001b[0mfontweight\u001b[0m\u001b[0;34m=\u001b[0m\u001b[0;34m'bold'\u001b[0m\u001b[0;34m)\u001b[0m\u001b[0;34m\u001b[0m\u001b[0;34m\u001b[0m\u001b[0m\n\u001b[1;32m     10\u001b[0m \u001b[0;32mfor\u001b[0m \u001b[0mi\u001b[0m \u001b[0;32min\u001b[0m \u001b[0mrange\u001b[0m\u001b[0;34m(\u001b[0m\u001b[0mnum\u001b[0m\u001b[0;34m)\u001b[0m\u001b[0;34m:\u001b[0m\u001b[0;34m\u001b[0m\u001b[0;34m\u001b[0m\u001b[0m\n\u001b[0;32m---> 11\u001b[0;31m     \u001b[0maxarr\u001b[0m\u001b[0;34m[\u001b[0m\u001b[0mi\u001b[0m\u001b[0;34m]\u001b[0m\u001b[0;34m.\u001b[0m\u001b[0mbarh\u001b[0m\u001b[0;34m(\u001b[0m\u001b[0;34m[\u001b[0m\u001b[0;36m0\u001b[0m\u001b[0;34m,\u001b[0m\u001b[0;36m1\u001b[0m\u001b[0;34m,\u001b[0m\u001b[0;36m2\u001b[0m\u001b[0;34m]\u001b[0m\u001b[0;34m,\u001b[0m\u001b[0mnp\u001b[0m\u001b[0;34m.\u001b[0m\u001b[0mones\u001b[0m\u001b[0;34m(\u001b[0m\u001b[0;34m[\u001b[0m\u001b[0;36m3\u001b[0m\u001b[0;34m,\u001b[0m\u001b[0;36m1\u001b[0m\u001b[0;34m]\u001b[0m\u001b[0;34m)\u001b[0m\u001b[0;34m,\u001b[0m\u001b[0mcolor\u001b[0m\u001b[0;34m=\u001b[0m\u001b[0;34m'white'\u001b[0m\u001b[0;34m,\u001b[0m\u001b[0medgecolor\u001b[0m\u001b[0;34m=\u001b[0m\u001b[0;34m'black'\u001b[0m\u001b[0;34m,\u001b[0m\u001b[0mlinewidth\u001b[0m\u001b[0;34m=\u001b[0m\u001b[0;36m2\u001b[0m\u001b[0;34m)\u001b[0m\u001b[0;34m\u001b[0m\u001b[0;34m\u001b[0m\u001b[0m\n\u001b[0m\u001b[1;32m     12\u001b[0m     \u001b[0maxarr\u001b[0m\u001b[0;34m[\u001b[0m\u001b[0mi\u001b[0m\u001b[0;34m]\u001b[0m\u001b[0;34m.\u001b[0m\u001b[0mbarh\u001b[0m\u001b[0;34m(\u001b[0m\u001b[0;34m[\u001b[0m\u001b[0;36m0\u001b[0m\u001b[0;34m,\u001b[0m\u001b[0;36m1\u001b[0m\u001b[0;34m,\u001b[0m\u001b[0;36m2\u001b[0m\u001b[0;34m]\u001b[0m\u001b[0;34m,\u001b[0m\u001b[0munary\u001b[0m\u001b[0;34m[\u001b[0m\u001b[0mi\u001b[0m\u001b[0;34m]\u001b[0m\u001b[0;34m,\u001b[0m\u001b[0mcolor\u001b[0m\u001b[0;34m=\u001b[0m\u001b[0;34m'red'\u001b[0m\u001b[0;34m)\u001b[0m\u001b[0;34m\u001b[0m\u001b[0;34m\u001b[0m\u001b[0m\n\u001b[1;32m     13\u001b[0m     \u001b[0maxarr\u001b[0m\u001b[0;34m[\u001b[0m\u001b[0mi\u001b[0m\u001b[0;34m]\u001b[0m\u001b[0;34m.\u001b[0m\u001b[0maxis\u001b[0m\u001b[0;34m(\u001b[0m\u001b[0;34m'off'\u001b[0m\u001b[0;34m)\u001b[0m\u001b[0;34m\u001b[0m\u001b[0;34m\u001b[0m\u001b[0m\n",
      "\u001b[0;32m~/.local/share/virtualenvs/Probability-and-Inference-luj-rrT2/lib/python3.7/site-packages/matplotlib/axes/_axes.py\u001b[0m in \u001b[0;36mbarh\u001b[0;34m(self, y, width, height, left, align, **kwargs)\u001b[0m\n\u001b[1;32m   2461\u001b[0m         \u001b[0mkwargs\u001b[0m\u001b[0;34m.\u001b[0m\u001b[0msetdefault\u001b[0m\u001b[0;34m(\u001b[0m\u001b[0;34m'orientation'\u001b[0m\u001b[0;34m,\u001b[0m \u001b[0;34m'horizontal'\u001b[0m\u001b[0;34m)\u001b[0m\u001b[0;34m\u001b[0m\u001b[0;34m\u001b[0m\u001b[0m\n\u001b[1;32m   2462\u001b[0m         patches = self.bar(x=left, height=height, width=width, bottom=y,\n\u001b[0;32m-> 2463\u001b[0;31m                            align=align, **kwargs)\n\u001b[0m\u001b[1;32m   2464\u001b[0m         \u001b[0;32mreturn\u001b[0m \u001b[0mpatches\u001b[0m\u001b[0;34m\u001b[0m\u001b[0;34m\u001b[0m\u001b[0m\n\u001b[1;32m   2465\u001b[0m \u001b[0;34m\u001b[0m\u001b[0m\n",
      "\u001b[0;32m~/.local/share/virtualenvs/Probability-and-Inference-luj-rrT2/lib/python3.7/site-packages/matplotlib/__init__.py\u001b[0m in \u001b[0;36minner\u001b[0;34m(ax, data, *args, **kwargs)\u001b[0m\n\u001b[1;32m   1808\u001b[0m                         \u001b[0;34m\"the Matplotlib list!)\"\u001b[0m \u001b[0;34m%\u001b[0m \u001b[0;34m(\u001b[0m\u001b[0mlabel_namer\u001b[0m\u001b[0;34m,\u001b[0m \u001b[0mfunc\u001b[0m\u001b[0;34m.\u001b[0m\u001b[0m__name__\u001b[0m\u001b[0;34m)\u001b[0m\u001b[0;34m,\u001b[0m\u001b[0;34m\u001b[0m\u001b[0;34m\u001b[0m\u001b[0m\n\u001b[1;32m   1809\u001b[0m                         RuntimeWarning, stacklevel=2)\n\u001b[0;32m-> 1810\u001b[0;31m             \u001b[0;32mreturn\u001b[0m \u001b[0mfunc\u001b[0m\u001b[0;34m(\u001b[0m\u001b[0max\u001b[0m\u001b[0;34m,\u001b[0m \u001b[0;34m*\u001b[0m\u001b[0margs\u001b[0m\u001b[0;34m,\u001b[0m \u001b[0;34m**\u001b[0m\u001b[0mkwargs\u001b[0m\u001b[0;34m)\u001b[0m\u001b[0;34m\u001b[0m\u001b[0;34m\u001b[0m\u001b[0m\n\u001b[0m\u001b[1;32m   1811\u001b[0m \u001b[0;34m\u001b[0m\u001b[0m\n\u001b[1;32m   1812\u001b[0m         inner.__doc__ = _add_data_doc(inner.__doc__,\n",
      "\u001b[0;32m~/.local/share/virtualenvs/Probability-and-Inference-luj-rrT2/lib/python3.7/site-packages/matplotlib/axes/_axes.py\u001b[0m in \u001b[0;36mbar\u001b[0;34m(self, x, height, width, bottom, align, **kwargs)\u001b[0m\n\u001b[1;32m   2294\u001b[0m                 \u001b[0medgecolor\u001b[0m\u001b[0;34m=\u001b[0m\u001b[0me\u001b[0m\u001b[0;34m,\u001b[0m\u001b[0;34m\u001b[0m\u001b[0;34m\u001b[0m\u001b[0m\n\u001b[1;32m   2295\u001b[0m                 \u001b[0mlinewidth\u001b[0m\u001b[0;34m=\u001b[0m\u001b[0mlw\u001b[0m\u001b[0;34m,\u001b[0m\u001b[0;34m\u001b[0m\u001b[0;34m\u001b[0m\u001b[0m\n\u001b[0;32m-> 2296\u001b[0;31m                 \u001b[0mlabel\u001b[0m\u001b[0;34m=\u001b[0m\u001b[0;34m'_nolegend_'\u001b[0m\u001b[0;34m,\u001b[0m\u001b[0;34m\u001b[0m\u001b[0;34m\u001b[0m\u001b[0m\n\u001b[0m\u001b[1;32m   2297\u001b[0m                 )\n\u001b[1;32m   2298\u001b[0m             \u001b[0mr\u001b[0m\u001b[0;34m.\u001b[0m\u001b[0mupdate\u001b[0m\u001b[0;34m(\u001b[0m\u001b[0mkwargs\u001b[0m\u001b[0;34m)\u001b[0m\u001b[0;34m\u001b[0m\u001b[0;34m\u001b[0m\u001b[0m\n",
      "\u001b[0;32m~/.local/share/virtualenvs/Probability-and-Inference-luj-rrT2/lib/python3.7/site-packages/matplotlib/patches.py\u001b[0m in \u001b[0;36m__init__\u001b[0;34m(self, xy, width, height, angle, **kwargs)\u001b[0m\n\u001b[1;32m    656\u001b[0m         \"\"\"\n\u001b[1;32m    657\u001b[0m \u001b[0;34m\u001b[0m\u001b[0m\n\u001b[0;32m--> 658\u001b[0;31m         \u001b[0mPatch\u001b[0m\u001b[0;34m.\u001b[0m\u001b[0m__init__\u001b[0m\u001b[0;34m(\u001b[0m\u001b[0mself\u001b[0m\u001b[0;34m,\u001b[0m \u001b[0;34m**\u001b[0m\u001b[0mkwargs\u001b[0m\u001b[0;34m)\u001b[0m\u001b[0;34m\u001b[0m\u001b[0;34m\u001b[0m\u001b[0m\n\u001b[0m\u001b[1;32m    659\u001b[0m \u001b[0;34m\u001b[0m\u001b[0m\n\u001b[1;32m    660\u001b[0m         \u001b[0mself\u001b[0m\u001b[0;34m.\u001b[0m\u001b[0m_x0\u001b[0m \u001b[0;34m=\u001b[0m \u001b[0mxy\u001b[0m\u001b[0;34m[\u001b[0m\u001b[0;36m0\u001b[0m\u001b[0;34m]\u001b[0m\u001b[0;34m\u001b[0m\u001b[0;34m\u001b[0m\u001b[0m\n",
      "\u001b[0;32m~/.local/share/virtualenvs/Probability-and-Inference-luj-rrT2/lib/python3.7/site-packages/matplotlib/patches.py\u001b[0m in \u001b[0;36m__init__\u001b[0;34m(self, edgecolor, facecolor, color, linewidth, linestyle, antialiased, hatch, fill, capstyle, joinstyle, **kwargs)\u001b[0m\n\u001b[1;32m     85\u001b[0m         \u001b[0mself\u001b[0m\u001b[0;34m.\u001b[0m\u001b[0mset_fill\u001b[0m\u001b[0;34m(\u001b[0m\u001b[0mfill\u001b[0m\u001b[0;34m)\u001b[0m\u001b[0;34m\u001b[0m\u001b[0;34m\u001b[0m\u001b[0m\n\u001b[1;32m     86\u001b[0m         \u001b[0mself\u001b[0m\u001b[0;34m.\u001b[0m\u001b[0mset_linestyle\u001b[0m\u001b[0;34m(\u001b[0m\u001b[0mlinestyle\u001b[0m\u001b[0;34m)\u001b[0m\u001b[0;34m\u001b[0m\u001b[0;34m\u001b[0m\u001b[0m\n\u001b[0;32m---> 87\u001b[0;31m         \u001b[0mself\u001b[0m\u001b[0;34m.\u001b[0m\u001b[0mset_linewidth\u001b[0m\u001b[0;34m(\u001b[0m\u001b[0mlinewidth\u001b[0m\u001b[0;34m)\u001b[0m\u001b[0;34m\u001b[0m\u001b[0;34m\u001b[0m\u001b[0m\n\u001b[0m\u001b[1;32m     88\u001b[0m         \u001b[0mself\u001b[0m\u001b[0;34m.\u001b[0m\u001b[0mset_antialiased\u001b[0m\u001b[0;34m(\u001b[0m\u001b[0mantialiased\u001b[0m\u001b[0;34m)\u001b[0m\u001b[0;34m\u001b[0m\u001b[0;34m\u001b[0m\u001b[0m\n\u001b[1;32m     89\u001b[0m         \u001b[0mself\u001b[0m\u001b[0;34m.\u001b[0m\u001b[0mset_hatch\u001b[0m\u001b[0;34m(\u001b[0m\u001b[0mhatch\u001b[0m\u001b[0;34m)\u001b[0m\u001b[0;34m\u001b[0m\u001b[0;34m\u001b[0m\u001b[0m\n",
      "\u001b[0;32m~/.local/share/virtualenvs/Probability-and-Inference-luj-rrT2/lib/python3.7/site-packages/matplotlib/patches.py\u001b[0m in \u001b[0;36mset_linewidth\u001b[0;34m(self, w)\u001b[0m\n\u001b[1;32m    346\u001b[0m                 \u001b[0mw\u001b[0m \u001b[0;34m=\u001b[0m \u001b[0mmpl\u001b[0m\u001b[0;34m.\u001b[0m\u001b[0mrcParams\u001b[0m\u001b[0;34m[\u001b[0m\u001b[0;34m'axes.linewidth'\u001b[0m\u001b[0;34m]\u001b[0m\u001b[0;34m\u001b[0m\u001b[0;34m\u001b[0m\u001b[0m\n\u001b[1;32m    347\u001b[0m \u001b[0;34m\u001b[0m\u001b[0m\n\u001b[0;32m--> 348\u001b[0;31m         \u001b[0mself\u001b[0m\u001b[0;34m.\u001b[0m\u001b[0m_linewidth\u001b[0m \u001b[0;34m=\u001b[0m \u001b[0mfloat\u001b[0m\u001b[0;34m(\u001b[0m\u001b[0mw\u001b[0m\u001b[0;34m)\u001b[0m\u001b[0;34m\u001b[0m\u001b[0;34m\u001b[0m\u001b[0m\n\u001b[0m\u001b[1;32m    349\u001b[0m         \u001b[0;31m# scale the dash pattern by the linewidth\u001b[0m\u001b[0;34m\u001b[0m\u001b[0;34m\u001b[0m\u001b[0;34m\u001b[0m\u001b[0m\n\u001b[1;32m    350\u001b[0m         \u001b[0moffset\u001b[0m\u001b[0;34m,\u001b[0m \u001b[0mls\u001b[0m \u001b[0;34m=\u001b[0m \u001b[0mself\u001b[0m\u001b[0;34m.\u001b[0m\u001b[0m_us_dashes\u001b[0m\u001b[0;34m\u001b[0m\u001b[0;34m\u001b[0m\u001b[0m\n",
      "\u001b[0;31mTypeError\u001b[0m: only size-1 arrays can be converted to Python scalars"
     ]
    },
    {
     "data": {
      "image/png": "[encoded data removed]",
      "text/plain": [
       "<Figure size 720x144 with 10 Axes>"
      ]
     },
     "metadata": {
      "needs_background": "light"
     },
     "output_type": "display_data"
    }
   ],
   "source": [
    "# plot observations and marginals graphically\n",
    "import matplotlib.pyplot as plt\n",
    "import time\n",
    "\n",
    "plt.close()\n",
    "\n",
    "# plot observations\n",
    "f, axarr = plt.subplots(1,10,figsize=(10,2))\n",
    "plt.suptitle('Observations', fontsize=16, fontweight='bold')\n",
    "for i in range(num):\n",
    "    axarr[i].barh([0,1,2],np.ones([3,1]),color='white',edgecolor='black',linewidth=2)\n",
    "    axarr[i].barh([0,1,2],unary[i],color='red')\n",
    "    axarr[i].axis('off')\n",
    "    \n",
    "# plot marginals\n",
    "f, axarr = plt.subplots(1,10,figsize=(10,2))\n",
    "if max_product:\n",
    "    plt.suptitle('Max-Marginals', fontsize=16, fontweight='bold')\n",
    "else:\n",
    "    plt.suptitle('Marginals', fontsize=16, fontweight='bold')\n",
    "for i in range(num):\n",
    "    axarr[i].barh([0,1,2],np.ones([3,1]),color='white',edgecolor='black',linewidth=2)\n",
    "    axarr[i].barh([0,1,2],marginals[i],color='green')\n",
    "    axarr[i].axis('off')\n",
    "    \n",
    "plt.show()\n",
    "\n"
   ]
  },
  {
   "cell_type": "code",
   "execution_count": null,
   "metadata": {
    "collapsed": true
   },
   "outputs": [],
   "source": []
  }
 ],
 "metadata": {
  "kernelspec": {
   "display_name": "Python 3",
   "language": "python",
   "name": "python3"
  },
  "language_info": {
   "codemirror_mode": {
    "name": "ipython",
    "version": 3
   },
   "file_extension": ".py",
   "mimetype": "text/x-python",
   "name": "python",
   "nbconvert_exporter": "python",
   "pygments_lexer": "ipython3",
   "version": "3.7.3"
  }
 },
 "nbformat": 4,
 "nbformat_minor": 1
}
