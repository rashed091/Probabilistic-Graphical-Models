{
 "cells": [
  {
   "cell_type": "markdown",
   "metadata": {},
   "source": [
    "### Example: Vehicle Localization\n",
    "Sample code implementing max-product and sum-product belief propagation"
   ]
  },
  {
   "cell_type": "code",
   "execution_count": 1,
   "metadata": {},
   "outputs": [
    {
     "name": "stdout",
     "output_type": "stream",
     "text": [
      "=============== INPUT ====================\n",
      "unary potentials:\n",
      "[[ 0.7  0.1  0.2]\n",
      " [ 0.7  0.2  0.1]\n",
      " [ 0.2  0.1  0.7]\n",
      " [ 0.7  0.2  0.1]\n",
      " [ 0.2  0.6  0.2]\n",
      " [ 0.1  0.8  0.1]\n",
      " [ 0.4  0.3  0.3]\n",
      " [ 0.1  0.8  0.1]\n",
      " [ 0.1  0.1  0.8]\n",
      " [ 0.1  0.5  0.4]]\n",
      "pairwise potential:\n",
      "[[ 0.8  0.2  0. ]\n",
      " [ 0.2  0.6  0.2]\n",
      " [ 0.   0.2  0.8]]\n"
     ]
    }
   ],
   "source": [
    "# setup model\n",
    "import sys\n",
    "import numpy as np\n",
    "from numpy import array as arr\n",
    "\n",
    "# general parameters\n",
    "max_product = 0 # max-product vs. sum-product\n",
    "num_iters = 10\n",
    "\n",
    "# model parameters\n",
    "unary = np.array([[0.7,0.1,0.2],[0.7,0.2,0.1],[0.2,0.1,0.7],[0.7,0.2,0.1],\n",
    "                  [0.2,0.6,0.2],[0.1,0.8,0.1],[0.4,0.3,0.3],[0.1,0.8,0.1],\n",
    "                  [0.1,0.1,0.8],[0.1,0.5,0.4]])\n",
    "pairwise = arr([[0.8,0.2,0.0],[0.2,0.6,0.2],[0.0,0.2,0.8]])\n",
    "[num,dim] = unary.shape\n",
    "np.set_printoptions(precision=2)\n",
    "\n",
    "# print unaries\n",
    "print \"=============== INPUT ====================\"\n",
    "print \"unary potentials:\"\n",
    "print unary\n",
    "print \"pairwise potential:\"\n",
    "print pairwise"
   ]
  },
  {
   "cell_type": "code",
   "execution_count": 2,
   "metadata": {
    "collapsed": true
   },
   "outputs": [],
   "source": [
    "# initialize variables and factors\n",
    "variables = dim*np.ones(num,dtype=np.int64)\n",
    "factors = []\n",
    "\n",
    "# unary\n",
    "for i in range(num):\n",
    "    factors.append({'vars':arr([i]), 'vals':arr(unary[i])})\n",
    "\n",
    "# pairwise\n",
    "for i in range(num-1):\n",
    "    factors.append({'vars':arr([i,i+1]), 'vals':pairwise})\n",
    "\n",
    "# init all messages to zero\n",
    "msg_fv = {}\n",
    "msg_vf = {}\n",
    "ne_var = [[] for i in range(num)]\n",
    "for [f_idx,f] in enumerate(factors):\n",
    "    for v_idx in f['vars']:\n",
    "        msg_fv[(f_idx,v_idx)] = np.ones(variables[v_idx])\n",
    "        msg_vf[(v_idx,f_idx)] = np.ones(variables[v_idx])\n",
    "        ne_var[v_idx].append(f_idx)"
   ]
  },
  {
   "cell_type": "code",
   "execution_count": 3,
   "metadata": {},
   "outputs": [
    {
     "name": "stdout",
     "output_type": "stream",
     "text": [
      "=============== OUTPUT ====================\n",
      "marginals:\n",
      "[[ 0.9   0.05  0.04]\n",
      " [ 0.89  0.07  0.04]\n",
      " [ 0.85  0.09  0.06]\n",
      " [ 0.77  0.2   0.03]\n",
      " [ 0.28  0.7   0.02]\n",
      " [ 0.09  0.88  0.03]\n",
      " [ 0.15  0.67  0.18]\n",
      " [ 0.02  0.8   0.18]\n",
      " [ 0.04  0.22  0.74]\n",
      " [ 0.03  0.36  0.61]]\n"
     ]
    }
   ],
   "source": [
    "# run inference\n",
    "for it in range(num_iters):\n",
    "  \n",
    "    # for all factor-to-variable messages do\n",
    "    for [key,msg] in msg_fv.items():\n",
    "        f_idx = key[0]\n",
    "        v_idx = key[1]\n",
    "        f_vars = factors[f_idx]['vars']\n",
    "        f_vals = factors[f_idx]['vals']\n",
    "\n",
    "        # unary factor\n",
    "        if np.size(f_vars)==1:\n",
    "              msg_fv[(f_idx,v_idx)] = f_vals\n",
    "\n",
    "        # pairwise factor\n",
    "        else:\n",
    "\n",
    "            # target variable = first variable of factor\n",
    "            if v_idx==f_vars[0]:\n",
    "                msg_vf_mat = np.tile(msg_vf[(f_vars[1],f_idx)],(variables[v_idx],1))\n",
    "                if max_product:\n",
    "                    msg_fv[(f_idx,v_idx)] = np.multiply(msg_vf_mat.transpose(),f_vals.transpose()).max(0)\n",
    "                else:\n",
    "                    msg_fv[(f_idx,v_idx)] = np.multiply(msg_vf_mat.transpose(),f_vals.transpose()).sum(0)\n",
    "\n",
    "            # target variable = second variable of factor\n",
    "            else:\n",
    "                msg_vf_mat = np.tile(msg_vf[(f_vars[0],f_idx)],(variables[v_idx],1))\n",
    "                if max_product:\n",
    "                    msg_fv[(f_idx,v_idx)] = np.multiply(msg_vf_mat.transpose(),f_vals).max(0)\n",
    "                else:\n",
    "                    msg_fv[(f_idx,v_idx)] = np.multiply(msg_vf_mat.transpose(),f_vals).sum(0)\n",
    "\n",
    "    # for all variable-to-factor messages do\n",
    "    for [key,msg] in msg_vf.items():\n",
    "        v_idx = key[0]\n",
    "        f_idx = key[1]\n",
    "        f_vars = factors[f_idx]['vars']\n",
    "        f_vals = factors[f_idx]['vals']\n",
    "\n",
    "        msg_vf[(v_idx,f_idx)] = np.ones((variables[v_idx]))\n",
    "        for f_idx2 in ne_var[v_idx]:\n",
    "            if f_idx2 != f_idx:\n",
    "                msg_vf[(v_idx,f_idx)] = np.multiply(msg_vf[(v_idx,f_idx)],msg_fv[(f_idx2,v_idx)])\n",
    "\n",
    "# normalize marginals and compute map state\n",
    "marginals = np.zeros([num,dim])\n",
    "for v_idx in range(num):\n",
    "    marginals[v_idx] = np.ones((variables[v_idx]))\n",
    "    for f_idx in ne_var[v_idx]:\n",
    "        marginals[v_idx] = np.multiply(marginals[v_idx],msg_fv[(f_idx,v_idx)])\n",
    "        marginals[v_idx] = marginals[v_idx]/np.sum(marginals[v_idx])\n",
    "\n",
    "# output marginals / map state  \n",
    "print \"=============== OUTPUT ====================\"\n",
    "if max_product:\n",
    "    print \"max marginals:\"\n",
    "    print marginals\n",
    "    print \"map estimate:\"\n",
    "    print np.argmax(marginals,axis=1)\n",
    "else:\n",
    "    print \"marginals:\"\n",
    "    print marginals"
   ]
  },
  {
   "cell_type": "code",
   "execution_count": 4,
   "metadata": {},
   "outputs": [
    {
     "data": {
      "image/png": "[encoded data removed]",
      "text/plain": [
       "<matplotlib.figure.Figure at 0x7f27d38b9950>"
      ]
     },
     "metadata": {},
     "output_type": "display_data"
    },
    {
     "data": {
      "image/png": "[encoded data removed]",
      "text/plain": [
       "<matplotlib.figure.Figure at 0x7f27d05cc190>"
      ]
     },
     "metadata": {},
     "output_type": "display_data"
    }
   ],
   "source": [
    "# plot observations and marginals graphically\n",
    "import matplotlib.pyplot as plt\n",
    "import time\n",
    "\n",
    "plt.close()\n",
    "\n",
    "# plot observations\n",
    "f, axarr = plt.subplots(1,10,figsize=(10,2))\n",
    "plt.suptitle('Observations', fontsize=16, fontweight='bold')\n",
    "for i in range(num):\n",
    "    axarr[i].barh([0,1,2],np.ones([3,1]),color='white',edgecolor='black',linewidth=2)\n",
    "    axarr[i].barh([0,1,2],unary[i],color='red')\n",
    "    axarr[i].axis('off')\n",
    "    \n",
    "# plot marginals\n",
    "f, axarr = plt.subplots(1,10,figsize=(10,2))\n",
    "if max_product:\n",
    "    plt.suptitle('Max-Marginals', fontsize=16, fontweight='bold')\n",
    "else:\n",
    "    plt.suptitle('Marginals', fontsize=16, fontweight='bold')\n",
    "for i in range(num):\n",
    "    axarr[i].barh([0,1,2],np.ones([3,1]),color='white',edgecolor='black',linewidth=2)\n",
    "    axarr[i].barh([0,1,2],marginals[i],color='green')\n",
    "    axarr[i].axis('off')\n",
    "    \n",
    "plt.show()\n",
    "\n"
   ]
  },
  {
   "cell_type": "code",
   "execution_count": null,
   "metadata": {
    "collapsed": true
   },
   "outputs": [],
   "source": []
  }
 ],
 "metadata": {
  "kernelspec": {
   "display_name": "Python 3",
   "language": "python",
   "name": "python3"
  },
  "language_info": {
   "codemirror_mode": {
    "name": "ipython",
    "version": 3
   },
   "file_extension": ".py",
   "mimetype": "text/x-python",
   "name": "python",
   "nbconvert_exporter": "python",
   "pygments_lexer": "ipython3",
   "version": "3.7.3"
  }
 },
 "nbformat": 4,
 "nbformat_minor": 1
}
