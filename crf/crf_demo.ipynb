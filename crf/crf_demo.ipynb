{
 "cells": [
  {
   "cell_type": "code",
   "execution_count": 1,
   "metadata": {
    "collapsed": true
   },
   "outputs": [],
   "source": [
    "from CRF import CRF\n",
    "from utils import crf_train_loop\n",
    "import numpy as np\n",
    "import torch"
   ]
  },
  {
   "cell_type": "code",
   "execution_count": 2,
   "metadata": {
    "collapsed": true
   },
   "outputs": [],
   "source": [
    "# two dice one is fair, one is loaded\n",
    "fair_dice = np.array([1/6]*6)\n",
    "loaded_dice = np.array([0.04,0.04,0.04,0.04,0.04,0.8])\n",
    "\n",
    "probabilities = {'fair': fair_dice,\n",
    "                'loaded': loaded_dice}"
   ]
  },
  {
   "cell_type": "code",
   "execution_count": 3,
   "metadata": {
    "collapsed": true
   },
   "outputs": [],
   "source": [
    "# if dice is fair at time t, 0.6 chance we stay fair, 0.4 chance it is loaded at time 2\n",
    "transition_mat = {'fair': np.array([0.6, 0.4, 0.0]),\n",
    "                 'loaded': np.array([0.3, 0.7, 0.0]),\n",
    "                 'start': np.array([0.5, 0.5, 0.0])}\n",
    "states = ['fair', 'loaded', 'start']\n",
    "state2ix = {'fair': 0,\n",
    "           'loaded': 1,\n",
    "           'start': 2}\n",
    "\n",
    "log_likelihood = np.hstack([np.log(fair_dice).reshape(-1,1), \n",
    "                            np.log(loaded_dice).reshape(-1,1)])"
   ]
  },
  {
   "cell_type": "code",
   "execution_count": 4,
   "metadata": {
    "collapsed": true
   },
   "outputs": [],
   "source": [
    "def simulate_data(n_timesteps):\n",
    "    data = np.zeros(n_timesteps)\n",
    "    prev_state = 'start'\n",
    "    state_list = np.zeros(n_timesteps)\n",
    "    for n in range(n_timesteps):\n",
    "        next_state = np.random.choice(states, p=transition_mat[prev_state])\n",
    "        state_list[n] = state2ix[next_state]\n",
    "        next_data = np.random.choice([0,1,2,3,4,5], p=probabilities[next_state])\n",
    "        data[n] = next_data\n",
    "        prev_state = next_state\n",
    "    return data, state_list"
   ]
  },
  {
   "cell_type": "code",
   "execution_count": 5,
   "metadata": {},
   "outputs": [],
   "source": [
    "n_obs = 15\n",
    "rolls = np.zeros((5000, n_obs)).astype(int)\n",
    "targets = np.zeros((5000, n_obs)).astype(int)\n",
    "\n",
    "for i in range(5000):\n",
    "    data, dices = simulate_data(n_obs)\n",
    "    rolls[i] = data.reshape(1, -1).astype(int)\n",
    "    targets[i] = dices.reshape(1, -1).astype(int)\n"
   ]
  },
  {
   "cell_type": "code",
   "execution_count": null,
   "metadata": {
    "collapsed": true
   },
   "outputs": [],
   "source": [
    "model = CRF(2, log_likelihood)"
   ]
  },
  {
   "cell_type": "code",
   "execution_count": null,
   "metadata": {
    "scrolled": true
   },
   "outputs": [
    {
     "name": "stdout",
     "output_type": "stream",
     "text": [
      "Epoch 0: Batch 0/100 loss is 12.0569\n",
      "Epoch 0: Batch 1/100 loss is 7.5017\n",
      "Epoch 0: Batch 2/100 loss is 7.3981\n",
      "Epoch 0: Batch 3/100 loss is 7.0718\n",
      "Epoch 0: Batch 4/100 loss is 7.1291\n",
      "Epoch 0: Batch 5/100 loss is 7.2085\n",
      "Epoch 0: Batch 6/100 loss is 7.2193\n",
      "Epoch 0: Batch 7/100 loss is 7.9664\n",
      "Epoch 0: Batch 8/100 loss is 7.1083\n",
      "Epoch 0: Batch 9/100 loss is 7.7929\n",
      "Epoch 0: Batch 10/100 loss is 7.1832\n",
      "Epoch 0: Batch 11/100 loss is 7.0405\n",
      "Epoch 0: Batch 12/100 loss is 7.3751\n",
      "Epoch 0: Batch 13/100 loss is 7.4534\n",
      "Epoch 0: Batch 14/100 loss is 7.2513\n",
      "Epoch 0: Batch 15/100 loss is 6.7386\n",
      "Epoch 0: Batch 16/100 loss is 7.1120\n",
      "Epoch 0: Batch 17/100 loss is 7.7527\n",
      "Epoch 0: Batch 18/100 loss is 7.3870\n",
      "Epoch 0: Batch 19/100 loss is 7.0290\n",
      "Epoch 0: Batch 20/100 loss is 7.4686\n",
      "Epoch 0: Batch 21/100 loss is 7.2330\n",
      "Epoch 0: Batch 22/100 loss is 6.9453\n",
      "Epoch 0: Batch 23/100 loss is 6.9831\n",
      "Epoch 0: Batch 24/100 loss is 7.7516\n",
      "Epoch 0: Batch 25/100 loss is 7.4639\n",
      "Epoch 0: Batch 26/100 loss is 6.5551\n",
      "Epoch 0: Batch 27/100 loss is 7.2287\n",
      "Epoch 0: Batch 28/100 loss is 7.2514\n",
      "Epoch 0: Batch 29/100 loss is 6.7749\n",
      "Epoch 0: Batch 30/100 loss is 7.2867\n",
      "Epoch 0: Batch 31/100 loss is 7.2594\n",
      "Epoch 0: Batch 32/100 loss is 6.9511\n",
      "Epoch 0: Batch 33/100 loss is 7.3330\n",
      "Epoch 0: Batch 34/100 loss is 7.3365\n",
      "Epoch 0: Batch 35/100 loss is 6.7649\n",
      "Epoch 0: Batch 36/100 loss is 7.1755\n",
      "Epoch 0: Batch 37/100 loss is 7.8995\n",
      "Epoch 0: Batch 38/100 loss is 6.9458\n",
      "Epoch 0: Batch 39/100 loss is 7.7458\n",
      "Epoch 0: Batch 40/100 loss is 6.8732\n",
      "Epoch 0: Batch 41/100 loss is 7.1500\n",
      "Epoch 0: Batch 42/100 loss is 7.6149\n",
      "Epoch 0: Batch 43/100 loss is 7.0920\n",
      "Epoch 0: Batch 44/100 loss is 7.2141\n",
      "Epoch 0: Batch 45/100 loss is 7.5920\n",
      "Epoch 0: Batch 46/100 loss is 7.3973\n",
      "Epoch 0: Batch 47/100 loss is 7.2368\n",
      "Epoch 0: Batch 48/100 loss is 6.5320\n",
      "Epoch 0: Batch 49/100 loss is 7.1402\n",
      "Epoch 0: Batch 50/100 loss is 6.7612\n",
      "Epoch 0: Batch 51/100 loss is 7.0600\n",
      "Epoch 0: Batch 52/100 loss is 7.0216\n",
      "Epoch 0: Batch 53/100 loss is 7.3675\n",
      "Epoch 0: Batch 54/100 loss is 6.6253\n",
      "Epoch 0: Batch 55/100 loss is 7.0187\n",
      "Epoch 0: Batch 56/100 loss is 7.0818\n",
      "Epoch 0: Batch 57/100 loss is 6.5220\n",
      "Epoch 0: Batch 58/100 loss is 7.2855\n",
      "Epoch 0: Batch 59/100 loss is 7.3942\n",
      "Epoch 0: Batch 60/100 loss is 6.9189\n",
      "Epoch 0: Batch 61/100 loss is 6.6716\n",
      "Epoch 0: Batch 62/100 loss is 7.5090\n",
      "Epoch 0: Batch 63/100 loss is 6.9256\n",
      "Epoch 0: Batch 64/100 loss is 6.5940\n",
      "Epoch 0: Batch 65/100 loss is 6.9161\n",
      "Epoch 0: Batch 66/100 loss is 6.9652\n",
      "Epoch 0: Batch 67/100 loss is 6.0940\n",
      "Epoch 0: Batch 68/100 loss is 6.3336\n",
      "Epoch 0: Batch 69/100 loss is 7.2474\n",
      "Epoch 0: Batch 70/100 loss is 6.9895\n",
      "Epoch 0: Batch 71/100 loss is 6.8559\n",
      "Epoch 0: Batch 72/100 loss is 6.7549\n"
     ]
    }
   ],
   "source": [
    "model = crf_train_loop(model, rolls, targets, 1, 0.001)"
   ]
  },
  {
   "cell_type": "code",
   "execution_count": null,
   "metadata": {
    "collapsed": true
   },
   "outputs": [],
   "source": [
    "torch.save(model.state_dict(), \"./checkpoint.hdf5\")"
   ]
  },
  {
   "cell_type": "code",
   "execution_count": null,
   "metadata": {
    "collapsed": true
   },
   "outputs": [],
   "source": [
    "model.load_state_dict(torch.load(\"./checkpoint.hdf5\"))"
   ]
  },
  {
   "cell_type": "code",
   "execution_count": null,
   "metadata": {},
   "outputs": [],
   "source": [
    "data, dices = simulate_data(15)\n",
    "test_rolls = data.reshape(1, -1).astype(int)\n",
    "test_targets = dices.reshape(1, -1).astype(int)"
   ]
  },
  {
   "cell_type": "code",
   "execution_count": null,
   "metadata": {},
   "outputs": [],
   "source": [
    "test_rolls[0]"
   ]
  },
  {
   "cell_type": "code",
   "execution_count": null,
   "metadata": {},
   "outputs": [],
   "source": [
    "model.forward(test_rolls[0])[0]"
   ]
  },
  {
   "cell_type": "code",
   "execution_count": null,
   "metadata": {},
   "outputs": [],
   "source": [
    "test_targets[0]"
   ]
  },
  {
   "cell_type": "code",
   "execution_count": null,
   "metadata": {},
   "outputs": [],
   "source": [
    "list(model.parameters())[0].data.numpy()"
   ]
  },
  {
   "cell_type": "code",
   "execution_count": null,
   "metadata": {
    "collapsed": true
   },
   "outputs": [],
   "source": [
    "data, dices = simulate_data(15)\n",
    "test_rolls = data.reshape(1, -1).astype(int)\n",
    "test_targets = dices.reshape(1, -1).astype(int)"
   ]
  },
  {
   "cell_type": "code",
   "execution_count": null,
   "metadata": {},
   "outputs": [],
   "source": [
    "test_rolls[0]"
   ]
  },
  {
   "cell_type": "code",
   "execution_count": null,
   "metadata": {},
   "outputs": [],
   "source": [
    "model.forward(test_rolls[0])[0]"
   ]
  },
  {
   "cell_type": "code",
   "execution_count": null,
   "metadata": {},
   "outputs": [],
   "source": [
    "test_targets[0]"
   ]
  },
  {
   "cell_type": "code",
   "execution_count": null,
   "metadata": {
    "collapsed": true
   },
   "outputs": [],
   "source": []
  }
 ],
 "metadata": {
  "kernelspec": {
   "display_name": "Python 3",
   "language": "python",
   "name": "python3"
  },
  "language_info": {
   "codemirror_mode": {
    "name": "ipython",
    "version": 3
   },
   "file_extension": ".py",
   "mimetype": "text/x-python",
   "name": "python",
   "nbconvert_exporter": "python",
   "pygments_lexer": "ipython3",
   "version": "3.6.1"
  }
 },
 "nbformat": 4,
 "nbformat_minor": 2
}
