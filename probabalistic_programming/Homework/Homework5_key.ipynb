{
 "cells": [
  {
   "cell_type": "markdown",
   "metadata": {},
   "source": [
    "# Homework 5\n",
    "## CSCI E-82A\n",
    "\n",
    "## Background\n",
    "\n",
    "Robotics are becoming common place in many business situations. For example in retail sales robotics are used in warehouse management. Amazon is widely known to be a leader in this area. But, according to a recent Wall Street Journal article, UK online grocery retailer, Ocado, is rumored to have even more sophisticated order fulfilment robotics.\n",
    "\n",
    "https://www.wsj.com/articles/how-robots-and-drones-will-change-retail-forever-1539604800   \n",
    "\n",
    "Not surprisingly, companies like Amazon and Ocado do not disclose much information on their robotics. Nonetheless, we can be sure that sensor fusion is a significant problem. For example, sensor fusion is a significant issue with self driving cars. See for example:\n",
    "\n",
    "https://arxiv.org/ftp/arxiv/papers/0709/0709.1099.pdf  \n",
    "\n",
    "These types of complex robots require years, even decades, to develop and perfect. In reality, the processes used in such complex robots are decomposable into a large number of **simple single tasks**. The complete system then operates by integrating the many single tasks into a **multi-task** environment. To avoid this complexity (and finish the course in less than 10 years:) you will address a simple single task problem. \n",
    "\n",
    "Bob's Orchards is a premium seller of apples and pears. Bob's customers pay a substantial premium for superior fruit. To satisfy these customers, Bob's must ensure that the fruit delivered is correctly packed and perfectly ripe. \n",
    "\n",
    "Like many legacy industries requiring specialized human skills, Bob's is facing a talent problem. Many of the human inspectors who expertly check each piece of fruit shipped for ripeness are approaching retirement age. Management's attempts to recruit younger people to apprentice as fruit inspectors have been, well, fruitless (oh, sorry!:). Therefore, it has become imperative to find some type of automated system which can reduce the workload on the diminishing number of human inspectors. To address this problem, Bob's is deploying technology from Robots R Us.\n"
   ]
  },
  {
   "cell_type": "markdown",
   "metadata": {},
   "source": [
    "\n",
    "## Scenario  \n",
    "\n",
    "The first robotic system to be deployed at Bob's uses a multi-sensor array to determine if the fruit being shipped is at the correct ripeness. There are two sensors, a vision system that examines the fruit for spots, indicating the fruit is over ripe, and a smell sensor that determines if the fruit is not ripe enough. If either sensor indicates the fruit is bad it is sent to a human inspector. In addition customers may reject even perfect fruit for no apparent reason, whereas others seem perfectly happy with less than perfect fruit.   \n",
    "\n",
    "The probability distributions, decisions and utilities of this system can be summarized as follows:\n",
    "1. The unconditional probability distribution of the ripeness of the fruit being packed is known\n",
    "2. The probability that each sensor reads correctly or not is known experimentally. A table must be constructed that gives computes the conditional probability of accepting or rejecting fruit given the actual ripeness. More on this latter.\n",
    "3. The decision is then made to have a human inspector examine the fruit or not. \n",
    "4. The utility of the human inspection of the fruit. \n",
    "4. The conditional probability of a customer accepting or not good depending on if the order is good or bad. \n",
    "5. The utility of the customer accepting or rejecting an order.  "
   ]
  },
  {
   "cell_type": "markdown",
   "metadata": {},
   "source": [
    "## Instructions\n",
    "\n",
    "You have been hired as a consultant to determine the optimal decision process for the ripeness testing robot. To perform this analysis you will do the following steps:\n",
    "\n",
    "1. Draw an influence diagram for the fruit inspection task. \n",
    "2. Use Python, with numpy and optionally Pandas, compute and compare the utility for using robot aided inspection.\n",
    "3. Compare the utility of robot aided inspection to the current manual inspection process. "
   ]
  },
  {
   "cell_type": "markdown",
   "metadata": {},
   "source": [
    "## Analysis\n",
    "\n",
    "Once you have completed your influence diagram, display it here by replacing the influence.jpg file. \n",
    "\n",
    "<img src=\"Influence.jpg\" alt=\"Drawing\" style=\"width:600px; height:400px\"/>\n",
    "<center> **Your influence diagram must go here** </center>\n",
    "\n",
    "\n",
    "<img src=\"InfluenceSample.jpg\" alt=\"Drawing\" style=\"width:600px; height:400px\"/>\n",
    "<center> **Here is a sample answer** </center>\n",
    "\n",
    "> **Note:** You can save your figure as a file titled Influence.jpg in the same directory as your notebook. The figure should then be visible in the notebook and in the .html you will download. \n",
    "\n",
    "Before you proceed, execute the code in the cell below:"
   ]
  },
  {
   "cell_type": "code",
   "execution_count": 23,
   "metadata": {},
   "outputs": [],
   "source": [
    "import numpy as np\n",
    "import pandas as pd"
   ]
  },
  {
   "cell_type": "markdown",
   "metadata": {},
   "source": [
    "You will now perform variable elimination on your influence diagram. You will start with the conditional probability of the customer being satisfied and the order and the utility of order delivery. \n",
    "\n",
    "The conditional probability of the customer being satisfied is shown here:\n",
    "\n",
    "| | good order | bad order |\n",
    "|----|----|----|\n",
    "| satisfied | 0.95 | 0.10 |\n",
    "| not satisfied | 0.05 | 0.90 |\n",
    "\n",
    "And the utility of the satisfied and unsatisfied customers is:\n",
    "\n",
    "|  | Satisfied | Not Satisfied |\n",
    "|----|----|----|\n",
    "|Utility | 20 | -40 |\n",
    "\n",
    "Now, given these tables, compute the marginal utility for customers with good and bad orders. "
   ]
  },
  {
   "cell_type": "code",
   "execution_count": 24,
   "metadata": {},
   "outputs": [
    {
     "name": "stdout",
     "output_type": "stream",
     "text": [
      "Expected utility for delivery\n",
      "[[ 19.   2.]\n",
      " [ -2. -36.]]\n",
      "\n",
      "Marginal expected utility of good and bad delivery\n",
      "[ 17. -34.]\n"
     ]
    }
   ],
   "source": [
    "## probabilities of satisfied customer for good and bad orders. \n",
    "p_satisfied = np.array([[0.95, 0.1], [0.05, 0.90]])\n",
    "## Utility of satisfied and unsatisfied customers for good and bad orders. \n",
    "U2 = np.array([20, -40]) \n",
    "U2_expected = np.transpose(np.multiply(np.transpose(p_satisfied), U2))\n",
    "print('Expected utility for delivery')\n",
    "print(U2_expected)\n",
    "\n",
    "U2_satisfied = np.sum(U2_expected, axis = 0)\n",
    "print('\\nMarginal expected utility of good and bad delivery')\n",
    "print(U2_satisfied)"
   ]
  },
  {
   "cell_type": "markdown",
   "metadata": {},
   "source": [
    "With the first set of variables eliminated, you will deal with eliminating the second set of variables, Your goal is to find the marginal distribution of good and bad orders given the inspection, or not, of packages for suspected bad orders. Keep in mind that some bad orders will not be correctly detected. \n",
    "\n",
    "Most unfortunately for Bob's, Robots R U engineers have little experience with fruit processing and the sensors are known to be unreliable. The probability of a correct reading from the spot sensor is 0.9 and for the smell sensor the probability of a correct reading is 0.7. If ether sensor indicates the fruit is not ripe, we consider the fruit as bad. This leads to 4 possible result states when integrating data from these sensors:   \n",
    "- The fruit is actually good, a true positive   \n",
    "- Good fruit is considered bad, a false negative.   \n",
    "- The fruit is actually bad, a true negative.   \n",
    "- Bad fruit is considered good, a false positive.    \n",
    "\n",
    "Since we demand agreement from both sensors that the fruit is good we must construct a table based on the following logic. This leads to the following interpretation of the sensor tuples (spots, smell); \n",
    "- Both sensors indicate good (G,G), in which case the fruit is assumed good.    \n",
    "- Either or both sensors indicate the fruit is bad (G,B, B,G, BB) in which case the fruit is assumed bad. \n",
    "    \n",
    "The tuple of states of the spot and smell sensors can be any of the following 4, where T = true reading, F = false reading:    \n",
    "- The spot and smell sensors can both read correctly;(T,T),\n",
    "- The spot sensor reads correctly, but the smell sensor reads in error; (T,F),\n",
    "- The spot sensor reads in error, and the smell sensor reads correctly; (F,T),\n",
    "- Both the spot and smell sensors read in error; (F,F). \n",
    "\n",
    "Now, the two sensors work independently, and measure quite different physical properties of the fruit, so it is a good assumption the probability of true and false readings for the two senors are statistically independent. Given this logic, the probabilities for the CPD table are computed using the probabilities of true and false readings of the spot and smell sensors, (p(spot), p(smell)), as follows:     \n",
    "\n",
    "|Classification | G,G | G,B | B, G | B,B |\n",
    "|----|----|----|----|----|\n",
    "|Good| p(T) * p(T) | 0.0 | 0.0 |0.0 |\n",
    "|Good as Bad | 0.0 | p(T) * p(F) | p(F) * p(T) | p(F) * p(F) |\n",
    "|Bad | 0.0 | p(T)*p(T) + p(F)*p(T) + p(F) * p(F)  | p(T) *p(T) + p(T) *p(F) + p(F) * p(F) | p(T) *p(T) + p(F) *p(T) + p(T) *p(F) |\n",
    "| Bad as Good | p(F) * p(F) + p(T) * p(F) + p(F) * p(T) | 0.0 | 0.0  | 0.0 |\n",
    "\n",
    "As you might expect given the focus on quality, Bob's has developed a process to ensure fruit entering the shipping stage of its process is ripe. However, given the practical issues around picking fruit in a real world orchard, the probability that fruit at this stage of the process is ripe is 0.8. There are several ways you might represent this information in your model. Perhaps the simplest way is:\n",
    "\n",
    "| | Good | Good as Bad | Bad | Bad as Good |\n",
    "|----|----|----|----|----|\n",
    "|Probability| 0.8 | 0.8 | 0.2 | 0.2 |\n",
    "\n",
    "Given these tables, compute the marginal distribution of correct and incorrect orders, Good, Good as Bad, Bad and Bad as Good."
   ]
  },
  {
   "cell_type": "code",
   "execution_count": 25,
   "metadata": {},
   "outputs": [
    {
     "name": "stdout",
     "output_type": "stream",
     "text": [
      "Probabilities of correct and incorrt identification of ripe\n",
      "[[0.63 0.   0.   0.  ]\n",
      " [0.   0.27 0.07 0.03]\n",
      " [0.   0.73 0.93 0.97]\n",
      " [0.37 0.   0.   0.  ]]\n",
      "\n",
      "Probabilities of ripe fruit given sensors\n",
      "[[0.504 0.    0.    0.   ]\n",
      " [0.    0.216 0.056 0.024]\n",
      " [0.    0.146 0.186 0.194]\n",
      " [0.074 0.    0.    0.   ]]\n",
      "\n",
      "Unormalized marginal dist of good, good as bad, bad, bad as good\n",
      "[0.504 0.296 0.526 0.074]\n",
      "\n",
      "Marginal dist of good, good as bad, bad, bad as good\n",
      "[0.36       0.21142857 0.37571429 0.05285714]\n",
      "0.9999999999999999\n"
     ]
    }
   ],
   "source": [
    "## Pobabilites for \n",
    "## Cols, Spots,Smell =  GG - GB - BG - BB\n",
    "## Rows, Actual,Classified = Good, Good as Bad, Bad, Bad as Good\n",
    "p_ripe_sensors = np.array([[.9*.7, 0.0, 0.0, 0.0],\n",
    "                           [0.0, .9*.3, .1*.7, .1*.3],\n",
    "                           [0.0, .9*.7 + .1*.7 + .1*.3, .9*.7 + .9*.3 + .1*.3, .9*.7 + .1*.7 + .9*.3 ],\n",
    "                           [.1*.3 + .1*.7 + .9*.3, 0.0, 0.0, 0.0] ])\n",
    "print('Probabilities of correct and incorrt identification of ripe')\n",
    "print(p_ripe_sensors)\n",
    "\n",
    "## Probabilites of actually ripe friut\n",
    "p_actually_ripe = [0.8, 0.8, 0.2, 0.2]\n",
    "\n",
    "## Compute the probabilities of actual good and bad calculations\n",
    "p_ripe_estimate = np.transpose(np.multiply(np.transpose(p_ripe_sensors), p_actually_ripe))\n",
    "print('\\nProbabilities of ripe fruit given sensors')\n",
    "print(p_ripe_estimate)\n",
    "\n",
    "## Compute the marginal of correct and incorrect outcomes\n",
    "p_ripe_marginal = np.sum(p_ripe_estimate, axis = 1)\n",
    "print('\\nUnormalized marginal dist of good, good as bad, bad, bad as good')\n",
    "print(p_ripe_marginal)\n",
    "print('\\nMarginal dist of good, good as bad, bad, bad as good')\n",
    "p_ripe_marginal = p_ripe_marginal/np.sum(p_ripe_marginal)\n",
    "print(p_ripe_marginal)\n",
    "print(np.sum(p_ripe_marginal))"
   ]
  },
  {
   "cell_type": "markdown",
   "metadata": {},
   "source": [
    "Question: Given the unreliability of the sensors, is more bad fruit classified as bad or more good fruit classified as bad? "
   ]
  },
  {
   "cell_type": "markdown",
   "metadata": {},
   "source": [
    "ANS: More bad fruit is classified as bad. "
   ]
  },
  {
   "cell_type": "markdown",
   "metadata": {},
   "source": [
    "For the next step of this analysis you must compute the marginal utility of inspecting suspected bad fruit (Good, Good as Bad, Bad, Bad as G). The utility of such an inspection is -10. Again, there are several ways to represent the utility of inspection in your model. One possibility is:\n",
    "\n",
    "| | Good | Good as Bad | Bad | Bad as Good |\n",
    "|----|----|----|----|----|\n",
    "|Utility| 0.0 | 10.0 | 10.0 | 0.0 |"
   ]
  },
  {
   "cell_type": "code",
   "execution_count": 26,
   "metadata": {},
   "outputs": [
    {
     "name": "stdout",
     "output_type": "stream",
     "text": [
      "[[ 0.    0.    0.    0.  ]\n",
      " [-0.   -2.16 -0.56 -0.24]\n",
      " [-0.   -1.46 -1.86 -1.94]\n",
      " [ 0.    0.    0.    0.  ]]\n",
      "\n",
      "Marginal utility of inspecting suspect friut\n",
      "[ 0.   -2.96 -5.26  0.  ]\n"
     ]
    }
   ],
   "source": [
    "U1 = np.array([0.0, -10.0, -10.0, 0.0]) ## Utility to inspect or not inspect\n",
    "\n",
    "## Compute marginal utility of inspection\n",
    "inspect_utility_marginal = np.transpose(np.multiply(np.transpose(p_ripe_estimate), U1))\n",
    "print(inspect_utility_marginal)\n",
    "# inspect_utility_marginal = np.sum(inspect_utility_marginal, axis = 1)\n",
    "inspect_utility_marginal = np.sum(inspect_utility_marginal, axis = 1)\n",
    "print('\\nMarginal utility of inspecting suspect friut')\n",
    "print(inspect_utility_marginal)"
   ]
  },
  {
   "cell_type": "markdown",
   "metadata": {},
   "source": [
    "Bob's human fruit inspectors are extremely dedicated and experienced. In the following you can safely assume that the probability of good fruit following the inspection is 1.0. \n",
    "\n",
    "There are two possibilities for the decision node, inspect the suspect fruit, or ship the order as is. To find out you will need to compute the total utility for both cases. In both cases, the steps are:\n",
    "1. Compute the probabilities of delivering good or bad fruit. \n",
    "2. Compute the total utility, using the marginal utility for delivery and the marginal utility for inspection (or not) you have already computed. \n",
    "\n",
    "First, compute the total utility of not inspecting suspect fruit. "
   ]
  },
  {
   "cell_type": "markdown",
   "metadata": {},
   "source": [
    "### No inspection at all\n",
    "\n",
    "This is a literal interpretation of the above inspection."
   ]
  },
  {
   "cell_type": "code",
   "execution_count": 27,
   "metadata": {},
   "outputs": [
    {
     "data": {
      "text/plain": [
       "6.800000000000001"
      ]
     },
     "execution_count": 27,
     "metadata": {},
     "output_type": "execute_result"
    }
   ],
   "source": [
    "good_fruit = np.array([0.8, 0.2])\n",
    "np.sum(np.multiply(good_fruit, U2_satisfied))"
   ]
  },
  {
   "cell_type": "markdown",
   "metadata": {},
   "source": [
    "### Sensor inspection only\n",
    "\n",
    "This is an alternative interpretation, and is acceptable. "
   ]
  },
  {
   "cell_type": "code",
   "execution_count": 28,
   "metadata": {},
   "outputs": [
    {
     "name": "stdout",
     "output_type": "stream",
     "text": [
      "[0.36       0.21142857 0.37571429 0.05285714]\n",
      "Probability of good and bad fruit delivered\n",
      "[0.87197232 0.12802768]\n",
      "\n",
      "Utility with sensor inspection only \n"
     ]
    },
    {
     "data": {
      "text/plain": [
       "10.47058823529412"
      ]
     },
     "execution_count": 28,
     "metadata": {},
     "output_type": "execute_result"
    }
   ],
   "source": [
    "print(p_ripe_marginal)\n",
    "good_bad_delivered = np.array([np.sum(p_ripe_marginal[[0]]), p_ripe_marginal[3]])\n",
    "good_bad_delivered = np.divide(good_bad_delivered, np.sum(good_bad_delivered))\n",
    "print('Probability of good and bad fruit delivered')\n",
    "print(good_bad_delivered)\n",
    "\n",
    "print('\\nUtility with sensor inspection only ')\n",
    "np.sum(np.multiply(good_bad_delivered, U2_satisfied))"
   ]
  },
  {
   "cell_type": "markdown",
   "metadata": {},
   "source": [
    "### Sensor and human inspection\n",
    "\n",
    "Now compute the total utility if all suspect fruit is inspected. We don't need to inspect fruit that both sensors say is bad. "
   ]
  },
  {
   "cell_type": "code",
   "execution_count": 29,
   "metadata": {},
   "outputs": [
    {
     "name": "stdout",
     "output_type": "stream",
     "text": [
      "Probability of good and bad fruit delivered\n",
      "[0.91533181 0.08466819]\n",
      "\n",
      "Utility with fruit inspection\n"
     ]
    },
    {
     "data": {
      "text/plain": [
       "4.4619221967963405"
      ]
     },
     "execution_count": 29,
     "metadata": {},
     "output_type": "execute_result"
    }
   ],
   "source": [
    "## Compute utility for inspect case.\n",
    "good_bad_delivered = np.array([np.sum(p_ripe_marginal[[0,1]]), p_ripe_marginal[3]])\n",
    "good_bad_delivered = np.divide(good_bad_delivered, np.sum(good_bad_delivered))\n",
    "print('Probability of good and bad fruit delivered')\n",
    "print(good_bad_delivered)\n",
    "\n",
    "print('\\nUtility with fruit inspection')\n",
    "np.sum(np.multiply(good_bad_delivered, U2_satisfied)) + np.sum(inspect_utility_marginal)"
   ]
  },
  {
   "cell_type": "markdown",
   "metadata": {},
   "source": [
    "Question: Given the reliability of the sensors and the quality of the incoming fruit, is it better to inspect the fruit?"
   ]
  },
  {
   "cell_type": "markdown",
   "metadata": {},
   "source": [
    "ANS: Yes, the sensor only inspection has the highest utility."
   ]
  },
  {
   "cell_type": "code",
   "execution_count": 30,
   "metadata": {},
   "outputs": [
    {
     "data": {
      "text/plain": [
       "array([ 17., -34.])"
      ]
     },
     "execution_count": 30,
     "metadata": {},
     "output_type": "execute_result"
    }
   ],
   "source": [
    "U2_satisfied"
   ]
  },
  {
   "cell_type": "markdown",
   "metadata": {},
   "source": [
    "As already indicated, the current process is to have humans inspect all shipments at a utility of -10. Keeping in mind that even customers who receive perfect fruit are not always satisfied, compute the utility of the current process. "
   ]
  },
  {
   "cell_type": "code",
   "execution_count": 31,
   "metadata": {},
   "outputs": [
    {
     "data": {
      "text/plain": [
       "7"
      ]
     },
     "execution_count": 31,
     "metadata": {},
     "output_type": "execute_result"
    }
   ],
   "source": [
    "17 - 10"
   ]
  },
  {
   "cell_type": "markdown",
   "metadata": {},
   "source": [
    "Question: Is the maximum total utility of the process with the robotic inspection better than the human only process? "
   ]
  },
  {
   "cell_type": "markdown",
   "metadata": {},
   "source": [
    "ANS: The senors alone have the highest utility. "
   ]
  },
  {
   "cell_type": "code",
   "execution_count": null,
   "metadata": {},
   "outputs": [],
   "source": []
  }
 ],
 "metadata": {
  "kernelspec": {
   "display_name": "Python 3",
   "language": "python",
   "name": "python3"
  },
  "language_info": {
   "codemirror_mode": {
    "name": "ipython",
    "version": 3
   },
   "file_extension": ".py",
   "mimetype": "text/x-python",
   "name": "python",
   "nbconvert_exporter": "python",
   "pygments_lexer": "ipython3",
   "version": "3.6.4"
  }
 },
 "nbformat": 4,
 "nbformat_minor": 2
}
