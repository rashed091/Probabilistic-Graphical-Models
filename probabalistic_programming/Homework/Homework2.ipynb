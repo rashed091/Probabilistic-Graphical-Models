{
 "cells": [
  {
   "cell_type": "markdown",
   "metadata": {},
   "source": [
    "# Homework 2\n",
    "\n",
    "## Directed Graphical Models\n",
    "\n",
    "In the previous homework, you computed the posterior probabilities of either the cook (C), the butler (B), or both, being a murdered given the choice of weapons (K = knife, P = poison). In this exercise you will construct a Directed Bayesian Graphical Model or belief network for the available evidence. \n",
    "\n",
    "As Inspector Markov has continued her investigation she has discovered an unexplained set of footprints, evidence that a third person may have been involved in the crime. Given that there is no evidence of a break in, she realizes that if a third person was involved they must have had assistance from either the cook, the butler or both. In other words, the cook and the butler may be guilty even if they did not commit the actual killing with the knife. \n",
    "\n",
    "The inspector also learns that further tests on the body have confirmed Dr Turing's conclusion that the cause of death was only a knife. \n",
    "\n",
    "Given this evidence, Inspector Markov must update her beliefs. \n",
    "\n",
    "As a first step in creating the belief network, import the packages you will need for this analysis."
   ]
  },
  {
   "cell_type": "code",
   "execution_count": 1,
   "metadata": {},
   "outputs": [],
   "source": [
    "from pgmpy.models import BayesianModel\n",
    "from pgmpy.factors.discrete import TabularCPD"
   ]
  },
  {
   "cell_type": "markdown",
   "metadata": {},
   "source": [
    "The joint probability distribution is:\n",
    "\n",
    "$$p(B,C,W,BW,CW,M)$$   \n",
    "where the letters indicate the following variables;   \n",
    "$B = $ butler committed the crime,   \n",
    "$C = $ cook committed the crime,   \n",
    "$W = $ weapon K = knife, P = poison,   \n",
    "$BW = $ butler committed the crime with a particular weapon conditional on butler and weapon,   \n",
    "$CW = $ cook committed the crime with a particular weapon conditional on cook and weapon,   \n",
    "$M = $ butler, cook, or third party, and combination of 2 or all three committed the crime, conditional on BK, CK.    \n",
    "\n",
    "Notice that because of the evidence provided by Dr Turing we can neglect and conditional distribution where the weapon was poison. Also, it is possible the cook and butler are guilty without having actually used the knife; $p(BW_0,CW_0) \\ne 0$.\n",
    "\n",
    "Given the independencies, this distribution can be factorized in the following manner:\n",
    "\n",
    "$$p(B,C,W,BW,CW,M) = p(B)\\ p(C)\\ p(W)\\ p(BW\\ |\\ B,K)\\ p(CW\\ |\\ C,K)\\ p(M\\ |\\ BW,CW)$$\n",
    "\n",
    "Now you will need to define the skeleton of the graph. Given the independency relationships of the factorized probability distribution define the skeleton of the model (`m_model`) using the `BayesianModel` function.\n",
    "\n",
    ">**Hint:** Using paper and pencil make a sketch of the graph before you commit your skeleton structure to code. "
   ]
  },
  {
   "cell_type": "code",
   "execution_count": null,
   "metadata": {},
   "outputs": [],
   "source": []
  },
  {
   "cell_type": "markdown",
   "metadata": {},
   "source": [
    "Your next step to create you model is to define the CDP for each independent variable using the `TabularCDP` function. The tables for these variables are:    \n",
    "\n",
    "\n",
    "$p(B)$   \n",
    "\n",
    "| Case | p |\n",
    "|---|---|\n",
    "|$B_0$ | 0.4 |\n",
    "|$B_1$ | 0.6 |    \n",
    "\n",
    "$p(C)$   \n",
    "\n",
    "| Case | p |\n",
    "|---|---|\n",
    "|$C_0$ | 0.7 |\n",
    "|$C_1$ | 0.3 |\n",
    "\n",
    "$p(W)$   \n",
    "\n",
    "| Case | p |\n",
    "|---|---|\n",
    "|$W_0$ | 1.0 |\n",
    "\n",
    "Notice that since the Inspector is sure the weapon was a knife, the cardinality of $W = 1$, $p(K) = 1.0$. This fact reduces the cardinality of other variables as you will see. \n",
    "\n",
    "Using the above tables define the CDPs. Make sure you use variable names consistent with your model."
   ]
  },
  {
   "cell_type": "code",
   "execution_count": null,
   "metadata": {},
   "outputs": [],
   "source": []
  },
  {
   "cell_type": "markdown",
   "metadata": {},
   "source": [
    "Next, define the variables $BK$ and $CK$, the conditional probabilities that the butler or the cook are guilty, given the murder weapon. You need not consider cases of poison, $P$, as the probabilities are zero, reducing the number of states with non-zero probabilities. Thus, the probability tables for these variables are:\n",
    "\n",
    "$$p(BW)$$\n",
    "\n",
    "| | p | p |\n",
    "|---|---|\n",
    "| | $B_0$ | $B_1$|\n",
    "| | $W_0$ | $W_0$ |\n",
    "|$BW_0$ | 1.0 | 1.0 |\n",
    "\n",
    "$$p(CW)$$\n",
    "\n",
    "| | p | p |\n",
    "|---|---|\n",
    "| | $C_0$ | $C_1$|\n",
    "| | $W_0$ | $W_0$ |\n",
    "|$CW_0$ | 1.0 | 1.0 |\n",
    "\n",
    "There are two odd aspects of these tables. First, convention is broken by having the positive case of a knife labeled as 0. Second, probabilities are all 1.0 since a knife was used and this fact is independent of the perpetrator. \n",
    "\n",
    "Give the above tables define the CDPs. "
   ]
  },
  {
   "cell_type": "code",
   "execution_count": null,
   "metadata": {},
   "outputs": [],
   "source": []
  },
  {
   "cell_type": "markdown",
   "metadata": {},
   "source": [
    "**Question:** If $p(Poison) \\ne 0$ how many possible states would each of these CDPs have?  "
   ]
  },
  {
   "cell_type": "markdown",
   "metadata": {},
   "source": [
    "ANS: "
   ]
  },
  {
   "cell_type": "markdown",
   "metadata": {},
   "source": [
    "Finally, you must define the probability of the murder which are coded:\n",
    "\n",
    "- **M0:** Named party (cook or butler or both) alone with no third unnamed party, \n",
    "- **M1:** Only the third unnamed party alone (not cook and not butler), \n",
    "- **M2:** Named party (butler or cook or both) and unnamed party together. \n",
    "\n",
    "This CDP is conditional on both $BK$ and $CK$. Since there are three possible guilty parties here are 12 possible states; $N_{BK} * N_{CK} * N_{M} = 2 * 2 * 3 = 12$ as shown here:\n",
    "\n",
    "| | p | p | p | p|\n",
    "|---|---|---|---|\n",
    "|| $CW_0$ | $CW_0$ | $CW_1$ | $CW_1$|\n",
    "|| $BW_0$ | $BW_1$ | $BW_0$ | $BW_1$ |\n",
    "|$M_0$| 0.0 | 0.7 | 0.1 | 0.3 |\n",
    "|$M_1$| 1.0  | 0.1 | 0.7 | 0.3 |\n",
    "|$M_2$| 0.0 | 0.2 | 0.2 | 0.4 |\n",
    "\n",
    "Where:\n",
    "$CW_0$ = not cook \n",
    "$BW_0$ = not butler\n",
    "$CW_1$ = cook with weapon\n",
    "$BW_1$ = Butler with weapon"
   ]
  },
  {
   "cell_type": "code",
   "execution_count": null,
   "metadata": {},
   "outputs": [],
   "source": []
  },
  {
   "cell_type": "markdown",
   "metadata": {},
   "source": [
    "**Question:** There are 12 possible states of the variable $M$. If $p(Poison) \\ne 0$ how many possible states would there be?"
   ]
  },
  {
   "cell_type": "markdown",
   "metadata": {},
   "source": [
    "ANS: "
   ]
  },
  {
   "cell_type": "markdown",
   "metadata": {},
   "source": [
    "To complete your belief network, use the `add_cpds` method. \n",
    "\n",
    "> **Hint:** Before going any further make sure you apply the `check_model` method to your complete model. "
   ]
  },
  {
   "cell_type": "code",
   "execution_count": null,
   "metadata": {},
   "outputs": [],
   "source": []
  },
  {
   "cell_type": "markdown",
   "metadata": {},
   "source": [
    "Next investigate the independencies of all the variables in your model using the `local_independencies` method. "
   ]
  },
  {
   "cell_type": "code",
   "execution_count": null,
   "metadata": {},
   "outputs": [],
   "source": []
  },
  {
   "cell_type": "markdown",
   "metadata": {},
   "source": [
    "**Question:** Is this graphical model an I-map of the distribution discussed at the start of this lab and why?"
   ]
  },
  {
   "cell_type": "markdown",
   "metadata": {},
   "source": [
    "ANS: "
   ]
  },
  {
   "cell_type": "markdown",
   "metadata": {},
   "source": [
    "The the trails that are not active from the following pairs of variables:\n",
    "\n",
    "- B and C\n",
    "- B and W\n",
    "- C and W\n",
    "- C and CW\n",
    "- B and BW\n",
    "- BW and CW\n",
    "- B and M\n",
    "- C and M\n",
    "\n",
    "Create and execute the code using the `is_active_trail` method on the model object. "
   ]
  },
  {
   "cell_type": "code",
   "execution_count": null,
   "metadata": {},
   "outputs": [],
   "source": []
  },
  {
   "cell_type": "markdown",
   "metadata": {},
   "source": [
    "**Question:** How can you best explain the blocked trails given the evidence variables and V-structures in the graph? What are the trials with V-structures which are blocked? "
   ]
  },
  {
   "cell_type": "markdown",
   "metadata": {},
   "source": [
    "ANS:"
   ]
  },
  {
   "cell_type": "code",
   "execution_count": null,
   "metadata": {},
   "outputs": [],
   "source": []
  }
 ],
 "metadata": {
  "kernelspec": {
   "display_name": "Python 3",
   "language": "python",
   "name": "python3"
  },
  "language_info": {
   "codemirror_mode": {
    "name": "ipython",
    "version": 3
   },
   "file_extension": ".py",
   "mimetype": "text/x-python",
   "name": "python",
   "nbconvert_exporter": "python",
   "pygments_lexer": "ipython3",
   "version": "3.6.4"
  }
 },
 "nbformat": 4,
 "nbformat_minor": 2
}
