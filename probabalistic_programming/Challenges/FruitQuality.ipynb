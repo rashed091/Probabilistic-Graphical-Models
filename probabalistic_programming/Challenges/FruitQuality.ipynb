{
 "cells": [
  {
   "cell_type": "markdown",
   "metadata": {},
   "source": [
    "# Fruit Inspection Challenge\n",
    "\n",
    "## CSCI E82A\n",
    "\n",
    ">**Make sure** you include your name along with the name of your team and team members in the notebook you submit. \n",
    "\n",
    "## Introduction\n",
    "\n",
    "In a previous homework assignment you computed the utility of various approaches to fruit inspection using two unreliable sensors along with human inspection. This challenge exercise differs in from the homework assignment in the following ways:\n",
    "1. Most importantly, this is not a guided lab, but rather you are free to apply the methods of your choice\n",
    "2. The parameters for the CPDs must be estimated from data samples.\n",
    "3. There are a larger number of CPDs.\n",
    "4. You will perform a query on your graphical model.  "
   ]
  },
  {
   "cell_type": "markdown",
   "metadata": {},
   "source": [
    "###  Background\n",
    "\n",
    "Bob's Orchards is a premium seller of apples and pears. Bob's customers pay a substantial premium for superior fruit. To satisfy these customers, Bob's must ensure that the fruit delivered is correctly packed and perfectly ripe. \n",
    "\n",
    "Like many legacy industries requiring specialized human skills, Bob's is facing a talent problem. Many of the human inspectors who expertly check each piece of fruit shipped for ripeness are retiring. Management's attempts to recruit and train younger people to apprentice as fruit inspectors have been mixed. In fact, not only is it difficult to recruit people willing to train as inspectors but, it is believed that the newly trained inspectors are prone to errors. Therefore, it has become imperative to find some type of automated system which can reduce the workload on the diminishing number of human inspectors. To address this problem, Bob's has deployed technology from Robots R Us.\n",
    "\n",
    "The first robotic system to be deployed at Bob's uses a multi-sensor array to determine if the fruit being shipped is at the correct ripeness. There are two sensors, a vision system that examines the fruit for spots or damage, indicating the fruit is over ripe, and a smell sensor that determines if the fruit is not ripe enough. If either sensor indicates the fruit is bad it is sent to a human inspector. In addition customers may reject even perfect fruit for no apparent reason, whereas others seem perfectly happy with less than perfect fruit.   \n"
   ]
  },
  {
   "cell_type": "markdown",
   "metadata": {},
   "source": [
    "\n",
    "## Scenario \n",
    "\n",
    "In order to better understand the fruit inspection process and customer acceptance of the fruit, Bob's management has authorized the shipment of 1,000 randomly selected orders. All available inspection methods will be applied to each order. Further, a team of the most experienced inspectors will provide an absolute baseline on order quality. The orders will be shipped to customers regardless of the outcome of the inspections. \n",
    "\n",
    "Shipping orders regardless of inspection outcome is a significant departure from long-held beliefs and traditions at Bobs. However, the data collected provide a powerful source of information for improving Bob's overall customer satisfaction, which is highly valued by Bob's management.   \n",
    "\n",
    "Your goal, as the consulting team, is to determine which inspection methods and any other possible process improvement Bob's should apply to maximize customer satisfaction as measured by utility. You will use the data collected from the 1,000 orders to "
   ]
  },
  {
   "cell_type": "markdown",
   "metadata": {},
   "source": [
    "### Data description \n",
    "\n",
    "For the 1,000 orders in the test sample a number of attributes have been collected. These data are in the `fruit_data.csv` file. The columns in the data set are:\n",
    "1.  **weather:** indicates the weather conditions the day before the fruit is harvested; 0 = wet, 1 = dry. Prior information indicates that the statistics of weather are constant over the harvest period. \n",
    "2. **week:** indicates the week the fruit is harvested; 0 = week 1, 1 = week2. There is a two week harvest season for Bob's orchard where the fruit comes from. \n",
    "3. **good_bad** is the quality assigned to the fruit shipment by an independent inspection team of highly experienced inspectors. At least three inspectors has agreed on the fruit quality and these indicators are believed to have absolute accuracy. \n",
    "4. **smell_sensor:** are the indicators emitted by the smell fruit inspection sensor; 0 = bad, 1 = good.\n",
    "5. **visual_sensor:** are the indicators emitted by the visual fruit inspection sensor; 0 = bad, 1 = good.\n",
    "6. **inspector:** are the indicators determined by the single entry-level fruit inspectors; 0 = bad, 1 = good.\n",
    "7. **accepted:** indicates if the customer accepted the order as received, or complained and requested an adjustment; 0 = not accepted, 1 = accepted. "
   ]
  },
  {
   "cell_type": "markdown",
   "metadata": {},
   "source": [
    "### Bayesian Graph Representation\n",
    "\n",
    "A directed acyclic graph (DAG) representing the fruit quality process is shown in the diagram below.  \n",
    "\n",
    "<img src=\"FruitQualityGraph.JPG\" alt=\"Drawing\" style=\"width:800px; height:450px\"/>\n",
    "<center> **DAG fruit quality process**    \n",
    "Decision nodes are not shown for simplicity</center>\n",
    "\n",
    "The representation shown in the diagram illustrates the CDPs in a DAG. There are a number of utility nodes shown. Notice, that the multiple decision nodes are not shown.   \n",
    "\n",
    "There are two utility functions in this problem. The **utility of a human inspection** is -10.0. And the **utility of the satisfied and unsatisfied customers** is:\n",
    "\n",
    "|  | Satisfied | Not Satisfied |\n",
    "|----|----|----|\n",
    "|Utility | 20 | -40 |\n",
    "\n",
    "Notice that the DAG shows causality between the CDPs. **Consider how this causality is important in the representation of this problem**. "
   ]
  },
  {
   "cell_type": "markdown",
   "metadata": {},
   "source": [
    "### Goals for this analysis\n",
    "\n",
    "Your goals in this challenge are as follows:\n",
    "\n",
    "1. Estimate the parameters of the leaf CDPs (nodes) using the data provided. These are the unconditional distributions nodes of the graph. You may use simple ML/frequentist estimates of these parameters.   \n",
    "2. Compute the conditional probabilities for the remaining nodes. \n",
    "3. Using the conditional probability distributions and the utility functions, compute and compare the utilities of the four possible inspection methods:\n",
    "  - No inspection whatsoever. \n",
    "  - Inspection by human inspectors only.\n",
    "  - Inspection with sensors only.\n",
    "  - Inspection first with sensors and then with humans for cases where the sensors indicate the fruit may be bad. \n",
    "4. Now perform a query on your model when the weather is always dry (evidence). Recompute and compare the utilities for the different inspection methods as you did for step 3. \n",
    "\n",
    "> **Methods:** You may use methods of your choice. You can do the calculations directly on the arrays of the CPDs. Alternatively, you can likely use the pgmpy package. If you are ambitious, you can try both approaches. "
   ]
  }
 ],
 "metadata": {
  "kernelspec": {
   "display_name": "Python 3",
   "language": "python",
   "name": "python3"
  },
  "language_info": {
   "codemirror_mode": {
    "name": "ipython",
    "version": 3
   },
   "file_extension": ".py",
   "mimetype": "text/x-python",
   "name": "python",
   "nbconvert_exporter": "python",
   "pygments_lexer": "ipython3",
   "version": "3.6.4"
  }
 },
 "nbformat": 4,
 "nbformat_minor": 2
}
