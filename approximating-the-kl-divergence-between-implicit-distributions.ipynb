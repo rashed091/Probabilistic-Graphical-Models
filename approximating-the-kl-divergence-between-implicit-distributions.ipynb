{
 "cells": [
  {
   "cell_type": "markdown",
   "metadata": {
    "colab_type": "text",
    "id": "view-in-github"
   },
   "source": [
    "[View in Colaboratory](https://colab.research.google.com/gist/ltiao/c066d22588d9494cb4b94a6cdd472392/approximating-the-kl-divergence-between-implicit-distributions.ipynb)"
   ]
  },
  {
   "cell_type": "code",
   "execution_count": 0,
   "metadata": {
    "colab": {},
    "colab_type": "code",
    "id": "ZCxh4vi36W3V"
   },
   "outputs": [],
   "source": [
    "%matplotlib inline"
   ]
  },
  {
   "cell_type": "code",
   "execution_count": 0,
   "metadata": {
    "colab": {},
    "colab_type": "code",
    "id": "PMLLQJUI6W3Y",
    "outputId": "ef6f26d7-4a60-4f99-b332-9f4fc478528b"
   },
   "outputs": [
    {
     "name": "stderr",
     "output_type": "stream",
     "text": [
      "/usr/lib/python3/dist-packages/h5py/__init__.py:34: FutureWarning: Conversion of the second argument of issubdtype from `float` to `np.floating` is deprecated. In future, it will be treated as `np.float64 == np.dtype(float).type`.\n",
      "  from ._conv import register_converters as _register_converters\n",
      "Using TensorFlow backend.\n"
     ]
    }
   ],
   "source": [
    "import numpy as np\n",
    "from scipy.special import expit\n",
    "\n",
    "import tensorflow as tf\n",
    "import tensorflow_probability as tfp\n",
    "\n",
    "from keras.models import Sequential, Model\n",
    "from keras.layers import Input, Dense\n",
    "from keras.callbacks import Callback\n",
    "\n",
    "import matplotlib.pyplot as plt\n",
    "import seaborn as sns\n",
    "import pandas as pd\n",
    "\n",
    "from matplotlib import animation\n",
    "from IPython.display import HTML, SVG\n",
    "from keras.utils.vis_utils import model_to_dot, plot_model"
   ]
  },
  {
   "cell_type": "code",
   "execution_count": 0,
   "metadata": {
    "colab": {},
    "colab_type": "code",
    "id": "9tmDnLoW6W3f"
   },
   "outputs": [],
   "source": [
    "plt.style.use('seaborn-colorblind')\n",
    "\n",
    "plt.rc('text', usetex=True)\n",
    "plt.rc('font', family='serif', serif=['Lato'], size=16)\n",
    "plt.rc('animation', convert_path='/usr/bin/convert')\n",
    "\n",
    "np.set_printoptions(precision=2,\n",
    "                    edgeitems=3,\n",
    "                    linewidth=80,\n",
    "                    suppress=True)"
   ]
  },
  {
   "cell_type": "code",
   "execution_count": 0,
   "metadata": {
    "colab": {},
    "colab_type": "code",
    "id": "ozif4aoO6W3j",
    "outputId": "301b03a5-6b8c-47a8-a814-103efc28f1c1"
   },
   "outputs": [
    {
     "data": {
      "text/plain": [
       "'TensorFlow version: 1.10.0'"
      ]
     },
     "execution_count": 4,
     "metadata": {
      "tags": []
     },
     "output_type": "execute_result"
    }
   ],
   "source": [
    "'TensorFlow version: ' + tf.__version__"
   ]
  },
  {
   "cell_type": "code",
   "execution_count": 0,
   "metadata": {
    "colab": {},
    "colab_type": "code",
    "id": "dahCiHQd6W3m"
   },
   "outputs": [],
   "source": [
    "sess = tf.InteractiveSession()"
   ]
  },
  {
   "cell_type": "code",
   "execution_count": 0,
   "metadata": {
    "colab": {},
    "colab_type": "code",
    "id": "kx4XvkMW6W3o"
   },
   "outputs": [],
   "source": [
    "golden_size = lambda width: (width, 2. * width / (1 + np.sqrt(5)))"
   ]
  },
  {
   "cell_type": "code",
   "execution_count": 0,
   "metadata": {
    "colab": {},
    "colab_type": "code",
    "id": "O4Yi5gaf6W3s"
   },
   "outputs": [],
   "source": [
    "mu_p = 1.\n",
    "sigma_p = 1."
   ]
  },
  {
   "cell_type": "code",
   "execution_count": 0,
   "metadata": {
    "colab": {},
    "colab_type": "code",
    "id": "wwLTcf7q6W3u"
   },
   "outputs": [],
   "source": [
    "mu_q = 0.\n",
    "sigma_q = 2."
   ]
  },
  {
   "cell_type": "code",
   "execution_count": 0,
   "metadata": {
    "colab": {},
    "colab_type": "code",
    "id": "BecEyMz16W3x"
   },
   "outputs": [],
   "source": [
    "p = tfp.distributions.Normal(loc=mu_p, scale=sigma_p)\n",
    "q = tfp.distributions.Normal(loc=mu_q, scale=sigma_q)"
   ]
  },
  {
   "cell_type": "code",
   "execution_count": 0,
   "metadata": {
    "colab": {},
    "colab_type": "code",
    "id": "NFSUkub86W3z",
    "outputId": "e5037d3f-3797-4cd7-a119-0f45a341759a"
   },
   "outputs": [
    {
     "data": {
      "text/plain": [
       "<tf.Tensor 'ExpandDims:0' shape=(500, 1) dtype=float32>"
      ]
     },
     "execution_count": 10,
     "metadata": {
      "tags": []
     },
     "output_type": "execute_result"
    }
   ],
   "source": [
    "xs = tf.expand_dims(tf.linspace(-5., 5., 500), 1)\n",
    "xs"
   ]
  },
  {
   "cell_type": "code",
   "execution_count": 0,
   "metadata": {
    "colab": {},
    "colab_type": "code",
    "id": "FNL2B-pv6W33",
    "outputId": "9dfe0a67-0cf8-4286-ad99-f4b086b33239"
   },
   "outputs": [
    {
     "data": {
      "image/png": "[encoded data removed]",
      "text/plain": [
       "<matplotlib.figure.Figure at 0x7fb784063d68>"
      ]
     },
     "metadata": {
      "tags": []
     },
     "output_type": "display_data"
    }
   ],
   "source": [
    "fig, ax = plt.subplots(figsize=golden_size(8))\n",
    "\n",
    "# ax.set_title('probability densities')\n",
    "\n",
    "ax.plot(xs.eval(), q.prob(xs).eval(), label='$q(x)$')\n",
    "ax.plot(xs.eval(), p.prob(xs).eval(), label='$p(x)$')\n",
    "\n",
    "ax.set_xlim(-5.5, 5.5)\n",
    "ax.set_ylim(0., .5)\n",
    "\n",
    "ax.set_xlabel('$x$')\n",
    "ax.set_ylabel('density')\n",
    "\n",
    "ax.legend()\n",
    "\n",
    "plt.savefig('gaussian_1d_densities.svg', format='svg', dpi=1200)"
   ]
  },
  {
   "cell_type": "code",
   "execution_count": 0,
   "metadata": {
    "colab": {},
    "colab_type": "code",
    "id": "OXKu3Vi86W36"
   },
   "outputs": [],
   "source": []
  },
  {
   "cell_type": "code",
   "execution_count": 0,
   "metadata": {
    "colab": {},
    "colab_type": "code",
    "id": "Z3HmzusH6W3_"
   },
   "outputs": [],
   "source": []
  },
  {
   "cell_type": "code",
   "execution_count": 0,
   "metadata": {
    "colab": {},
    "colab_type": "code",
    "id": "AxS34IgD6W4A"
   },
   "outputs": [],
   "source": [
    "r = density_ratio(p, q)"
   ]
  },
  {
   "cell_type": "code",
   "execution_count": 0,
   "metadata": {
    "colab": {},
    "colab_type": "code",
    "id": "ZXaEdOKj6W4D",
    "outputId": "9dc456d3-a7d5-4d02-a671-ef5799751b51"
   },
   "outputs": [
    {
     "data": {
      "image/png": "[encoded data removed]",
      "text/plain": [
       "<matplotlib.figure.Figure at 0x7fb7840634e0>"
      ]
     },
     "metadata": {
      "tags": []
     },
     "output_type": "display_data"
    }
   ],
   "source": [
    "fig, ax = plt.subplots(figsize=golden_size(8))\n",
    "\n",
    "# ax.set_title('density ratio')\n",
    "\n",
    "ax.plot(xs.eval(), q.prob(xs).eval(), label='$f(x)=q(x)$')\n",
    "ax.plot(xs.eval(), p.prob(xs).eval(), label='$f(x)=p(x)$')\n",
    "\n",
    "ax.plot(xs.eval(), r(xs).eval(), linestyle=':', label='$f(x)=\\\\frac{p(x)}{q(x)}$')\n",
    "\n",
    "ax.set_xlim(-5.5, 5.5)\n",
    "ax.set_xlabel('$x$')\n",
    "\n",
    "ax.set_ylabel('$f(x)$')\n",
    "\n",
    "ax.legend()\n",
    "\n",
    "plt.savefig('gaussian_1d_density_ratios.svg', format='svg', dpi=1200)"
   ]
  },
  {
   "cell_type": "code",
   "execution_count": 0,
   "metadata": {
    "colab": {},
    "colab_type": "code",
    "id": "wLjh5KTE6W4G",
    "outputId": "7d547cfd-d164-4ca4-a9e1-49648b838d35"
   },
   "outputs": [
    {
     "data": {
      "text/plain": [
       "0.44314718"
      ]
     },
     "execution_count": 16,
     "metadata": {
      "tags": []
     },
     "output_type": "execute_result"
    }
   ],
   "source": [
    "tfp.distributions.kl_divergence(p, q).eval()"
   ]
  },
  {
   "cell_type": "markdown",
   "metadata": {
    "colab_type": "text",
    "id": "t_M4qCvH6W4K"
   },
   "source": [
    "$$\n",
    "\\mathrm{KL}[p(x) || q(x)] = \n",
    "\\mathbb{E}_{p(x)} \\left [ \\log \\frac{p(x)}{q(x)} \\right ].\n",
    "$$"
   ]
  },
  {
   "cell_type": "code",
   "execution_count": 0,
   "metadata": {
    "colab": {},
    "colab_type": "code",
    "id": "NLbrSp6J6W4K"
   },
   "outputs": [],
   "source": [
    "p_samples = p.sample(5000, seed=8888)\n",
    "q_samples = q.sample(5000, seed=8888)"
   ]
  },
  {
   "cell_type": "code",
   "execution_count": 0,
   "metadata": {
    "colab": {},
    "colab_type": "code",
    "id": "CbQUCIIK6W4O",
    "outputId": "020430e7-521c-45b4-a363-ccb5d6aa6d9c"
   },
   "outputs": [
    {
     "data": {
      "text/plain": [
       "0.44670376"
      ]
     },
     "execution_count": 18,
     "metadata": {
      "tags": []
     },
     "output_type": "execute_result"
    }
   ],
   "source": [
    "log_r = log_density_ratio(p, q)\n",
    "tf.reduce_mean(log_r(p_samples)).eval()"
   ]
  },
  {
   "cell_type": "code",
   "execution_count": 0,
   "metadata": {
    "colab": {},
    "colab_type": "code",
    "id": "KskTv6BE6W4R",
    "outputId": "cd7c33bf-49aa-4e80-d296-4d4c9d508d2e"
   },
   "outputs": [
    {
     "name": "stdout",
     "output_type": "stream",
     "text": [
      "WARNING:tensorflow:From /usr/local/lib/python3.5/dist-packages/tensorflow_probability/python/monte_carlo.py:161: calling reduce_mean (from tensorflow.python.ops.math_ops) with keep_dims is deprecated and will be removed in a future version.\n",
      "Instructions for updating:\n",
      "keep_dims is deprecated, use keepdims instead\n"
     ]
    },
    {
     "data": {
      "text/plain": [
       "0.4581419"
      ]
     },
     "execution_count": 19,
     "metadata": {
      "tags": []
     },
     "output_type": "execute_result"
    }
   ],
   "source": [
    "tfp.monte_carlo.expectation(f=log_r, samples=p_samples).eval()"
   ]
  },
  {
   "cell_type": "markdown",
   "metadata": {
    "colab_type": "text",
    "id": "hlosGIej6W4U"
   },
   "source": [
    "$$\n",
    "\\begin{align}\n",
    "\\mathrm{KL}[p(x) || q(x)] \n",
    "& = \\mathbb{E}_{q(x)} \\left [ \\frac{p(x)}{q(x)} \\log \\frac{p(x)}{q(x)} \\right ] \\\\\n",
    "& = \\mathbb{E}_{q(x)} \\left [ f \\left ( \\frac{p(x)}{q(x)} \\right ) \\right ] \n",
    "\\end{align}\n",
    "$$\n",
    "where\n",
    "$$\n",
    "f(u) = u \\log u\n",
    "$$"
   ]
  },
  {
   "cell_type": "code",
   "execution_count": 0,
   "metadata": {
    "colab": {},
    "colab_type": "code",
    "id": "qjFA3AcR6W4V"
   },
   "outputs": [],
   "source": [
    "_kl_forward = lambda u: u * tf.log(u)"
   ]
  },
  {
   "cell_type": "code",
   "execution_count": 0,
   "metadata": {
    "colab": {},
    "colab_type": "code",
    "id": "tLPtvEIm6W4X"
   },
   "outputs": [],
   "source": [
    "us = tf.linspace(0., 2., 500)"
   ]
  },
  {
   "cell_type": "code",
   "execution_count": 0,
   "metadata": {
    "colab": {},
    "colab_type": "code",
    "id": "EqaG3qzm6W4Z",
    "outputId": "fb148d47-5d03-46c8-c06a-bf2b3b5bf0f2"
   },
   "outputs": [
    {
     "data": {
      "image/png": "[encoded data removed]",
      "text/plain": [
       "<matplotlib.figure.Figure at 0x7fb760019ac8>"
      ]
     },
     "metadata": {
      "tags": []
     },
     "output_type": "display_data"
    }
   ],
   "source": [
    "fig, ax = plt.subplots(figsize=golden_size(8))\n",
    "\n",
    "ax.plot(us.eval(), tfp.vi.kl_forward(tf.log(us)).eval())\n",
    "ax.plot(us.eval(), _kl_forward(us).eval())\n",
    "\n",
    "plt.show()"
   ]
  },
  {
   "cell_type": "code",
   "execution_count": 0,
   "metadata": {
    "colab": {},
    "colab_type": "code",
    "id": "yqdwdSiS6W4c",
    "outputId": "9e829dcb-a699-4a6a-828f-5b1b8808634d"
   },
   "outputs": [
    {
     "data": {
      "text/plain": [
       "0.45856187"
      ]
     },
     "execution_count": 23,
     "metadata": {
      "tags": []
     },
     "output_type": "execute_result"
    }
   ],
   "source": [
    "tf.reduce_mean(_kl_forward(tf.exp(log_r(q_samples)))).eval()"
   ]
  },
  {
   "cell_type": "code",
   "execution_count": 0,
   "metadata": {
    "colab": {},
    "colab_type": "code",
    "id": "fCfjJcQT6W4i",
    "outputId": "5642fe2d-e8eb-43ad-afbe-9d1d190402d3"
   },
   "outputs": [
    {
     "data": {
      "text/plain": [
       "0.4559041"
      ]
     },
     "execution_count": 24,
     "metadata": {
      "tags": []
     },
     "output_type": "execute_result"
    }
   ],
   "source": [
    "tf.reduce_mean(tfp.vi.kl_forward(log_r(q_samples))).eval()"
   ]
  },
  {
   "cell_type": "code",
   "execution_count": 0,
   "metadata": {
    "colab": {},
    "colab_type": "code",
    "id": "N7renZK76W4l",
    "outputId": "be37c29d-2760-43a5-9488-fd5255c12476"
   },
   "outputs": [
    {
     "data": {
      "text/plain": [
       "0.4430853"
      ]
     },
     "execution_count": 25,
     "metadata": {
      "tags": []
     },
     "output_type": "execute_result"
    }
   ],
   "source": [
    "tfp.vi.monte_carlo_csiszar_f_divergence(f=tfp.vi.kl_forward,\n",
    "                                        p_log_prob=p.log_prob, q=q, \n",
    "                                        num_draws=5000, seed=888).eval()"
   ]
  },
  {
   "cell_type": "code",
   "execution_count": 0,
   "metadata": {
    "colab": {},
    "colab_type": "code",
    "id": "ZUaKHv5w6W4o"
   },
   "outputs": [],
   "source": [
    "def optimal_classifier(p, q): \n",
    "    \n",
    "    def classifier(x):\n",
    "        \n",
    "        return tf.truediv(p.prob(x), p.prob(x) + q.prob(x))\n",
    "    \n",
    "    return classifier"
   ]
  },
  {
   "cell_type": "code",
   "execution_count": 0,
   "metadata": {
    "colab": {},
    "colab_type": "code",
    "id": "At2-KnKJ6W4r"
   },
   "outputs": [],
   "source": [
    "n_p = n_q = 200"
   ]
  },
  {
   "cell_type": "code",
   "execution_count": 0,
   "metadata": {
    "colab": {},
    "colab_type": "code",
    "id": "XRh-OUP-6W4u"
   },
   "outputs": [],
   "source": [
    "p_samples = p.sample(sample_shape=(n_p, 1), seed=8888)\n",
    "q_samples = q.sample(sample_shape=(n_q, 1), seed=8888)"
   ]
  },
  {
   "cell_type": "code",
   "execution_count": 0,
   "metadata": {
    "colab": {},
    "colab_type": "code",
    "id": "w71oVJta6W4z",
    "outputId": "183140f3-e200-44e5-e231-0322ee021b2c"
   },
   "outputs": [
    {
     "data": {
      "text/plain": [
       "<tf.Tensor 'concat:0' shape=(400, 1) dtype=float32>"
      ]
     },
     "execution_count": 29,
     "metadata": {
      "tags": []
     },
     "output_type": "execute_result"
    }
   ],
   "source": [
    "X = tf.concat([p_samples, q_samples], axis=0)\n",
    "X"
   ]
  },
  {
   "cell_type": "code",
   "execution_count": 0,
   "metadata": {
    "colab": {},
    "colab_type": "code",
    "id": "mbjCuwEf6W42",
    "outputId": "35bd61c5-a767-4e7a-c4de-b9f1bac20389"
   },
   "outputs": [
    {
     "data": {
      "text/plain": [
       "<tf.Tensor 'concat_1:0' shape=(400, 1) dtype=float32>"
      ]
     },
     "execution_count": 30,
     "metadata": {
      "tags": []
     },
     "output_type": "execute_result"
    }
   ],
   "source": [
    "y = tf.concat([tf.ones_like(p_samples), \n",
    "               tf.zeros_like(q_samples)], axis=0)\n",
    "y"
   ]
  },
  {
   "cell_type": "code",
   "execution_count": 0,
   "metadata": {
    "colab": {},
    "colab_type": "code",
    "id": "-HPfyfr06W45",
    "outputId": "fdf0cb73-00fc-4c5d-8621-7d4c6570c6bc"
   },
   "outputs": [
    {
     "data": {
      "text/plain": [
       "(8, 4.944271909999158)"
      ]
     },
     "execution_count": 31,
     "metadata": {
      "tags": []
     },
     "output_type": "execute_result"
    }
   ],
   "source": [
    "golden_size(8)"
   ]
  },
  {
   "cell_type": "code",
   "execution_count": 0,
   "metadata": {
    "colab": {},
    "colab_type": "code",
    "id": "gRjiXLVo6W47",
    "outputId": "02fa6510-d755-4cbe-ccc9-9dbba8ed1a31"
   },
   "outputs": [
    {
     "data": {
      "image/png": "[encoded data removed]",
      "text/plain": [
       "<matplotlib.figure.Figure at 0x7fb74c6adf98>"
      ]
     },
     "metadata": {
      "tags": []
     },
     "output_type": "display_data"
    }
   ],
   "source": [
    "fig, ax1 = plt.subplots(figsize=(9, golden_size(8)[1]))\n",
    "\n",
    "ax1.scatter(X.eval(), y.eval(), c=y.eval(), s=12.**2, \n",
    "           marker='s', alpha=.2, cmap='coolwarm_r')\n",
    "\n",
    "ax1.set_xlabel('$x$')\n",
    "ax1.set_xlim(-5.5, 5.5)\n",
    "\n",
    "ax1.set_ylim(-0.05, 1.05)\n",
    "ax1.set_yticks([0, 1])\n",
    "ax1.set_yticklabels(['$x_q^{(j)} \\sim q(x)$', \n",
    "                     '$x_p^{(i)} \\sim p(x)$'])\n",
    "\n",
    "ax2 = ax1.twinx()\n",
    "\n",
    "ax2.set_ylim(-0.05, 1.05)\n",
    "ax2.set_yticks([0, 1])\n",
    "\n",
    "# plt.show()\n",
    "plt.savefig('dataset.svg', format='svg', dpi=1200)"
   ]
  },
  {
   "cell_type": "code",
   "execution_count": 0,
   "metadata": {
    "colab": {},
    "colab_type": "code",
    "id": "N1YtHMq76W4-",
    "outputId": "0c7197be-afe9-4a9e-a04e-0656181848d7"
   },
   "outputs": [
    {
     "data": {
      "image/png": "[encoded data removed]",
      "text/plain": [
       "<matplotlib.figure.Figure at 0x7fb74c1613c8>"
      ]
     },
     "metadata": {
      "tags": []
     },
     "output_type": "display_data"
    }
   ],
   "source": [
    "fig, ax1 = plt.subplots(figsize=(9, golden_size(8)[1]))\n",
    "\n",
    "ax1.scatter(X.eval(), y.eval(), c=y.eval(), s=12.**2, \n",
    "            marker='s', alpha=.2, cmap='coolwarm_r')\n",
    "\n",
    "ax1.set_xlabel('$x$')\n",
    "ax1.set_xlim(-5.5, 5.5)\n",
    "\n",
    "ax1.set_ylim(-0.05, 1.05)\n",
    "ax1.set_yticks([0, 1])\n",
    "ax1.set_yticklabels(['$x_q^{(j)} \\sim q(x)$', \n",
    "                     '$x_p^{(i)} \\sim p(x)$'])\n",
    "\n",
    "ax2 = ax1.twinx()\n",
    "\n",
    "ax2.plot(xs.eval(), optimal_classifier(p, q)(xs).eval(), 'k-')\n",
    "\n",
    "ax2.set_xlim(-5.5, 5.5)\n",
    "ax2.set_xlabel('$x$')\n",
    "\n",
    "ax2.set_ylim(-0.05, 1.05)\n",
    "ax2.set_ylabel('$\\mathcal{P}(y=1 \\mid x)$')\n",
    "\n",
    "# plt.show()\n",
    "plt.savefig('optimal_classifier.svg', format='svg', dpi=1200)"
   ]
  },
  {
   "cell_type": "code",
   "execution_count": 0,
   "metadata": {
    "colab": {},
    "colab_type": "code",
    "id": "wOnn5JBv6W5B"
   },
   "outputs": [],
   "source": [
    "log_ratio = Sequential([\n",
    "    Dense(16, input_dim=1, activation='relu'),\n",
    "    Dense(32, activation='relu'),\n",
    "    Dense(1),\n",
    "])"
   ]
  },
  {
   "cell_type": "code",
   "execution_count": 0,
   "metadata": {
    "colab": {},
    "colab_type": "code",
    "id": "TrcxCb166W5F",
    "outputId": "bc1437ca-cac1-4a64-ac0c-f23f25995cf9"
   },
   "outputs": [
    {
     "data": {
      "image/svg+xml": [
       "<svg height=\"294pt\" viewBox=\"0.00 0.00 189.00 294.00\" width=\"189pt\" xmlns=\"http://www.w3.org/2000/svg\" xmlns:xlink=\"http://www.w3.org/1999/xlink\">\n",
       "<g class=\"graph\" id=\"graph0\" transform=\"scale(1 1) rotate(0) translate(4 290)\">\n",
       "<title>G</title>\n",
       "<polygon fill=\"white\" points=\"-4,4 -4,-290 185,-290 185,4 -4,4\" stroke=\"none\"/>\n",
       "<!-- 140425234187656 -->\n",
       "<g class=\"node\" id=\"node1\"><title>140425234187656</title>\n",
       "<polygon fill=\"none\" points=\"0,-166.5 0,-212.5 181,-212.5 181,-166.5 0,-166.5\" stroke=\"black\"/>\n",
       "<text font-family=\"Times,serif\" font-size=\"14.00\" text-anchor=\"middle\" x=\"25\" y=\"-185.8\">Dense</text>\n",
       "<polyline fill=\"none\" points=\"50,-166.5 50,-212.5 \" stroke=\"black\"/>\n",
       "<text font-family=\"Times,serif\" font-size=\"14.00\" text-anchor=\"middle\" x=\"77.5\" y=\"-197.3\">input:</text>\n",
       "<polyline fill=\"none\" points=\"50,-189.5 105,-189.5 \" stroke=\"black\"/>\n",
       "<text font-family=\"Times,serif\" font-size=\"14.00\" text-anchor=\"middle\" x=\"77.5\" y=\"-174.3\">output:</text>\n",
       "<polyline fill=\"none\" points=\"105,-166.5 105,-212.5 \" stroke=\"black\"/>\n",
       "<text font-family=\"Times,serif\" font-size=\"14.00\" text-anchor=\"middle\" x=\"143\" y=\"-197.3\">(None, 1)</text>\n",
       "<polyline fill=\"none\" points=\"105,-189.5 181,-189.5 \" stroke=\"black\"/>\n",
       "<text font-family=\"Times,serif\" font-size=\"14.00\" text-anchor=\"middle\" x=\"143\" y=\"-174.3\">(None, 16)</text>\n",
       "</g>\n",
       "<!-- 140425237803248 -->\n",
       "<g class=\"node\" id=\"node2\"><title>140425237803248</title>\n",
       "<polygon fill=\"none\" points=\"0,-83.5 0,-129.5 181,-129.5 181,-83.5 0,-83.5\" stroke=\"black\"/>\n",
       "<text font-family=\"Times,serif\" font-size=\"14.00\" text-anchor=\"middle\" x=\"25\" y=\"-102.8\">Dense</text>\n",
       "<polyline fill=\"none\" points=\"50,-83.5 50,-129.5 \" stroke=\"black\"/>\n",
       "<text font-family=\"Times,serif\" font-size=\"14.00\" text-anchor=\"middle\" x=\"77.5\" y=\"-114.3\">input:</text>\n",
       "<polyline fill=\"none\" points=\"50,-106.5 105,-106.5 \" stroke=\"black\"/>\n",
       "<text font-family=\"Times,serif\" font-size=\"14.00\" text-anchor=\"middle\" x=\"77.5\" y=\"-91.3\">output:</text>\n",
       "<polyline fill=\"none\" points=\"105,-83.5 105,-129.5 \" stroke=\"black\"/>\n",
       "<text font-family=\"Times,serif\" font-size=\"14.00\" text-anchor=\"middle\" x=\"143\" y=\"-114.3\">(None, 16)</text>\n",
       "<polyline fill=\"none\" points=\"105,-106.5 181,-106.5 \" stroke=\"black\"/>\n",
       "<text font-family=\"Times,serif\" font-size=\"14.00\" text-anchor=\"middle\" x=\"143\" y=\"-91.3\">(None, 32)</text>\n",
       "</g>\n",
       "<!-- 140425234187656&#45;&gt;140425237803248 -->\n",
       "<g class=\"edge\" id=\"edge2\"><title>140425234187656-&gt;140425237803248</title>\n",
       "<path d=\"M90.5,-166.366C90.5,-158.152 90.5,-148.658 90.5,-139.725\" fill=\"none\" stroke=\"black\"/>\n",
       "<polygon fill=\"black\" points=\"94.0001,-139.607 90.5,-129.607 87.0001,-139.607 94.0001,-139.607\" stroke=\"black\"/>\n",
       "</g>\n",
       "<!-- 140425231818144 -->\n",
       "<g class=\"node\" id=\"node3\"><title>140425231818144</title>\n",
       "<polygon fill=\"none\" points=\"0,-0.5 0,-46.5 181,-46.5 181,-0.5 0,-0.5\" stroke=\"black\"/>\n",
       "<text font-family=\"Times,serif\" font-size=\"14.00\" text-anchor=\"middle\" x=\"25\" y=\"-19.8\">Dense</text>\n",
       "<polyline fill=\"none\" points=\"50,-0.5 50,-46.5 \" stroke=\"black\"/>\n",
       "<text font-family=\"Times,serif\" font-size=\"14.00\" text-anchor=\"middle\" x=\"77.5\" y=\"-31.3\">input:</text>\n",
       "<polyline fill=\"none\" points=\"50,-23.5 105,-23.5 \" stroke=\"black\"/>\n",
       "<text font-family=\"Times,serif\" font-size=\"14.00\" text-anchor=\"middle\" x=\"77.5\" y=\"-8.3\">output:</text>\n",
       "<polyline fill=\"none\" points=\"105,-0.5 105,-46.5 \" stroke=\"black\"/>\n",
       "<text font-family=\"Times,serif\" font-size=\"14.00\" text-anchor=\"middle\" x=\"143\" y=\"-31.3\">(None, 32)</text>\n",
       "<polyline fill=\"none\" points=\"105,-23.5 181,-23.5 \" stroke=\"black\"/>\n",
       "<text font-family=\"Times,serif\" font-size=\"14.00\" text-anchor=\"middle\" x=\"143\" y=\"-8.3\">(None, 1)</text>\n",
       "</g>\n",
       "<!-- 140425237803248&#45;&gt;140425231818144 -->\n",
       "<g class=\"edge\" id=\"edge3\"><title>140425237803248-&gt;140425231818144</title>\n",
       "<path d=\"M90.5,-83.3664C90.5,-75.1516 90.5,-65.6579 90.5,-56.7252\" fill=\"none\" stroke=\"black\"/>\n",
       "<polygon fill=\"black\" points=\"94.0001,-56.6068 90.5,-46.6068 87.0001,-56.6069 94.0001,-56.6068\" stroke=\"black\"/>\n",
       "</g>\n",
       "<!-- 140425231697512 -->\n",
       "<g class=\"node\" id=\"node4\"><title>140425231697512</title>\n",
       "<polygon fill=\"none\" points=\"31.5,-249.5 31.5,-285.5 149.5,-285.5 149.5,-249.5 31.5,-249.5\" stroke=\"black\"/>\n",
       "<text font-family=\"Times,serif\" font-size=\"14.00\" text-anchor=\"middle\" x=\"90.5\" y=\"-263.8\">140425231697512</text>\n",
       "</g>\n",
       "<!-- 140425231697512&#45;&gt;140425234187656 -->\n",
       "<g class=\"edge\" id=\"edge1\"><title>140425231697512-&gt;140425234187656</title>\n",
       "<path d=\"M90.5,-249.254C90.5,-241.363 90.5,-231.749 90.5,-222.602\" fill=\"none\" stroke=\"black\"/>\n",
       "<polygon fill=\"black\" points=\"94.0001,-222.591 90.5,-212.591 87.0001,-222.591 94.0001,-222.591\" stroke=\"black\"/>\n",
       "</g>\n",
       "</g>\n",
       "</svg>"
      ],
      "text/plain": [
       "<IPython.core.display.SVG object>"
      ]
     },
     "execution_count": 35,
     "metadata": {
      "tags": []
     },
     "output_type": "execute_result"
    }
   ],
   "source": [
    "SVG(model_to_dot(log_ratio, show_layer_names=False, show_shapes=True)\n",
    "    .create(prog='dot', format='svg'))"
   ]
  },
  {
   "cell_type": "code",
   "execution_count": 0,
   "metadata": {
    "colab": {},
    "colab_type": "code",
    "id": "Uh72dB7j6W5M"
   },
   "outputs": [],
   "source": [
    "plot_model(model=log_ratio, \n",
    "           show_layer_names=False, \n",
    "           show_shapes=True,\n",
    "           to_file='log_ratio_architecture.svg')"
   ]
  },
  {
   "cell_type": "code",
   "execution_count": 0,
   "metadata": {
    "colab": {},
    "colab_type": "code",
    "id": "5u-FOFmD6W5S"
   },
   "outputs": [],
   "source": [
    "x_p = Input(tensor=p_samples)\n",
    "x_q = Input(tensor=q_samples)"
   ]
  },
  {
   "cell_type": "code",
   "execution_count": 0,
   "metadata": {
    "colab": {},
    "colab_type": "code",
    "id": "yAhingUC6W5U"
   },
   "outputs": [],
   "source": [
    "log_ratio_p = log_ratio(x_p)\n",
    "log_ratio_q = log_ratio(x_q)"
   ]
  },
  {
   "cell_type": "code",
   "execution_count": 0,
   "metadata": {
    "colab": {},
    "colab_type": "code",
    "id": "l617Cfun6W5W"
   },
   "outputs": [],
   "source": [
    "def _binary_crossentropy(log_ratio_p, log_ratio_q):\n",
    "\n",
    "    loss_p = tf.nn.sigmoid_cross_entropy_with_logits(\n",
    "        logits=log_ratio_p,\n",
    "        labels=tf.ones_like(log_ratio_p)\n",
    "    )\n",
    "\n",
    "    loss_q = tf.nn.sigmoid_cross_entropy_with_logits(\n",
    "        logits=log_ratio_q,\n",
    "        labels=tf.zeros_like(log_ratio_q)\n",
    "    )\n",
    "\n",
    "    return tf.reduce_mean(loss_p + loss_q)"
   ]
  },
  {
   "cell_type": "code",
   "execution_count": 0,
   "metadata": {
    "colab": {},
    "colab_type": "code",
    "id": "gNpA8LM16W5X"
   },
   "outputs": [],
   "source": [
    "m = Model(inputs=[x_p, x_q], outputs=[log_ratio_p, log_ratio_q])\n",
    "m.add_loss(_binary_crossentropy(log_ratio_p, log_ratio_q))\n",
    "m.compile(optimizer='rmsprop', loss=None)"
   ]
  },
  {
   "cell_type": "code",
   "execution_count": 0,
   "metadata": {
    "colab": {},
    "colab_type": "code",
    "id": "1TZgr7616W5Z",
    "outputId": "eb64a67d-4479-4b8c-da73-888afa13538d",
    "scrolled": false
   },
   "outputs": [
    {
     "name": "stdout",
     "output_type": "stream",
     "text": [
      "\r",
      "1/1 [==============================] - 0s 215ms/step\n"
     ]
    },
    {
     "data": {
      "text/plain": [
       "1.357100009918213"
      ]
     },
     "execution_count": 41,
     "metadata": {
      "tags": []
     },
     "output_type": "execute_result"
    }
   ],
   "source": [
    "m.evaluate(x=None, steps=1)"
   ]
  },
  {
   "cell_type": "code",
   "execution_count": 0,
   "metadata": {
    "colab": {},
    "colab_type": "code",
    "id": "bKaBK0Pi6W5b"
   },
   "outputs": [],
   "source": [
    "class PredictionHistory(Callback):\n",
    "        \n",
    "    def __init__(self):\n",
    "\n",
    "        self.predictions = []\n",
    "\n",
    "    def on_epoch_begin(self, epoch, logs):\n",
    "\n",
    "        self.predictions.append(log_ratio(xs).eval())"
   ]
  },
  {
   "cell_type": "code",
   "execution_count": 0,
   "metadata": {
    "colab": {},
    "colab_type": "code",
    "id": "CyfIoRBn6W5c"
   },
   "outputs": [],
   "source": [
    "hist_pred = PredictionHistory()"
   ]
  },
  {
   "cell_type": "code",
   "execution_count": 0,
   "metadata": {
    "colab": {},
    "colab_type": "code",
    "id": "_FrIwbo56W5f",
    "outputId": "979d9091-eaf6-4756-eca9-f9e1fed15371"
   },
   "outputs": [
    {
     "name": "stdout",
     "output_type": "stream",
     "text": [
      "Epoch 1/500\n",
      "1/1 [==============================] - 0s 78ms/step - loss: 1.3547\n",
      "Epoch 2/500\n",
      "1/1 [==============================] - 0s 5ms/step - loss: 1.3460\n",
      "Epoch 3/500\n",
      "1/1 [==============================] - 0s 4ms/step - loss: 1.3390\n",
      "Epoch 4/500\n",
      "1/1 [==============================] - 0s 5ms/step - loss: 1.3300\n",
      "Epoch 5/500\n",
      "1/1 [==============================] - 0s 4ms/step - loss: 1.3306\n",
      "Epoch 6/500\n",
      "1/1 [==============================] - 0s 4ms/step - loss: 1.3242\n",
      "Epoch 7/500\n",
      "1/1 [==============================] - 0s 5ms/step - loss: 1.3223\n",
      "Epoch 8/500\n",
      "1/1 [==============================] - 0s 4ms/step - loss: 1.3107\n",
      "Epoch 9/500\n",
      "1/1 [==============================] - 0s 5ms/step - loss: 1.3164\n",
      "Epoch 10/500\n",
      "1/1 [==============================] - 0s 4ms/step - loss: 1.3135\n",
      "Epoch 11/500\n",
      "1/1 [==============================] - 0s 4ms/step - loss: 1.3016\n",
      "Epoch 12/500\n",
      "1/1 [==============================] - 0s 4ms/step - loss: 1.3139\n",
      "Epoch 13/500\n",
      "1/1 [==============================] - 0s 4ms/step - loss: 1.3022\n",
      "Epoch 14/500\n",
      "1/1 [==============================] - 0s 4ms/step - loss: 1.2897\n",
      "Epoch 15/500\n",
      "1/1 [==============================] - 0s 5ms/step - loss: 1.3050\n",
      "Epoch 16/500\n",
      "1/1 [==============================] - 0s 4ms/step - loss: 1.2794\n",
      "Epoch 17/500\n",
      "1/1 [==============================] - 0s 5ms/step - loss: 1.2887\n",
      "Epoch 18/500\n",
      "1/1 [==============================] - 0s 4ms/step - loss: 1.2726\n",
      "Epoch 19/500\n",
      "1/1 [==============================] - 0s 5ms/step - loss: 1.2929\n",
      "Epoch 20/500\n",
      "1/1 [==============================] - 0s 4ms/step - loss: 1.2859\n",
      "Epoch 21/500\n",
      "1/1 [==============================] - 0s 4ms/step - loss: 1.2723\n",
      "Epoch 22/500\n",
      "1/1 [==============================] - 0s 5ms/step - loss: 1.2709\n",
      "Epoch 23/500\n",
      "1/1 [==============================] - 0s 4ms/step - loss: 1.2625\n",
      "Epoch 24/500\n",
      "1/1 [==============================] - 0s 6ms/step - loss: 1.2750\n",
      "Epoch 25/500\n",
      "1/1 [==============================] - 0s 4ms/step - loss: 1.2670\n",
      "Epoch 26/500\n",
      "1/1 [==============================] - 0s 4ms/step - loss: 1.2737\n",
      "Epoch 27/500\n",
      "1/1 [==============================] - 0s 4ms/step - loss: 1.2670\n",
      "Epoch 28/500\n",
      "1/1 [==============================] - 0s 5ms/step - loss: 1.2604\n",
      "Epoch 29/500\n",
      "1/1 [==============================] - 0s 4ms/step - loss: 1.2756\n",
      "Epoch 30/500\n",
      "1/1 [==============================] - 0s 4ms/step - loss: 1.2676\n",
      "Epoch 31/500\n",
      "1/1 [==============================] - 0s 4ms/step - loss: 1.2592\n",
      "Epoch 32/500\n",
      "1/1 [==============================] - 0s 4ms/step - loss: 1.2664\n",
      "Epoch 33/500\n",
      "1/1 [==============================] - 0s 4ms/step - loss: 1.2358\n",
      "Epoch 34/500\n",
      "1/1 [==============================] - 0s 4ms/step - loss: 1.2418\n",
      "Epoch 35/500\n",
      "1/1 [==============================] - 0s 4ms/step - loss: 1.2485\n",
      "Epoch 36/500\n",
      "1/1 [==============================] - 0s 4ms/step - loss: 1.2721\n",
      "Epoch 37/500\n",
      "1/1 [==============================] - 0s 4ms/step - loss: 1.2340\n",
      "Epoch 38/500\n",
      "1/1 [==============================] - 0s 4ms/step - loss: 1.2369\n",
      "Epoch 39/500\n",
      "1/1 [==============================] - 0s 4ms/step - loss: 1.2338\n",
      "Epoch 40/500\n",
      "1/1 [==============================] - 0s 5ms/step - loss: 1.2654\n",
      "Epoch 41/500\n",
      "1/1 [==============================] - 0s 4ms/step - loss: 1.2360\n",
      "Epoch 42/500\n",
      "1/1 [==============================] - 0s 3ms/step - loss: 1.2713\n",
      "Epoch 43/500\n",
      "1/1 [==============================] - 0s 4ms/step - loss: 1.2334\n",
      "Epoch 44/500\n",
      "1/1 [==============================] - 0s 4ms/step - loss: 1.2228\n",
      "Epoch 45/500\n",
      "1/1 [==============================] - 0s 3ms/step - loss: 1.2348\n",
      "Epoch 46/500\n",
      "1/1 [==============================] - 0s 4ms/step - loss: 1.2412\n",
      "Epoch 47/500\n",
      "1/1 [==============================] - 0s 4ms/step - loss: 1.2259\n",
      "Epoch 48/500\n",
      "1/1 [==============================] - 0s 4ms/step - loss: 1.2501\n",
      "Epoch 49/500\n",
      "1/1 [==============================] - 0s 6ms/step - loss: 1.2071\n",
      "Epoch 50/500\n",
      "1/1 [==============================] - 0s 4ms/step - loss: 1.2374\n",
      "Epoch 51/500\n",
      "1/1 [==============================] - 0s 4ms/step - loss: 1.2404\n",
      "Epoch 52/500\n",
      "1/1 [==============================] - 0s 4ms/step - loss: 1.2025\n",
      "Epoch 53/500\n",
      "1/1 [==============================] - 0s 5ms/step - loss: 1.2036\n",
      "Epoch 54/500\n",
      "1/1 [==============================] - 0s 5ms/step - loss: 1.2334\n",
      "Epoch 55/500\n",
      "1/1 [==============================] - 0s 3ms/step - loss: 1.2147\n",
      "Epoch 56/500\n",
      "1/1 [==============================] - 0s 5ms/step - loss: 1.1970\n",
      "Epoch 57/500\n",
      "1/1 [==============================] - 0s 4ms/step - loss: 1.1975\n",
      "Epoch 58/500\n",
      "1/1 [==============================] - 0s 4ms/step - loss: 1.2216\n",
      "Epoch 59/500\n",
      "1/1 [==============================] - 0s 4ms/step - loss: 1.2305\n",
      "Epoch 60/500\n",
      "1/1 [==============================] - 0s 4ms/step - loss: 1.1782\n",
      "Epoch 61/500\n",
      "1/1 [==============================] - 0s 4ms/step - loss: 1.1606\n",
      "Epoch 62/500\n",
      "1/1 [==============================] - 0s 4ms/step - loss: 1.1953\n",
      "Epoch 63/500\n",
      "1/1 [==============================] - 0s 4ms/step - loss: 1.2164\n",
      "Epoch 64/500\n",
      "1/1 [==============================] - 0s 4ms/step - loss: 1.1865\n",
      "Epoch 65/500\n",
      "1/1 [==============================] - 0s 4ms/step - loss: 1.1901\n",
      "Epoch 66/500\n",
      "1/1 [==============================] - 0s 4ms/step - loss: 1.2187\n",
      "Epoch 67/500\n",
      "1/1 [==============================] - 0s 3ms/step - loss: 1.2146\n",
      "Epoch 68/500\n",
      "1/1 [==============================] - 0s 4ms/step - loss: 1.2216\n",
      "Epoch 69/500\n",
      "1/1 [==============================] - 0s 4ms/step - loss: 1.1946\n",
      "Epoch 70/500\n",
      "1/1 [==============================] - 0s 4ms/step - loss: 1.2014\n",
      "Epoch 71/500\n",
      "1/1 [==============================] - 0s 4ms/step - loss: 1.1830\n",
      "Epoch 72/500\n",
      "1/1 [==============================] - 0s 4ms/step - loss: 1.1722\n",
      "Epoch 73/500\n",
      "1/1 [==============================] - 0s 4ms/step - loss: 1.1928\n",
      "Epoch 74/500\n",
      "1/1 [==============================] - 0s 4ms/step - loss: 1.1795\n",
      "Epoch 75/500\n",
      "1/1 [==============================] - 0s 3ms/step - loss: 1.2153\n",
      "Epoch 76/500\n",
      "1/1 [==============================] - 0s 4ms/step - loss: 1.2065\n",
      "Epoch 77/500\n",
      "1/1 [==============================] - 0s 4ms/step - loss: 1.1707\n",
      "Epoch 78/500\n",
      "1/1 [==============================] - 0s 4ms/step - loss: 1.1800\n",
      "Epoch 79/500\n",
      "1/1 [==============================] - 0s 4ms/step - loss: 1.2096\n",
      "Epoch 80/500\n",
      "1/1 [==============================] - 0s 4ms/step - loss: 1.1687\n",
      "Epoch 81/500\n",
      "1/1 [==============================] - 0s 3ms/step - loss: 1.1694\n",
      "Epoch 82/500\n",
      "1/1 [==============================] - 0s 4ms/step - loss: 1.1646\n",
      "Epoch 83/500\n",
      "1/1 [==============================] - 0s 4ms/step - loss: 1.1935\n",
      "Epoch 84/500\n",
      "1/1 [==============================] - 0s 3ms/step - loss: 1.1924\n",
      "Epoch 85/500\n",
      "1/1 [==============================] - 0s 3ms/step - loss: 1.1366\n",
      "Epoch 86/500\n",
      "1/1 [==============================] - 0s 3ms/step - loss: 1.1485\n",
      "Epoch 87/500\n",
      "1/1 [==============================] - 0s 3ms/step - loss: 1.1835\n",
      "Epoch 88/500\n",
      "1/1 [==============================] - 0s 3ms/step - loss: 1.2216\n",
      "Epoch 89/500\n",
      "1/1 [==============================] - 0s 4ms/step - loss: 1.1867\n",
      "Epoch 90/500\n",
      "1/1 [==============================] - 0s 3ms/step - loss: 1.1574\n",
      "Epoch 91/500\n",
      "1/1 [==============================] - 0s 3ms/step - loss: 1.1759\n",
      "Epoch 92/500\n",
      "1/1 [==============================] - 0s 3ms/step - loss: 1.1688\n",
      "Epoch 93/500\n",
      "1/1 [==============================] - 0s 3ms/step - loss: 1.1557\n",
      "Epoch 94/500\n",
      "1/1 [==============================] - 0s 4ms/step - loss: 1.1603\n",
      "Epoch 95/500\n",
      "1/1 [==============================] - 0s 4ms/step - loss: 1.1322\n",
      "Epoch 96/500\n",
      "1/1 [==============================] - 0s 3ms/step - loss: 1.1703\n",
      "Epoch 97/500\n",
      "1/1 [==============================] - 0s 4ms/step - loss: 1.1983\n",
      "Epoch 98/500\n",
      "1/1 [==============================] - 0s 4ms/step - loss: 1.1644\n",
      "Epoch 99/500\n",
      "1/1 [==============================] - 0s 4ms/step - loss: 1.2133\n",
      "Epoch 100/500\n",
      "1/1 [==============================] - 0s 4ms/step - loss: 1.1384\n",
      "Epoch 101/500\n",
      "1/1 [==============================] - 0s 4ms/step - loss: 1.2194\n",
      "Epoch 102/500\n",
      "1/1 [==============================] - 0s 4ms/step - loss: 1.1253\n",
      "Epoch 103/500\n",
      "1/1 [==============================] - 0s 4ms/step - loss: 1.1637\n",
      "Epoch 104/500\n",
      "1/1 [==============================] - 0s 3ms/step - loss: 1.1504\n"
     ]
    },
    {
     "name": "stdout",
     "output_type": "stream",
     "text": [
      "Epoch 105/500\n",
      "1/1 [==============================] - 0s 4ms/step - loss: 1.1397\n",
      "Epoch 106/500\n",
      "1/1 [==============================] - 0s 4ms/step - loss: 1.1793\n",
      "Epoch 107/500\n",
      "1/1 [==============================] - 0s 3ms/step - loss: 1.1838\n",
      "Epoch 108/500\n",
      "1/1 [==============================] - 0s 4ms/step - loss: 1.1497\n",
      "Epoch 109/500\n",
      "1/1 [==============================] - 0s 4ms/step - loss: 1.1473\n",
      "Epoch 110/500\n",
      "1/1 [==============================] - 0s 4ms/step - loss: 1.1939\n",
      "Epoch 111/500\n",
      "1/1 [==============================] - 0s 4ms/step - loss: 1.1742\n",
      "Epoch 112/500\n",
      "1/1 [==============================] - 0s 4ms/step - loss: 1.1274\n",
      "Epoch 113/500\n",
      "1/1 [==============================] - 0s 3ms/step - loss: 1.1267\n",
      "Epoch 114/500\n",
      "1/1 [==============================] - 0s 4ms/step - loss: 1.1457\n",
      "Epoch 115/500\n",
      "1/1 [==============================] - 0s 4ms/step - loss: 1.1577\n",
      "Epoch 116/500\n",
      "1/1 [==============================] - 0s 3ms/step - loss: 1.1902\n",
      "Epoch 117/500\n",
      "1/1 [==============================] - 0s 4ms/step - loss: 1.1752\n",
      "Epoch 118/500\n",
      "1/1 [==============================] - 0s 4ms/step - loss: 1.1467\n",
      "Epoch 119/500\n",
      "1/1 [==============================] - 0s 4ms/step - loss: 1.1256\n",
      "Epoch 120/500\n",
      "1/1 [==============================] - 0s 4ms/step - loss: 1.1485\n",
      "Epoch 121/500\n",
      "1/1 [==============================] - 0s 4ms/step - loss: 1.1566\n",
      "Epoch 122/500\n",
      "1/1 [==============================] - 0s 5ms/step - loss: 1.1587\n",
      "Epoch 123/500\n",
      "1/1 [==============================] - 0s 3ms/step - loss: 1.1645\n",
      "Epoch 124/500\n",
      "1/1 [==============================] - 0s 7ms/step - loss: 1.1009\n",
      "Epoch 125/500\n",
      "1/1 [==============================] - 0s 4ms/step - loss: 1.1594\n",
      "Epoch 126/500\n",
      "1/1 [==============================] - 0s 3ms/step - loss: 1.1156\n",
      "Epoch 127/500\n",
      "1/1 [==============================] - 0s 4ms/step - loss: 1.1314\n",
      "Epoch 128/500\n",
      "1/1 [==============================] - 0s 3ms/step - loss: 1.1711\n",
      "Epoch 129/500\n",
      "1/1 [==============================] - 0s 4ms/step - loss: 1.1790\n",
      "Epoch 130/500\n",
      "1/1 [==============================] - 0s 4ms/step - loss: 1.0907\n",
      "Epoch 131/500\n",
      "1/1 [==============================] - 0s 4ms/step - loss: 1.1418\n",
      "Epoch 132/500\n",
      "1/1 [==============================] - 0s 4ms/step - loss: 1.1301\n",
      "Epoch 133/500\n",
      "1/1 [==============================] - 0s 3ms/step - loss: 1.1643\n",
      "Epoch 134/500\n",
      "1/1 [==============================] - 0s 3ms/step - loss: 1.1933\n",
      "Epoch 135/500\n",
      "1/1 [==============================] - 0s 4ms/step - loss: 1.1461\n",
      "Epoch 136/500\n",
      "1/1 [==============================] - 0s 4ms/step - loss: 1.1433\n",
      "Epoch 137/500\n",
      "1/1 [==============================] - 0s 3ms/step - loss: 1.1015\n",
      "Epoch 138/500\n",
      "1/1 [==============================] - 0s 4ms/step - loss: 1.1041\n",
      "Epoch 139/500\n",
      "1/1 [==============================] - 0s 3ms/step - loss: 1.1560\n",
      "Epoch 140/500\n",
      "1/1 [==============================] - 0s 4ms/step - loss: 1.1883\n",
      "Epoch 141/500\n",
      "1/1 [==============================] - 0s 4ms/step - loss: 1.2050\n",
      "Epoch 142/500\n",
      "1/1 [==============================] - 0s 5ms/step - loss: 1.1162\n",
      "Epoch 143/500\n",
      "1/1 [==============================] - 0s 4ms/step - loss: 1.1824\n",
      "Epoch 144/500\n",
      "1/1 [==============================] - 0s 3ms/step - loss: 1.1590\n",
      "Epoch 145/500\n",
      "1/1 [==============================] - 0s 4ms/step - loss: 1.1451\n",
      "Epoch 146/500\n",
      "1/1 [==============================] - 0s 4ms/step - loss: 1.1244\n",
      "Epoch 147/500\n",
      "1/1 [==============================] - 0s 4ms/step - loss: 1.1455\n",
      "Epoch 148/500\n",
      "1/1 [==============================] - 0s 4ms/step - loss: 1.1605\n",
      "Epoch 149/500\n",
      "1/1 [==============================] - 0s 3ms/step - loss: 1.1436\n",
      "Epoch 150/500\n",
      "1/1 [==============================] - 0s 5ms/step - loss: 1.1052\n",
      "Epoch 151/500\n",
      "1/1 [==============================] - 0s 4ms/step - loss: 1.1889\n",
      "Epoch 152/500\n",
      "1/1 [==============================] - 0s 3ms/step - loss: 1.1468\n",
      "Epoch 153/500\n",
      "1/1 [==============================] - 0s 3ms/step - loss: 1.1207\n",
      "Epoch 154/500\n",
      "1/1 [==============================] - 0s 4ms/step - loss: 1.1387\n",
      "Epoch 155/500\n",
      "1/1 [==============================] - 0s 4ms/step - loss: 1.1440\n",
      "Epoch 156/500\n",
      "1/1 [==============================] - 0s 4ms/step - loss: 1.1285\n",
      "Epoch 157/500\n",
      "1/1 [==============================] - 0s 3ms/step - loss: 1.1322\n",
      "Epoch 158/500\n",
      "1/1 [==============================] - 0s 4ms/step - loss: 1.1686\n",
      "Epoch 159/500\n",
      "1/1 [==============================] - 0s 4ms/step - loss: 1.1082\n",
      "Epoch 160/500\n",
      "1/1 [==============================] - 0s 4ms/step - loss: 1.1193\n",
      "Epoch 161/500\n",
      "1/1 [==============================] - 0s 4ms/step - loss: 1.1170\n",
      "Epoch 162/500\n",
      "1/1 [==============================] - 0s 4ms/step - loss: 1.0906\n",
      "Epoch 163/500\n",
      "1/1 [==============================] - 0s 4ms/step - loss: 1.1226\n",
      "Epoch 164/500\n",
      "1/1 [==============================] - 0s 3ms/step - loss: 1.1168\n",
      "Epoch 165/500\n",
      "1/1 [==============================] - 0s 4ms/step - loss: 1.1458\n",
      "Epoch 166/500\n",
      "1/1 [==============================] - 0s 4ms/step - loss: 1.1079\n",
      "Epoch 167/500\n",
      "1/1 [==============================] - 0s 4ms/step - loss: 1.1473\n",
      "Epoch 168/500\n",
      "1/1 [==============================] - 0s 4ms/step - loss: 1.1395\n",
      "Epoch 169/500\n",
      "1/1 [==============================] - 0s 4ms/step - loss: 1.1001\n",
      "Epoch 170/500\n",
      "1/1 [==============================] - 0s 4ms/step - loss: 1.1406\n",
      "Epoch 171/500\n",
      "1/1 [==============================] - 0s 4ms/step - loss: 1.1413\n",
      "Epoch 172/500\n",
      "1/1 [==============================] - 0s 4ms/step - loss: 1.1945\n",
      "Epoch 173/500\n",
      "1/1 [==============================] - 0s 4ms/step - loss: 1.1741\n",
      "Epoch 174/500\n",
      "1/1 [==============================] - 0s 3ms/step - loss: 1.1820\n",
      "Epoch 175/500\n",
      "1/1 [==============================] - 0s 3ms/step - loss: 1.1532\n",
      "Epoch 176/500\n",
      "1/1 [==============================] - 0s 4ms/step - loss: 1.1065\n",
      "Epoch 177/500\n",
      "1/1 [==============================] - 0s 4ms/step - loss: 1.1668\n",
      "Epoch 178/500\n",
      "1/1 [==============================] - 0s 3ms/step - loss: 1.1677\n",
      "Epoch 179/500\n",
      "1/1 [==============================] - 0s 4ms/step - loss: 1.1770\n",
      "Epoch 180/500\n",
      "1/1 [==============================] - 0s 3ms/step - loss: 1.1358\n",
      "Epoch 181/500\n",
      "1/1 [==============================] - 0s 3ms/step - loss: 1.1191\n",
      "Epoch 182/500\n",
      "1/1 [==============================] - 0s 4ms/step - loss: 1.1369\n",
      "Epoch 183/500\n",
      "1/1 [==============================] - 0s 4ms/step - loss: 1.0827\n",
      "Epoch 184/500\n",
      "1/1 [==============================] - 0s 4ms/step - loss: 1.1403\n",
      "Epoch 185/500\n",
      "1/1 [==============================] - 0s 4ms/step - loss: 1.1302\n",
      "Epoch 186/500\n",
      "1/1 [==============================] - 0s 3ms/step - loss: 1.1276\n",
      "Epoch 187/500\n",
      "1/1 [==============================] - 0s 4ms/step - loss: 1.0572\n",
      "Epoch 188/500\n",
      "1/1 [==============================] - 0s 4ms/step - loss: 1.1506\n",
      "Epoch 189/500\n",
      "1/1 [==============================] - 0s 4ms/step - loss: 1.1693\n",
      "Epoch 190/500\n",
      "1/1 [==============================] - 0s 3ms/step - loss: 1.1636\n",
      "Epoch 191/500\n",
      "1/1 [==============================] - 0s 3ms/step - loss: 1.1681\n",
      "Epoch 192/500\n",
      "1/1 [==============================] - 0s 4ms/step - loss: 1.1847\n",
      "Epoch 193/500\n",
      "1/1 [==============================] - 0s 3ms/step - loss: 1.1172\n",
      "Epoch 194/500\n",
      "1/1 [==============================] - 0s 3ms/step - loss: 1.0903\n",
      "Epoch 195/500\n",
      "1/1 [==============================] - 0s 3ms/step - loss: 1.1467\n",
      "Epoch 196/500\n",
      "1/1 [==============================] - 0s 4ms/step - loss: 1.1915\n",
      "Epoch 197/500\n",
      "1/1 [==============================] - 0s 4ms/step - loss: 1.1233\n",
      "Epoch 198/500\n",
      "1/1 [==============================] - 0s 5ms/step - loss: 1.1444\n",
      "Epoch 199/500\n",
      "1/1 [==============================] - 0s 4ms/step - loss: 1.1244\n",
      "Epoch 200/500\n",
      "1/1 [==============================] - 0s 4ms/step - loss: 1.1073\n",
      "Epoch 201/500\n",
      "1/1 [==============================] - 0s 4ms/step - loss: 1.1477\n",
      "Epoch 202/500\n",
      "1/1 [==============================] - 0s 3ms/step - loss: 1.1400\n",
      "Epoch 203/500\n",
      "1/1 [==============================] - 0s 3ms/step - loss: 1.1375\n",
      "Epoch 204/500\n",
      "1/1 [==============================] - 0s 4ms/step - loss: 1.1764\n",
      "Epoch 205/500\n",
      "1/1 [==============================] - 0s 3ms/step - loss: 1.1482\n",
      "Epoch 206/500\n",
      "1/1 [==============================] - 0s 4ms/step - loss: 1.1569\n",
      "Epoch 207/500\n",
      "1/1 [==============================] - 0s 4ms/step - loss: 1.1653\n"
     ]
    },
    {
     "name": "stdout",
     "output_type": "stream",
     "text": [
      "Epoch 208/500\n",
      "1/1 [==============================] - 0s 4ms/step - loss: 1.1214\n",
      "Epoch 209/500\n",
      "1/1 [==============================] - 0s 4ms/step - loss: 1.1719\n",
      "Epoch 210/500\n",
      "1/1 [==============================] - 0s 4ms/step - loss: 1.0741\n",
      "Epoch 211/500\n",
      "1/1 [==============================] - 0s 4ms/step - loss: 1.2381\n",
      "Epoch 212/500\n",
      "1/1 [==============================] - 0s 3ms/step - loss: 1.1877\n",
      "Epoch 213/500\n",
      "1/1 [==============================] - 0s 4ms/step - loss: 1.1771\n",
      "Epoch 214/500\n",
      "1/1 [==============================] - 0s 4ms/step - loss: 1.1602\n",
      "Epoch 215/500\n",
      "1/1 [==============================] - 0s 3ms/step - loss: 1.1639\n",
      "Epoch 216/500\n",
      "1/1 [==============================] - 0s 4ms/step - loss: 1.1249\n",
      "Epoch 217/500\n",
      "1/1 [==============================] - 0s 4ms/step - loss: 1.1204\n",
      "Epoch 218/500\n",
      "1/1 [==============================] - 0s 4ms/step - loss: 1.1316\n",
      "Epoch 219/500\n",
      "1/1 [==============================] - 0s 3ms/step - loss: 1.1622\n",
      "Epoch 220/500\n",
      "1/1 [==============================] - 0s 4ms/step - loss: 1.1240\n",
      "Epoch 221/500\n",
      "1/1 [==============================] - 0s 4ms/step - loss: 1.1383\n",
      "Epoch 222/500\n",
      "1/1 [==============================] - 0s 3ms/step - loss: 1.1638\n",
      "Epoch 223/500\n",
      "1/1 [==============================] - 0s 4ms/step - loss: 1.1595\n",
      "Epoch 224/500\n",
      "1/1 [==============================] - 0s 4ms/step - loss: 1.1365\n",
      "Epoch 225/500\n",
      "1/1 [==============================] - 0s 4ms/step - loss: 1.1415\n",
      "Epoch 226/500\n",
      "1/1 [==============================] - 0s 4ms/step - loss: 1.1402\n",
      "Epoch 227/500\n",
      "1/1 [==============================] - 0s 4ms/step - loss: 1.1849\n",
      "Epoch 228/500\n",
      "1/1 [==============================] - 0s 3ms/step - loss: 1.1542\n",
      "Epoch 229/500\n",
      "1/1 [==============================] - 0s 4ms/step - loss: 1.1331\n",
      "Epoch 230/500\n",
      "1/1 [==============================] - 0s 3ms/step - loss: 1.1294\n",
      "Epoch 231/500\n",
      "1/1 [==============================] - 0s 4ms/step - loss: 1.1242\n",
      "Epoch 232/500\n",
      "1/1 [==============================] - 0s 4ms/step - loss: 1.1051\n",
      "Epoch 233/500\n",
      "1/1 [==============================] - 0s 3ms/step - loss: 1.1470\n",
      "Epoch 234/500\n",
      "1/1 [==============================] - 0s 3ms/step - loss: 1.1089\n",
      "Epoch 235/500\n",
      "1/1 [==============================] - 0s 4ms/step - loss: 1.1449\n",
      "Epoch 236/500\n",
      "1/1 [==============================] - 0s 4ms/step - loss: 1.1554\n",
      "Epoch 237/500\n",
      "1/1 [==============================] - 0s 4ms/step - loss: 1.1286\n",
      "Epoch 238/500\n",
      "1/1 [==============================] - 0s 5ms/step - loss: 1.1090\n",
      "Epoch 239/500\n",
      "1/1 [==============================] - 0s 4ms/step - loss: 1.1416\n",
      "Epoch 240/500\n",
      "1/1 [==============================] - 0s 3ms/step - loss: 1.1854\n",
      "Epoch 241/500\n",
      "1/1 [==============================] - 0s 3ms/step - loss: 1.1619\n",
      "Epoch 242/500\n",
      "1/1 [==============================] - 0s 4ms/step - loss: 1.1685\n",
      "Epoch 243/500\n",
      "1/1 [==============================] - 0s 4ms/step - loss: 1.1408\n",
      "Epoch 244/500\n",
      "1/1 [==============================] - 0s 4ms/step - loss: 1.1357\n",
      "Epoch 245/500\n",
      "1/1 [==============================] - 0s 4ms/step - loss: 1.1459\n",
      "Epoch 246/500\n",
      "1/1 [==============================] - 0s 4ms/step - loss: 1.1512\n",
      "Epoch 247/500\n",
      "1/1 [==============================] - 0s 3ms/step - loss: 1.1122\n",
      "Epoch 248/500\n",
      "1/1 [==============================] - 0s 3ms/step - loss: 1.1016\n",
      "Epoch 249/500\n",
      "1/1 [==============================] - 0s 3ms/step - loss: 1.1262\n",
      "Epoch 250/500\n",
      "1/1 [==============================] - 0s 4ms/step - loss: 1.1171\n",
      "Epoch 251/500\n",
      "1/1 [==============================] - 0s 4ms/step - loss: 1.1707\n",
      "Epoch 252/500\n",
      "1/1 [==============================] - 0s 4ms/step - loss: 1.1563\n",
      "Epoch 253/500\n",
      "1/1 [==============================] - 0s 4ms/step - loss: 1.1879\n",
      "Epoch 254/500\n",
      "1/1 [==============================] - 0s 3ms/step - loss: 1.1321\n",
      "Epoch 255/500\n",
      "1/1 [==============================] - 0s 3ms/step - loss: 1.1847\n",
      "Epoch 256/500\n",
      "1/1 [==============================] - 0s 3ms/step - loss: 1.1781\n",
      "Epoch 257/500\n",
      "1/1 [==============================] - 0s 4ms/step - loss: 1.1498\n",
      "Epoch 258/500\n",
      "1/1 [==============================] - 0s 4ms/step - loss: 1.1691\n",
      "Epoch 259/500\n",
      "1/1 [==============================] - 0s 3ms/step - loss: 1.1407\n",
      "Epoch 260/500\n",
      "1/1 [==============================] - 0s 4ms/step - loss: 1.1408\n",
      "Epoch 261/500\n",
      "1/1 [==============================] - 0s 6ms/step - loss: 1.1225\n",
      "Epoch 262/500\n",
      "1/1 [==============================] - 0s 4ms/step - loss: 1.1126\n",
      "Epoch 263/500\n",
      "1/1 [==============================] - 0s 4ms/step - loss: 1.1074\n",
      "Epoch 264/500\n",
      "1/1 [==============================] - 0s 4ms/step - loss: 1.1120\n",
      "Epoch 265/500\n",
      "1/1 [==============================] - 0s 4ms/step - loss: 1.1475\n",
      "Epoch 266/500\n",
      "1/1 [==============================] - 0s 4ms/step - loss: 1.1317\n",
      "Epoch 267/500\n",
      "1/1 [==============================] - 0s 4ms/step - loss: 1.1321\n",
      "Epoch 268/500\n",
      "1/1 [==============================] - 0s 4ms/step - loss: 1.1805\n",
      "Epoch 269/500\n",
      "1/1 [==============================] - 0s 4ms/step - loss: 1.2043\n",
      "Epoch 270/500\n",
      "1/1 [==============================] - 0s 4ms/step - loss: 1.1156\n",
      "Epoch 271/500\n",
      "1/1 [==============================] - 0s 4ms/step - loss: 1.1039\n",
      "Epoch 272/500\n",
      "1/1 [==============================] - 0s 4ms/step - loss: 1.1607\n",
      "Epoch 273/500\n",
      "1/1 [==============================] - 0s 4ms/step - loss: 1.1498\n",
      "Epoch 274/500\n",
      "1/1 [==============================] - 0s 3ms/step - loss: 1.1112\n",
      "Epoch 275/500\n",
      "1/1 [==============================] - 0s 4ms/step - loss: 1.1329\n",
      "Epoch 276/500\n",
      "1/1 [==============================] - 0s 4ms/step - loss: 1.1721\n",
      "Epoch 277/500\n",
      "1/1 [==============================] - 0s 4ms/step - loss: 1.1291\n",
      "Epoch 278/500\n",
      "1/1 [==============================] - 0s 4ms/step - loss: 1.1047\n",
      "Epoch 279/500\n",
      "1/1 [==============================] - 0s 3ms/step - loss: 1.1517\n",
      "Epoch 280/500\n",
      "1/1 [==============================] - 0s 3ms/step - loss: 1.1282\n",
      "Epoch 281/500\n",
      "1/1 [==============================] - 0s 4ms/step - loss: 1.1352\n",
      "Epoch 282/500\n",
      "1/1 [==============================] - 0s 3ms/step - loss: 1.1290\n",
      "Epoch 283/500\n",
      "1/1 [==============================] - 0s 3ms/step - loss: 1.1454\n",
      "Epoch 284/500\n",
      "1/1 [==============================] - 0s 4ms/step - loss: 1.1212\n",
      "Epoch 285/500\n",
      "1/1 [==============================] - 0s 4ms/step - loss: 1.0813\n",
      "Epoch 286/500\n",
      "1/1 [==============================] - 0s 4ms/step - loss: 1.1313\n",
      "Epoch 287/500\n",
      "1/1 [==============================] - 0s 4ms/step - loss: 1.1241\n",
      "Epoch 288/500\n",
      "1/1 [==============================] - 0s 4ms/step - loss: 1.1576\n",
      "Epoch 289/500\n",
      "1/1 [==============================] - 0s 4ms/step - loss: 1.1249\n",
      "Epoch 290/500\n",
      "1/1 [==============================] - 0s 4ms/step - loss: 1.1280\n",
      "Epoch 291/500\n",
      "1/1 [==============================] - 0s 4ms/step - loss: 1.1179\n",
      "Epoch 292/500\n",
      "1/1 [==============================] - 0s 3ms/step - loss: 1.1102\n",
      "Epoch 293/500\n",
      "1/1 [==============================] - 0s 3ms/step - loss: 1.1253\n",
      "Epoch 294/500\n",
      "1/1 [==============================] - 0s 4ms/step - loss: 1.1254\n",
      "Epoch 295/500\n",
      "1/1 [==============================] - 0s 4ms/step - loss: 1.0861\n",
      "Epoch 296/500\n",
      "1/1 [==============================] - 0s 4ms/step - loss: 1.1497\n",
      "Epoch 297/500\n",
      "1/1 [==============================] - 0s 4ms/step - loss: 1.1680\n",
      "Epoch 298/500\n",
      "1/1 [==============================] - 0s 4ms/step - loss: 1.1050\n",
      "Epoch 299/500\n",
      "1/1 [==============================] - 0s 4ms/step - loss: 1.1490\n",
      "Epoch 300/500\n",
      "1/1 [==============================] - 0s 3ms/step - loss: 1.1842\n",
      "Epoch 301/500\n",
      "1/1 [==============================] - 0s 4ms/step - loss: 1.1177\n",
      "Epoch 302/500\n",
      "1/1 [==============================] - 0s 4ms/step - loss: 1.1330\n",
      "Epoch 303/500\n",
      "1/1 [==============================] - 0s 4ms/step - loss: 1.1542\n",
      "Epoch 304/500\n",
      "1/1 [==============================] - 0s 4ms/step - loss: 1.1437\n",
      "Epoch 305/500\n",
      "1/1 [==============================] - 0s 4ms/step - loss: 1.0965\n",
      "Epoch 306/500\n",
      "1/1 [==============================] - 0s 4ms/step - loss: 1.1098\n",
      "Epoch 307/500\n",
      "1/1 [==============================] - 0s 4ms/step - loss: 1.1247\n",
      "Epoch 308/500\n",
      "1/1 [==============================] - 0s 4ms/step - loss: 1.1681\n",
      "Epoch 309/500\n",
      "1/1 [==============================] - 0s 3ms/step - loss: 1.1352\n",
      "Epoch 310/500\n",
      "1/1 [==============================] - 0s 4ms/step - loss: 1.1166\n"
     ]
    },
    {
     "name": "stdout",
     "output_type": "stream",
     "text": [
      "Epoch 311/500\n",
      "1/1 [==============================] - 0s 4ms/step - loss: 1.0795\n",
      "Epoch 312/500\n",
      "1/1 [==============================] - 0s 4ms/step - loss: 1.1356\n",
      "Epoch 313/500\n",
      "1/1 [==============================] - 0s 4ms/step - loss: 1.1719\n",
      "Epoch 314/500\n",
      "1/1 [==============================] - 0s 4ms/step - loss: 1.1513\n",
      "Epoch 315/500\n",
      "1/1 [==============================] - 0s 3ms/step - loss: 1.0873\n",
      "Epoch 316/500\n",
      "1/1 [==============================] - 0s 3ms/step - loss: 1.1608\n",
      "Epoch 317/500\n",
      "1/1 [==============================] - 0s 3ms/step - loss: 1.1580\n",
      "Epoch 318/500\n",
      "1/1 [==============================] - 0s 5ms/step - loss: 1.1041\n",
      "Epoch 319/500\n",
      "1/1 [==============================] - 0s 4ms/step - loss: 1.1493\n",
      "Epoch 320/500\n",
      "1/1 [==============================] - 0s 3ms/step - loss: 1.0978\n",
      "Epoch 321/500\n",
      "1/1 [==============================] - 0s 4ms/step - loss: 1.1575\n",
      "Epoch 322/500\n",
      "1/1 [==============================] - 0s 4ms/step - loss: 1.1235\n",
      "Epoch 323/500\n",
      "1/1 [==============================] - 0s 4ms/step - loss: 1.1033\n",
      "Epoch 324/500\n",
      "1/1 [==============================] - 0s 3ms/step - loss: 1.1534\n",
      "Epoch 325/500\n",
      "1/1 [==============================] - 0s 4ms/step - loss: 1.1027\n",
      "Epoch 326/500\n",
      "1/1 [==============================] - 0s 4ms/step - loss: 1.1538\n",
      "Epoch 327/500\n",
      "1/1 [==============================] - 0s 4ms/step - loss: 1.0713\n",
      "Epoch 328/500\n",
      "1/1 [==============================] - 0s 4ms/step - loss: 1.1587\n",
      "Epoch 329/500\n",
      "1/1 [==============================] - 0s 3ms/step - loss: 1.1707\n",
      "Epoch 330/500\n",
      "1/1 [==============================] - 0s 3ms/step - loss: 1.1006\n",
      "Epoch 331/500\n",
      "1/1 [==============================] - 0s 4ms/step - loss: 1.1479\n",
      "Epoch 332/500\n",
      "1/1 [==============================] - 0s 4ms/step - loss: 1.1738\n",
      "Epoch 333/500\n",
      "1/1 [==============================] - 0s 3ms/step - loss: 1.1367\n",
      "Epoch 334/500\n",
      "1/1 [==============================] - 0s 3ms/step - loss: 1.1428\n",
      "Epoch 335/500\n",
      "1/1 [==============================] - 0s 3ms/step - loss: 1.1186\n",
      "Epoch 336/500\n",
      "1/1 [==============================] - 0s 4ms/step - loss: 1.1553\n",
      "Epoch 337/500\n",
      "1/1 [==============================] - 0s 4ms/step - loss: 1.1491\n",
      "Epoch 338/500\n",
      "1/1 [==============================] - 0s 4ms/step - loss: 1.1307\n",
      "Epoch 339/500\n",
      "1/1 [==============================] - 0s 4ms/step - loss: 1.1531\n",
      "Epoch 340/500\n",
      "1/1 [==============================] - 0s 4ms/step - loss: 1.1380\n",
      "Epoch 341/500\n",
      "1/1 [==============================] - 0s 4ms/step - loss: 1.1475\n",
      "Epoch 342/500\n",
      "1/1 [==============================] - 0s 3ms/step - loss: 1.1588\n",
      "Epoch 343/500\n",
      "1/1 [==============================] - 0s 4ms/step - loss: 1.0924\n",
      "Epoch 344/500\n",
      "1/1 [==============================] - 0s 4ms/step - loss: 1.1319\n",
      "Epoch 345/500\n",
      "1/1 [==============================] - 0s 4ms/step - loss: 1.1212\n",
      "Epoch 346/500\n",
      "1/1 [==============================] - 0s 4ms/step - loss: 1.1306\n",
      "Epoch 347/500\n",
      "1/1 [==============================] - 0s 3ms/step - loss: 1.1267\n",
      "Epoch 348/500\n",
      "1/1 [==============================] - 0s 3ms/step - loss: 1.1256\n",
      "Epoch 349/500\n",
      "1/1 [==============================] - 0s 3ms/step - loss: 1.1401\n",
      "Epoch 350/500\n",
      "1/1 [==============================] - 0s 4ms/step - loss: 1.1088\n",
      "Epoch 351/500\n",
      "1/1 [==============================] - 0s 3ms/step - loss: 1.1041\n",
      "Epoch 352/500\n",
      "1/1 [==============================] - 0s 3ms/step - loss: 1.1147\n",
      "Epoch 353/500\n",
      "1/1 [==============================] - 0s 4ms/step - loss: 1.1475\n",
      "Epoch 354/500\n",
      "1/1 [==============================] - 0s 4ms/step - loss: 1.1130\n",
      "Epoch 355/500\n",
      "1/1 [==============================] - 0s 3ms/step - loss: 1.1060\n",
      "Epoch 356/500\n",
      "1/1 [==============================] - 0s 4ms/step - loss: 1.1754\n",
      "Epoch 357/500\n",
      "1/1 [==============================] - 0s 4ms/step - loss: 1.0851\n",
      "Epoch 358/500\n",
      "1/1 [==============================] - 0s 4ms/step - loss: 1.1048\n",
      "Epoch 359/500\n",
      "1/1 [==============================] - 0s 4ms/step - loss: 1.0979\n",
      "Epoch 360/500\n",
      "1/1 [==============================] - 0s 3ms/step - loss: 1.1038\n",
      "Epoch 361/500\n",
      "1/1 [==============================] - 0s 4ms/step - loss: 1.1604\n",
      "Epoch 362/500\n",
      "1/1 [==============================] - 0s 4ms/step - loss: 1.1555\n",
      "Epoch 363/500\n",
      "1/1 [==============================] - 0s 4ms/step - loss: 1.1361\n",
      "Epoch 364/500\n",
      "1/1 [==============================] - 0s 3ms/step - loss: 1.1746\n",
      "Epoch 365/500\n",
      "1/1 [==============================] - 0s 4ms/step - loss: 1.1565\n",
      "Epoch 366/500\n",
      "1/1 [==============================] - 0s 4ms/step - loss: 1.1007\n",
      "Epoch 367/500\n",
      "1/1 [==============================] - 0s 4ms/step - loss: 1.1504\n",
      "Epoch 368/500\n",
      "1/1 [==============================] - 0s 4ms/step - loss: 1.1433\n",
      "Epoch 369/500\n",
      "1/1 [==============================] - 0s 4ms/step - loss: 1.1176\n",
      "Epoch 370/500\n",
      "1/1 [==============================] - 0s 6ms/step - loss: 1.1180\n",
      "Epoch 371/500\n",
      "1/1 [==============================] - 0s 3ms/step - loss: 1.1098\n",
      "Epoch 372/500\n",
      "1/1 [==============================] - 0s 4ms/step - loss: 1.2001\n",
      "Epoch 373/500\n",
      "1/1 [==============================] - 0s 4ms/step - loss: 1.1439\n",
      "Epoch 374/500\n",
      "1/1 [==============================] - 0s 4ms/step - loss: 1.0924\n",
      "Epoch 375/500\n",
      "1/1 [==============================] - 0s 4ms/step - loss: 1.1063\n",
      "Epoch 376/500\n",
      "1/1 [==============================] - 0s 4ms/step - loss: 1.0655\n",
      "Epoch 377/500\n",
      "1/1 [==============================] - 0s 3ms/step - loss: 1.1417\n",
      "Epoch 378/500\n",
      "1/1 [==============================] - 0s 3ms/step - loss: 1.1365\n",
      "Epoch 379/500\n",
      "1/1 [==============================] - 0s 4ms/step - loss: 1.1812\n",
      "Epoch 380/500\n",
      "1/1 [==============================] - 0s 4ms/step - loss: 1.1653\n",
      "Epoch 381/500\n",
      "1/1 [==============================] - 0s 4ms/step - loss: 1.1221\n",
      "Epoch 382/500\n",
      "1/1 [==============================] - 0s 4ms/step - loss: 1.1164\n",
      "Epoch 383/500\n",
      "1/1 [==============================] - 0s 4ms/step - loss: 1.1361\n",
      "Epoch 384/500\n",
      "1/1 [==============================] - 0s 4ms/step - loss: 1.1375\n",
      "Epoch 385/500\n",
      "1/1 [==============================] - 0s 3ms/step - loss: 1.1531\n",
      "Epoch 386/500\n",
      "1/1 [==============================] - 0s 3ms/step - loss: 1.1413\n",
      "Epoch 387/500\n",
      "1/1 [==============================] - 0s 4ms/step - loss: 1.1669\n",
      "Epoch 388/500\n",
      "1/1 [==============================] - 0s 3ms/step - loss: 1.1229\n",
      "Epoch 389/500\n",
      "1/1 [==============================] - 0s 4ms/step - loss: 1.1733\n",
      "Epoch 390/500\n",
      "1/1 [==============================] - 0s 3ms/step - loss: 1.1419\n",
      "Epoch 391/500\n",
      "1/1 [==============================] - 0s 4ms/step - loss: 1.0995\n",
      "Epoch 392/500\n",
      "1/1 [==============================] - 0s 4ms/step - loss: 1.1098\n",
      "Epoch 393/500\n",
      "1/1 [==============================] - 0s 3ms/step - loss: 1.1390\n",
      "Epoch 394/500\n",
      "1/1 [==============================] - 0s 4ms/step - loss: 1.1319\n",
      "Epoch 395/500\n",
      "1/1 [==============================] - 0s 7ms/step - loss: 1.1383\n",
      "Epoch 396/500\n",
      "1/1 [==============================] - 0s 4ms/step - loss: 1.1808\n",
      "Epoch 397/500\n",
      "1/1 [==============================] - 0s 4ms/step - loss: 1.1306\n",
      "Epoch 398/500\n",
      "1/1 [==============================] - 0s 4ms/step - loss: 1.1374\n",
      "Epoch 399/500\n",
      "1/1 [==============================] - 0s 4ms/step - loss: 1.1566\n",
      "Epoch 400/500\n",
      "1/1 [==============================] - 0s 4ms/step - loss: 1.1467\n",
      "Epoch 401/500\n",
      "1/1 [==============================] - 0s 4ms/step - loss: 1.1699\n",
      "Epoch 402/500\n",
      "1/1 [==============================] - 0s 4ms/step - loss: 1.1170\n",
      "Epoch 403/500\n",
      "1/1 [==============================] - 0s 4ms/step - loss: 1.1354\n",
      "Epoch 404/500\n",
      "1/1 [==============================] - 0s 3ms/step - loss: 1.1411\n",
      "Epoch 405/500\n",
      "1/1 [==============================] - 0s 4ms/step - loss: 1.1520\n",
      "Epoch 406/500\n",
      "1/1 [==============================] - 0s 4ms/step - loss: 1.1222\n",
      "Epoch 407/500\n",
      "1/1 [==============================] - 0s 3ms/step - loss: 1.1439\n",
      "Epoch 408/500\n",
      "1/1 [==============================] - 0s 4ms/step - loss: 1.1857\n",
      "Epoch 409/500\n",
      "1/1 [==============================] - 0s 3ms/step - loss: 1.1194\n",
      "Epoch 410/500\n",
      "1/1 [==============================] - 0s 4ms/step - loss: 1.1197\n",
      "Epoch 411/500\n",
      "1/1 [==============================] - 0s 4ms/step - loss: 1.1852\n",
      "Epoch 412/500\n",
      "1/1 [==============================] - 0s 3ms/step - loss: 1.1630\n",
      "Epoch 413/500\n",
      "1/1 [==============================] - 0s 4ms/step - loss: 1.1798\n"
     ]
    },
    {
     "name": "stdout",
     "output_type": "stream",
     "text": [
      "Epoch 414/500\n",
      "1/1 [==============================] - 0s 4ms/step - loss: 1.1267\n",
      "Epoch 415/500\n",
      "1/1 [==============================] - 0s 4ms/step - loss: 1.1004\n",
      "Epoch 416/500\n",
      "1/1 [==============================] - 0s 3ms/step - loss: 1.1560\n",
      "Epoch 417/500\n",
      "1/1 [==============================] - 0s 4ms/step - loss: 1.1078\n",
      "Epoch 418/500\n",
      "1/1 [==============================] - 0s 3ms/step - loss: 1.1266\n",
      "Epoch 419/500\n",
      "1/1 [==============================] - 0s 4ms/step - loss: 1.1249\n",
      "Epoch 420/500\n",
      "1/1 [==============================] - 0s 3ms/step - loss: 1.0938\n",
      "Epoch 421/500\n",
      "1/1 [==============================] - 0s 4ms/step - loss: 1.1103\n",
      "Epoch 422/500\n",
      "1/1 [==============================] - 0s 4ms/step - loss: 1.1749\n",
      "Epoch 423/500\n",
      "1/1 [==============================] - 0s 3ms/step - loss: 1.1478\n",
      "Epoch 424/500\n",
      "1/1 [==============================] - 0s 4ms/step - loss: 1.1011\n",
      "Epoch 425/500\n",
      "1/1 [==============================] - 0s 4ms/step - loss: 1.1179\n",
      "Epoch 426/500\n",
      "1/1 [==============================] - 0s 4ms/step - loss: 1.1144\n",
      "Epoch 427/500\n",
      "1/1 [==============================] - 0s 4ms/step - loss: 1.1441\n",
      "Epoch 428/500\n",
      "1/1 [==============================] - 0s 4ms/step - loss: 1.1519\n",
      "Epoch 429/500\n",
      "1/1 [==============================] - 0s 4ms/step - loss: 1.1769\n",
      "Epoch 430/500\n",
      "1/1 [==============================] - 0s 3ms/step - loss: 1.1296\n",
      "Epoch 431/500\n",
      "1/1 [==============================] - 0s 3ms/step - loss: 1.0812\n",
      "Epoch 432/500\n",
      "1/1 [==============================] - 0s 3ms/step - loss: 1.1588\n",
      "Epoch 433/500\n",
      "1/1 [==============================] - 0s 3ms/step - loss: 1.1322\n",
      "Epoch 434/500\n",
      "1/1 [==============================] - 0s 3ms/step - loss: 1.1385\n",
      "Epoch 435/500\n",
      "1/1 [==============================] - 0s 4ms/step - loss: 1.1900\n",
      "Epoch 436/500\n",
      "1/1 [==============================] - 0s 4ms/step - loss: 1.1394\n",
      "Epoch 437/500\n",
      "1/1 [==============================] - 0s 3ms/step - loss: 1.1000\n",
      "Epoch 438/500\n",
      "1/1 [==============================] - 0s 4ms/step - loss: 1.1510\n",
      "Epoch 439/500\n",
      "1/1 [==============================] - 0s 4ms/step - loss: 1.1287\n",
      "Epoch 440/500\n",
      "1/1 [==============================] - 0s 4ms/step - loss: 1.1229\n",
      "Epoch 441/500\n",
      "1/1 [==============================] - 0s 3ms/step - loss: 1.1168\n",
      "Epoch 442/500\n",
      "1/1 [==============================] - 0s 3ms/step - loss: 1.1420\n",
      "Epoch 443/500\n",
      "1/1 [==============================] - 0s 3ms/step - loss: 1.1057\n",
      "Epoch 444/500\n",
      "1/1 [==============================] - 0s 3ms/step - loss: 1.1518\n",
      "Epoch 445/500\n",
      "1/1 [==============================] - 0s 3ms/step - loss: 1.1318\n",
      "Epoch 446/500\n",
      "1/1 [==============================] - 0s 4ms/step - loss: 1.1301\n",
      "Epoch 447/500\n",
      "1/1 [==============================] - 0s 4ms/step - loss: 1.1271\n",
      "Epoch 448/500\n",
      "1/1 [==============================] - 0s 4ms/step - loss: 1.0820\n",
      "Epoch 449/500\n",
      "1/1 [==============================] - 0s 4ms/step - loss: 1.1356\n",
      "Epoch 450/500\n",
      "1/1 [==============================] - 0s 3ms/step - loss: 1.1175\n",
      "Epoch 451/500\n",
      "1/1 [==============================] - 0s 4ms/step - loss: 1.1170\n",
      "Epoch 452/500\n",
      "1/1 [==============================] - 0s 4ms/step - loss: 1.0989\n",
      "Epoch 453/500\n",
      "1/1 [==============================] - 0s 4ms/step - loss: 1.1461\n",
      "Epoch 454/500\n",
      "1/1 [==============================] - 0s 4ms/step - loss: 1.1439\n",
      "Epoch 455/500\n",
      "1/1 [==============================] - 0s 3ms/step - loss: 1.1696\n",
      "Epoch 456/500\n",
      "1/1 [==============================] - 0s 4ms/step - loss: 1.1609\n",
      "Epoch 457/500\n",
      "1/1 [==============================] - 0s 4ms/step - loss: 1.1345\n",
      "Epoch 458/500\n",
      "1/1 [==============================] - 0s 4ms/step - loss: 1.1206\n",
      "Epoch 459/500\n",
      "1/1 [==============================] - 0s 4ms/step - loss: 1.1124\n",
      "Epoch 460/500\n",
      "1/1 [==============================] - 0s 4ms/step - loss: 1.1601\n",
      "Epoch 461/500\n",
      "1/1 [==============================] - 0s 4ms/step - loss: 1.0884\n",
      "Epoch 462/500\n",
      "1/1 [==============================] - 0s 4ms/step - loss: 1.1766\n",
      "Epoch 463/500\n",
      "1/1 [==============================] - 0s 4ms/step - loss: 1.1178\n",
      "Epoch 464/500\n",
      "1/1 [==============================] - 0s 4ms/step - loss: 1.1629\n",
      "Epoch 465/500\n",
      "1/1 [==============================] - 0s 4ms/step - loss: 1.1679\n",
      "Epoch 466/500\n",
      "1/1 [==============================] - 0s 4ms/step - loss: 1.1528\n",
      "Epoch 467/500\n",
      "1/1 [==============================] - 0s 3ms/step - loss: 1.1308\n",
      "Epoch 468/500\n",
      "1/1 [==============================] - 0s 3ms/step - loss: 1.1568\n",
      "Epoch 469/500\n",
      "1/1 [==============================] - 0s 4ms/step - loss: 1.1322\n",
      "Epoch 470/500\n",
      "1/1 [==============================] - 0s 4ms/step - loss: 1.1845\n",
      "Epoch 471/500\n",
      "1/1 [==============================] - 0s 4ms/step - loss: 1.1720\n",
      "Epoch 472/500\n",
      "1/1 [==============================] - 0s 4ms/step - loss: 1.1746\n",
      "Epoch 473/500\n",
      "1/1 [==============================] - 0s 3ms/step - loss: 1.1031\n",
      "Epoch 474/500\n",
      "1/1 [==============================] - 0s 3ms/step - loss: 1.1126\n",
      "Epoch 475/500\n",
      "1/1 [==============================] - 0s 3ms/step - loss: 1.0892\n",
      "Epoch 476/500\n",
      "1/1 [==============================] - 0s 4ms/step - loss: 1.1604\n",
      "Epoch 477/500\n",
      "1/1 [==============================] - 0s 3ms/step - loss: 1.0991\n",
      "Epoch 478/500\n",
      "1/1 [==============================] - 0s 3ms/step - loss: 1.1176\n",
      "Epoch 479/500\n",
      "1/1 [==============================] - 0s 4ms/step - loss: 1.1359\n",
      "Epoch 480/500\n",
      "1/1 [==============================] - 0s 3ms/step - loss: 1.1451\n",
      "Epoch 481/500\n",
      "1/1 [==============================] - 0s 4ms/step - loss: 1.1180\n",
      "Epoch 482/500\n",
      "1/1 [==============================] - 0s 3ms/step - loss: 1.1422\n",
      "Epoch 483/500\n",
      "1/1 [==============================] - 0s 4ms/step - loss: 1.1629\n",
      "Epoch 484/500\n",
      "1/1 [==============================] - 0s 4ms/step - loss: 1.1107\n",
      "Epoch 485/500\n",
      "1/1 [==============================] - 0s 4ms/step - loss: 1.1604\n",
      "Epoch 486/500\n",
      "1/1 [==============================] - 0s 3ms/step - loss: 1.1261\n",
      "Epoch 487/500\n",
      "1/1 [==============================] - 0s 4ms/step - loss: 1.1279\n",
      "Epoch 488/500\n",
      "1/1 [==============================] - 0s 3ms/step - loss: 1.1337\n",
      "Epoch 489/500\n",
      "1/1 [==============================] - 0s 4ms/step - loss: 1.1208\n",
      "Epoch 490/500\n",
      "1/1 [==============================] - 0s 4ms/step - loss: 1.1583\n",
      "Epoch 491/500\n",
      "1/1 [==============================] - 0s 4ms/step - loss: 1.1372\n",
      "Epoch 492/500\n",
      "1/1 [==============================] - 0s 4ms/step - loss: 1.0727\n",
      "Epoch 493/500\n",
      "1/1 [==============================] - 0s 5ms/step - loss: 1.1226\n",
      "Epoch 494/500\n",
      "1/1 [==============================] - 0s 4ms/step - loss: 1.1693\n",
      "Epoch 495/500\n",
      "1/1 [==============================] - 0s 4ms/step - loss: 1.1455\n",
      "Epoch 496/500\n",
      "1/1 [==============================] - 0s 4ms/step - loss: 1.1075\n",
      "Epoch 497/500\n",
      "1/1 [==============================] - 0s 4ms/step - loss: 1.1110\n",
      "Epoch 498/500\n",
      "1/1 [==============================] - 0s 4ms/step - loss: 1.1380\n",
      "Epoch 499/500\n",
      "1/1 [==============================] - 0s 4ms/step - loss: 1.1834\n",
      "Epoch 500/500\n",
      "1/1 [==============================] - 0s 6ms/step - loss: 1.0987\n"
     ]
    }
   ],
   "source": [
    "hist = m.fit(x=None, y=None, steps_per_epoch=1, epochs=500, callbacks=[hist_pred])"
   ]
  },
  {
   "cell_type": "code",
   "execution_count": 0,
   "metadata": {
    "colab": {},
    "colab_type": "code",
    "id": "8fVosBKj6W5k",
    "outputId": "05150646-a437-49f1-ef97-9fd5e4e913fb"
   },
   "outputs": [
    {
     "data": {
      "image/png": "[encoded data removed]",
      "text/plain": [
       "<matplotlib.figure.Figure at 0x7fb77c022a90>"
      ]
     },
     "metadata": {
      "tags": []
     },
     "output_type": "display_data"
    }
   ],
   "source": [
    "fig, ax = plt.subplots(figsize=golden_size(8))\n",
    "\n",
    "# ax.set_title('Class probabilities')\n",
    "\n",
    "ax.plot(xs.eval(), optimal_classifier(p, q)(xs).eval(), label='true: $\\\\frac{p(x)}{p(x) + q(x)}$')\n",
    "ax.plot(xs.eval(), tf.sigmoid(log_ratio(xs)).eval(), \n",
    "        linestyle='--', label='estimated: $D_{\\\\theta}(x)$')\n",
    "\n",
    "ax.set_xlim(-5.5, 5.5)\n",
    "ax.set_xlabel('$x$')\n",
    "\n",
    "ax.set_ylim(0., 1.)\n",
    "ax.set_ylabel('$\\mathcal{P}(y=1 \\mid x)$')\n",
    "\n",
    "ax.legend(loc='upper left')\n",
    "\n",
    "# plt.show()\n",
    "plt.savefig('class_probability_estimation.svg', format='svg', dpi=1200)"
   ]
  },
  {
   "cell_type": "code",
   "execution_count": 0,
   "metadata": {
    "colab": {},
    "colab_type": "code",
    "id": "O2PGNEHx6W5p",
    "outputId": "d4b328ba-a05e-446c-83df-d524f95d22c4"
   },
   "outputs": [
    {
     "data": {
      "image/png": "[encoded data removed]",
      "text/plain": [
       "<matplotlib.figure.Figure at 0x7fb7602cdef0>"
      ]
     },
     "metadata": {
      "tags": []
     },
     "output_type": "display_data"
    }
   ],
   "source": [
    "fig, ax = plt.subplots(figsize=golden_size(8))\n",
    "\n",
    "# ax.set_title('Log density ratio')\n",
    "\n",
    "ax.plot(xs.eval(), tf.log(r(xs)).eval(), label='true: $\\log \\\\frac{p(x)}{q(x)}$')\n",
    "ax.plot(xs.eval(), log_ratio(xs).eval(), \n",
    "        linestyle='--', label='estimator: $\\log r_{\\\\theta}(x)$')\n",
    "\n",
    "ax.set_xlim(-5.5, 5.5)\n",
    "ax.set_xlabel('$x$')\n",
    "\n",
    "ax.set_ylabel('$\\log r(x)$')\n",
    "\n",
    "ax.legend(loc='lower right')\n",
    "\n",
    "# plt.show()\n",
    "plt.savefig('log_density_ratio_estimation.svg', format='svg', dpi=1200)"
   ]
  },
  {
   "cell_type": "code",
   "execution_count": 0,
   "metadata": {
    "colab": {},
    "colab_type": "code",
    "id": "J9RPrIi46W5r",
    "outputId": "acaac29e-4849-4a00-8dc7-71db1eb62311"
   },
   "outputs": [
    {
     "data": {
      "image/png": "[encoded data removed]",
      "text/plain": [
       "<matplotlib.figure.Figure at 0x7fb7602cd6d8>"
      ]
     },
     "metadata": {
      "tags": []
     },
     "output_type": "display_data"
    }
   ],
   "source": [
    "fig, ax = plt.subplots(figsize=golden_size(8))\n",
    "\n",
    "# ax.set_title('Density ratio')\n",
    "\n",
    "ax.plot(xs.eval(), r(xs).eval(), label='true: $\\\\frac{p(x)}{q(x)}$')\n",
    "ax.plot(xs.eval(), tf.exp(log_ratio(xs)).eval(), \n",
    "        linestyle='--', label='estimator: $r_{\\\\theta}(x)$')\n",
    "\n",
    "ax.set_xlim(-5.5, 5.5)\n",
    "ax.set_xlabel('$x$')\n",
    "\n",
    "ax.set_ylabel('$r(x)$')\n",
    "\n",
    "ax.legend(loc='upper left')\n",
    "\n",
    "# plt.show()\n",
    "plt.savefig('density_ratio_estimation.svg', format='svg', dpi=1200)"
   ]
  },
  {
   "cell_type": "markdown",
   "metadata": {
    "colab_type": "text",
    "id": "31TlGzqZ6W5v"
   },
   "source": [
    "#### KL Divergence \n",
    "\n",
    "$$\n",
    "\\begin{align}\n",
    "\\mathrm{KL}[p(x) \\| q(x)]\n",
    "= \\mathbb{E}_{p(x)} [ \\log r(x) ] \n",
    "& \\approx \\mathbb{E}_{p(x)} [ \\log \\hat{r}(x) ] \\\\ \n",
    "& \\approx\n",
    "\\frac{1}{M} \\sum_{i=1}^{M} \\log \\hat{r} (x_p^{(i)}) \\\\\n",
    "& = \n",
    "\\frac{1}{M} \\sum_{i=1}^{M} \\sigma^{-1}(\\hat{D}(x_p^{(i)})), \n",
    "\\quad x_p^{(i)} \\sim p(x).\n",
    "\\end{align}\n",
    "$$"
   ]
  },
  {
   "cell_type": "code",
   "execution_count": 0,
   "metadata": {
    "colab": {},
    "colab_type": "code",
    "id": "74Q-nGnW6W5x",
    "outputId": "d2ea5fb6-6393-44b6-9b71-75114b1da775"
   },
   "outputs": [
    {
     "data": {
      "text/plain": [
       "0.4424468"
      ]
     },
     "execution_count": 48,
     "metadata": {
      "tags": []
     },
     "output_type": "execute_result"
    }
   ],
   "source": [
    "tf.squeeze(tfp.monte_carlo.expectation(\n",
    "    f=log_ratio,\n",
    "    samples=p_samples\n",
    ")).eval()"
   ]
  },
  {
   "cell_type": "code",
   "execution_count": 0,
   "metadata": {
    "colab": {},
    "colab_type": "code",
    "id": "HSDwaJKg6W52",
    "outputId": "e122a896-77c0-4287-f1c5-4355b640feb8"
   },
   "outputs": [
    {
     "data": {
      "image/png": "[encoded data removed]",
      "text/plain": [
       "<matplotlib.figure.Figure at 0x7fb712603cc0>"
      ]
     },
     "metadata": {
      "tags": []
     },
     "output_type": "display_data"
    }
   ],
   "source": [
    "fig, ax = plt.subplots(figsize=golden_size(8))\n",
    "\n",
    "hist_df = pd.DataFrame(hist.history)\n",
    "hist_df.plot(ax=ax, y='loss', label='binary cross-entropy')\n",
    "\n",
    "ax.set_ylabel('loss')\n",
    "ax.set_xlabel('epochs')\n",
    "\n",
    "# plt.show()\n",
    "plt.savefig('binary_crossentropy.svg', format='svg', dpi=1200)"
   ]
  },
  {
   "cell_type": "code",
   "execution_count": 0,
   "metadata": {
    "colab": {},
    "colab_type": "code",
    "id": "uJ6hZJ-P6W53"
   },
   "outputs": [],
   "source": [
    "js = tfp.vi.monte_carlo_csiszar_f_divergence(f=tfp.vi.jensen_shannon, \n",
    "                                             p_log_prob=p.log_prob, \n",
    "                                             q=q, num_draws=50000)"
   ]
  },
  {
   "cell_type": "code",
   "execution_count": 0,
   "metadata": {
    "colab": {},
    "colab_type": "code",
    "id": "PbIgUhaY6W55",
    "outputId": "8e9ab4be-7081-4478-c6df-8da58b2e0ad0"
   },
   "outputs": [
    {
     "data": {
      "text/plain": [
       "-1.128503"
      ]
     },
     "execution_count": 51,
     "metadata": {
      "tags": []
     },
     "output_type": "execute_result"
    }
   ],
   "source": [
    "js.eval()"
   ]
  },
  {
   "cell_type": "code",
   "execution_count": 0,
   "metadata": {
    "colab": {},
    "colab_type": "code",
    "id": "Eb5ufuDJ6W57",
    "outputId": "7375a0ba-c7e5-4aba-f410-f7d0043b8d09"
   },
   "outputs": [
    {
     "data": {
      "image/png": "[encoded data removed]",
      "text/plain": [
       "<matplotlib.figure.Figure at 0x7fb7287e27f0>"
      ]
     },
     "metadata": {
      "tags": []
     },
     "output_type": "display_data"
    }
   ],
   "source": [
    "g = sns.JointGrid(x='index', y='loss', \n",
    "                  data=hist_df.reset_index(), space=0)\n",
    "\n",
    "h, w = golden_size(10)\n",
    "\n",
    "g.fig.set_figwidth(h)\n",
    "g.fig.set_figheight(w)\n",
    "\n",
    "g = g.plot_joint(plt.plot, label='binary cross-entropy')\n",
    "g = g.plot_marginals(sns.distplot)\n",
    "\n",
    "g.ax_marg_x.clear()\n",
    "g.ax_marg_x.set_xticks([])\n",
    "g.ax_marg_x.set_yticks([])\n",
    "# g.ax_marg_x.set_axis_off()\n",
    "\n",
    "g.ax_joint.axhline(y=-js.eval(), color='k', linewidth=2.,\n",
    "                   label='$- 2 \\cdot \\mathcal{D}_{\\mathrm{JS}}[p || q ] + \\log{4}$')\n",
    "\n",
    "g.ax_joint.legend(loc='upper right')\n",
    "g.set_axis_labels('epoch', 'loss')\n",
    "\n",
    "g.savefig('binary_crossentropy_vs_jensen_shannon.svg', format='svg', dpi=1200)"
   ]
  },
  {
   "cell_type": "code",
   "execution_count": 0,
   "metadata": {
    "colab": {},
    "colab_type": "code",
    "id": "CUbBIT-m6W59"
   },
   "outputs": [],
   "source": [
    "# fig, ax = plt.subplots(figsize=golden_size(8))\n",
    "\n",
    "# hist_df = pd.DataFrame(hist.history)\n",
    "# hist_df.plot(ax=ax, y='loss', label='binary cross-entropy')\n",
    "\n",
    "# ax.axhline(y=-js.eval(), \n",
    "#            color='r', linewidth=2., \n",
    "#            label='$- 2 \\cdot \\mathcal{D}_{\\mathrm{JS}}[p || q ] + \\log{4}$')\n",
    "\n",
    "# ax.set_ylabel('loss')\n",
    "# ax.set_xlabel('epochs')\n",
    "\n",
    "# ax.legend()\n",
    "\n",
    "# # plt.show()\n",
    "# plt.savefig('binary_crossentropy_vs_jensen_shannon.svg', format='svg', dpi=1200)"
   ]
  },
  {
   "cell_type": "code",
   "execution_count": 0,
   "metadata": {
    "colab": {},
    "colab_type": "code",
    "id": "rAfiysRF6W6A",
    "outputId": "9e1447dc-2123-447d-ffd1-420529fc1a5a"
   },
   "outputs": [
    {
     "data": {
      "image/png": "[encoded data removed]",
      "text/plain": [
       "<matplotlib.figure.Figure at 0x7fb7600f0160>"
      ]
     },
     "metadata": {
      "tags": []
     },
     "output_type": "display_data"
    }
   ],
   "source": [
    "fig, (ax1, ax2) = plt.subplots(ncols=2, figsize=(16, 5))\n",
    "\n",
    "# ax.set_title('density ratio')\n",
    "\n",
    "ax1.plot(xs.eval(), q.prob(xs).eval(), linestyle='--', label='$f(x)=q(x)$')\n",
    "ax1.plot(xs.eval(), p.prob(xs).eval(), linestyle='--', label='$f(x)=p(x)$')\n",
    "\n",
    "ax1.plot(xs.eval(), r(xs).eval(), linewidth=2., label='$f(x)=\\\\frac{p(x)}{q(x)}$')\n",
    "\n",
    "ax1.set_xlim(-5.5, 5.5)\n",
    "ax1.set_xlabel('$x$')\n",
    "\n",
    "ax1.set_ylabel('$f(x)$')\n",
    "\n",
    "ax1.legend()\n",
    "\n",
    "# ax2.set_title('Density ratio')\n",
    "\n",
    "ax2.plot(xs.eval(), r(xs).eval(), linewidth=2., label='true: $\\\\frac{p(x)}{q(x)}$')\n",
    "ax2.plot(xs.eval(), tf.exp(log_ratio(xs)).eval(), \n",
    "        linestyle='--', label='estimator: $r_{\\\\theta}(x)$')\n",
    "\n",
    "ax2.set_xlim(-5.5, 5.5)\n",
    "ax2.set_xlabel('$x$')\n",
    "\n",
    "ax2.set_ylabel('$r(x)$')\n",
    "\n",
    "ax2.legend()\n",
    "\n",
    "# plt.show()\n",
    "plt.savefig('dre.png', format='png', dpi=720)"
   ]
  },
  {
   "cell_type": "code",
   "execution_count": 0,
   "metadata": {
    "colab": {},
    "colab_type": "code",
    "id": "XzDVB0ZS6W6E",
    "outputId": "6a60a2ab-972b-460e-b1cc-cdb396ecad71"
   },
   "outputs": [
    {
     "data": {
      "image/png": "[encoded data removed]",
      "text/plain": [
       "<matplotlib.figure.Figure at 0x7fb712321f60>"
      ]
     },
     "metadata": {
      "tags": []
     },
     "output_type": "display_data"
    }
   ],
   "source": [
    "fig, ((ax1, ax2), (ax3, ax4)) = plt.subplots(nrows=2, ncols=2, figsize=(15, 8))\n",
    "\n",
    "ax1.plot(xs.eval(), tf.log(r(xs)).eval(), linewidth=2., label='true: $\\log \\\\frac{p(x)}{q(x)}$')\n",
    "line1, = ax1.plot([], [], linestyle='--', label='estimated: $\\log r_{\\\\theta}(x)$')\n",
    "\n",
    "ax1.set_xlim(-5.5, 5.5)\n",
    "ax1.set_xlabel('$x$')\n",
    "\n",
    "ax1.set_ylabel('$\\log r(x)$')\n",
    "\n",
    "ax1.legend(loc='lower right')\n",
    "\n",
    "ax2.plot(xs.eval(), optimal_classifier(p, q)(xs).eval(), linewidth=2., label='true: $\\\\frac{p(x)}{p(x) + q(x)}$')\n",
    "line2, = ax2.plot([], [], linestyle='--', label='estimated: $D_{\\\\theta}(x)$')\n",
    "\n",
    "ax2.set_xlim(-5.5, 5.5)\n",
    "ax2.set_xlabel('$x$')\n",
    "\n",
    "ax2.set_ylim(0., 1.)\n",
    "ax2.set_ylabel('$\\mathcal{P}(y=1 \\mid x)$')\n",
    "\n",
    "ax2.legend(loc='upper left')\n",
    "\n",
    "ax3.plot(xs.eval(), r(xs).eval(), linewidth=2., label='true: $\\\\frac{p(x)}{q(x)}$')\n",
    "line3, = ax3.plot([], [], linestyle='--', label='estimated: $r_{\\\\theta}(x)$')\n",
    "\n",
    "ax3.set_xlim(-5.5, 5.5)\n",
    "ax3.set_xlabel('$x$')\n",
    "\n",
    "ax3.set_ylabel('$r(x)$')\n",
    "\n",
    "ax3.legend(loc='upper left')\n",
    "\n",
    "hist_df = pd.DataFrame(hist.history)\n",
    "line4, = ax4.plot(hist_df, label='binary cross-entropy')\n",
    "ax4.axhline(y=-js.eval(), color='k', linewidth=2.,\n",
    "            label='$- 2 \\cdot \\mathcal{D}_{\\mathrm{JS}}[p || q ] + \\log{4}$')\n",
    "\n",
    "ax4.set_ylabel('loss')\n",
    "ax4.set_xlabel('epochs')\n",
    "\n",
    "ax4.legend(loc='upper right')\n",
    "\n",
    "plt.show()"
   ]
  },
  {
   "cell_type": "code",
   "execution_count": 0,
   "metadata": {
    "colab": {},
    "colab_type": "code",
    "id": "q-aSU44Q6W6H"
   },
   "outputs": [],
   "source": [
    "def init():\n",
    "\n",
    "    line1.set_data([], [])\n",
    "    line2.set_data([], [])\n",
    "    line3.set_data([], [])\n",
    "    line4.set_data([], [])\n",
    "\n",
    "    return line1, line2, line3, line4"
   ]
  },
  {
   "cell_type": "code",
   "execution_count": 0,
   "metadata": {
    "colab": {},
    "colab_type": "code",
    "id": "7ThgVrJH6W6I"
   },
   "outputs": [],
   "source": [
    "def animate(i):\n",
    "\n",
    "    xs_ = xs.eval()\n",
    "\n",
    "    line1.set_xdata(xs_)\n",
    "    line2.set_xdata(xs_)\n",
    "    line3.set_xdata(xs_)\n",
    "    line4.set_xdata(hist.epoch[:i])\n",
    "    \n",
    "    line1.set_ydata(hist_pred.predictions[i])\n",
    "    line2.set_ydata(expit(hist_pred.predictions[i]))\n",
    "    line3.set_ydata(np.exp(hist_pred.predictions[i]))\n",
    "    line4.set_ydata(hist.history.get('loss')[:i])\n",
    "\n",
    "    return line1, line2, line3, line4"
   ]
  },
  {
   "cell_type": "code",
   "execution_count": 0,
   "metadata": {
    "colab": {},
    "colab_type": "code",
    "id": "_mTReLbX6W6K"
   },
   "outputs": [],
   "source": [
    "anim = animation.FuncAnimation(fig, animate, init_func=init, \n",
    "                               frames=hist.epoch, interval=60, \n",
    "                               blit=True, repeat_delay=5)"
   ]
  },
  {
   "cell_type": "code",
   "execution_count": 0,
   "metadata": {
    "colab": {},
    "colab_type": "code",
    "id": "SU64pqea6W6M"
   },
   "outputs": [],
   "source": [
    "HTML(anim.to_html5_video())"
   ]
  },
  {
   "cell_type": "code",
   "execution_count": 0,
   "metadata": {
    "colab": {},
    "colab_type": "code",
    "id": "BLas2QaP6W6O"
   },
   "outputs": [],
   "source": [
    "anim.save('dre_training.mp4')"
   ]
  },
  {
   "cell_type": "code",
   "execution_count": 0,
   "metadata": {
    "colab": {},
    "colab_type": "code",
    "id": "QkNqanVV6W6P"
   },
   "outputs": [],
   "source": [
    "anim.save('dre_training.gif', writer='imagemagick')"
   ]
  }
 ],
 "metadata": {
  "colab": {
   "collapsed_sections": [
    "31TlGzqZ6W5v"
   ],
   "include_colab_link": true,
   "name": "Approximating the KL Divergence Between Implicit Distributions.ipynb",
   "provenance": [],
   "version": "0.3.2"
  },
  "kernelspec": {
   "display_name": "Python 3",
   "language": "python",
   "name": "python3"
  },
  "language_info": {
   "codemirror_mode": {
    "name": "ipython",
    "version": 3
   },
   "file_extension": ".py",
   "mimetype": "text/x-python",
   "name": "python",
   "nbconvert_exporter": "python",
   "pygments_lexer": "ipython3",
   "version": "3.7.2"
  }
 },
 "nbformat": 4,
 "nbformat_minor": 1
}
