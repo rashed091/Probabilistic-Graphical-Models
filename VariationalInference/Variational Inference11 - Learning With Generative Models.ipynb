{
 "cells": [
  {
   "cell_type": "markdown",
   "metadata": {},
   "source": [
    "# Learning With Generative Models - Discriminators as approximations to likelihood ratios\n"
   ]
  },
  {
   "cell_type": "markdown",
   "metadata": {},
   "source": [
    "Ratios of probabilities form an important part of Generative models, whether explicit as in the case of VAEs or implicit in the case of GANs. Even if we are computing the KL-divergence between two distributions, this usually boils down to computing the average over samples of the logarithm of two probability distributions.\n",
    "\n",
    "For situations where we do not have a form for one or both of the models, computing the ratio of two distributions is not possible! \n",
    "\n",
    "In this post, I explore a method used frequently in recent publications, to estimate ratios of probabilities even when we do not have a form for one or both of them. "
   ]
  },
  {
   "cell_type": "markdown",
   "metadata": {},
   "source": [
    "## Estimating ratios using Logistic Regression\n",
    "\n",
    "Let's say we have a model, $q$, and some true distribution, $p$, we are looking to make inferences about.\n",
    "\n",
    "$q \\sim U[-20,20]$\n",
    "\n",
    "$p \\sim N(5, 0.2)$\n",
    "\n",
    "Let's imagine p is not knowable to us, we have some samples but no idea the model behind them. \n",
    "\n",
    "What we can do is assign label y=1 to samples from p, and then draw the same number of samples from q, and label these y=0.\n",
    "\n",
    "Following the same line of reasoning as [ESL](https://web.stanford.edu/~hastie/Papers/ESLII.pdf) section 14.24, Bayes theory tells us:\n",
    "\n",
    "$P(Y=1 \\mid X) = \\frac{P(X \\mid Y=1)}{P(X \\mid Y=1) + P(X \\mid Y=0)}$\n",
    "\n",
    "Where, by definition;\n",
    "\n",
    "$P(X \\mid Y=1) = p(x)$\n",
    "\n",
    "$P(X \\mid Y=0) = q(x)$\n",
    "\n",
    "$P(Y=1 \\mid X) = \\frac{1}{1 + \\frac{q(x)}{p(x)}} \\ \\ \\ \\ \\ \\ \\ \\ \\ \\ \\ \\ \\ \\    (1)$\n",
    "\n",
    "If we switch our approach for a second, we can write the objective for a logistic regression as:\n",
    "\n",
    "$\\frac{1}{1+exp(-f(X)W)}    \\ \\ \\ \\ \\ \\ \\ \\ \\ \\ \\ \\ \\ \\ \\ \\ \\ \\ \\ \\ \\ \\ \\ \\ \\ \\    \\ \\ \\ \\      (2)$\n",
    "\n",
    "Where we have made use of the basis function expansion, and leave f() as some unspecified basis function that is sufficiently flexible.\n",
    "\n",
    "Comparing equations 1 and 2, it is clear that $exp(-f(X)W)$ is equal to the ratio of q and p, subject to a sufficient form of f().\n",
    "\n",
    "The advantage of equation 2 is that we don't need to know the probability distributions, we just need samples and a sufficiently flexible basis function."
   ]
  },
  {
   "cell_type": "code",
   "execution_count": 1,
   "metadata": {},
   "outputs": [],
   "source": [
    "import numpy as np\n",
    "import matplotlib.pyplot as plt\n",
    "from scipy.stats import norm, uniform\n",
    "%matplotlib inline"
   ]
  },
  {
   "cell_type": "code",
   "execution_count": 2,
   "metadata": {},
   "outputs": [],
   "source": [
    "x1 = np.random.uniform(low=-20, high=20, size=(300,1))\n",
    "x2 = np.random.normal(loc=5, scale=2, size=(300,1))\n",
    "\n",
    "y1 = np.zeros_like(x1)\n",
    "y2 = np.ones_like(x2)"
   ]
  },
  {
   "cell_type": "code",
   "execution_count": 3,
   "metadata": {},
   "outputs": [],
   "source": [
    "def basis(x):\n",
    "    \"\"\"A Basis function that is sufficiently flexible to model the problem.\"\"\"\n",
    "    return np.concatenate([x,x**2], axis=1)"
   ]
  },
  {
   "cell_type": "code",
   "execution_count": 4,
   "metadata": {},
   "outputs": [],
   "source": [
    "x = np.concatenate([x1,x2])\n",
    "\n",
    "x= basis(x)\n",
    "\n",
    "y = np.concatenate([y1, y2]).ravel()"
   ]
  },
  {
   "cell_type": "code",
   "execution_count": 5,
   "metadata": {},
   "outputs": [],
   "source": [
    "from sklearn.linear_model import LogisticRegression"
   ]
  },
  {
   "cell_type": "code",
   "execution_count": 6,
   "metadata": {},
   "outputs": [],
   "source": [
    "lr = LogisticRegression()"
   ]
  },
  {
   "cell_type": "code",
   "execution_count": 7,
   "metadata": {},
   "outputs": [
    {
     "data": {
      "text/plain": [
       "LogisticRegression(C=1.0, class_weight=None, dual=False, fit_intercept=True,\n",
       "          intercept_scaling=1, max_iter=100, multi_class='ovr', n_jobs=1,\n",
       "          penalty='l2', random_state=None, solver='liblinear', tol=0.0001,\n",
       "          verbose=0, warm_start=False)"
      ]
     },
     "execution_count": 7,
     "metadata": {},
     "output_type": "execute_result"
    }
   ],
   "source": [
    "lr.fit(x, y)"
   ]
  },
  {
   "cell_type": "code",
   "execution_count": 8,
   "metadata": {},
   "outputs": [],
   "source": [
    "xtest_ = np.arange(-10,20).reshape(-1,1)\n",
    "xtest= basis(xtest_)"
   ]
  },
  {
   "cell_type": "code",
   "execution_count": 9,
   "metadata": {},
   "outputs": [],
   "source": [
    "ps = lr.predict_proba(xtest)"
   ]
  },
  {
   "cell_type": "code",
   "execution_count": 10,
   "metadata": {},
   "outputs": [],
   "source": [
    "est = ps[:,1]/ps[:,0]"
   ]
  },
  {
   "cell_type": "code",
   "execution_count": 11,
   "metadata": {},
   "outputs": [],
   "source": [
    "truth = norm.pdf(xtest_,loc=5, scale=2,)*40 #p(x)/q(x)"
   ]
  },
  {
   "cell_type": "code",
   "execution_count": 12,
   "metadata": {},
   "outputs": [
    {
     "data": {
      "text/plain": [
       "[<matplotlib.lines.Line2D at 0x7fb40f738128>]"
      ]
     },
     "execution_count": 12,
     "metadata": {},
     "output_type": "execute_result"
    },
    {
     "data": {
      "image/png": "[encoded data removed]",
      "text/plain": [
       "<matplotlib.figure.Figure at 0x7fb3d664eba8>"
      ]
     },
     "metadata": {},
     "output_type": "display_data"
    }
   ],
   "source": [
    "plt.plot(xtest_, est, c='r')\n",
    "plt.plot(xtest_, truth)"
   ]
  },
  {
   "cell_type": "markdown",
   "metadata": {},
   "source": [
    "As this figure shows, we actually get a very good approximation for the true ratio, and if we use more samples, this will be exact. The 2nd degree polynomial used in the basis function is sufficient, and if we use more samples the estimate will converge on the truth."
   ]
  },
  {
   "cell_type": "markdown",
   "metadata": {},
   "source": [
    "## The general case\n",
    "\n",
    "The form in the previous example is not sufficiently flexible for complex distributions. A linear function of a basis function of X is ok, but it requires us to know the combination of features we need to sufficiently model the ratio function. If we rewrite $f(x)W$ as $g(x)$, we can include non-linear functions of arbitrary complexity. \n",
    "\n",
    "We can then make $g(x)$ be a neural network. We can then reach an equivalent conclusion as the logistic regression example, if we define a discriminator network, that takes input x, and has a logistic sigmoid as the final activation function. In this formulation, g(x) is the input to the final activation function, and so the neural network can be written as:\n",
    "\n",
    "$\\frac{1}{1+exp(-g(x))}    \\ \\ \\ \\ \\ \\ \\ \\ \\ \\ \\ \\ \\ \\ \\ \\ \\ \\ \\ \\ \\ \\ \\ \\ \\ \\    \\ \\ \\ \\      (3)$\n",
    "\n",
    "Comparing with equation 1, the ratio of $p$ and $q$ is equal to $exp(-g(x))$ in the general case. \n",
    "\n",
    "If the network is sufficiently flexible, and we train it to optimality, our approach used above is still valid to estimate the ratio."
   ]
  },
  {
   "cell_type": "markdown",
   "metadata": {},
   "source": [
    "# Summary\n",
    "\n",
    "In this post we have shown how we can equate discriminators and probability ratios. This is an important result that is used in recent work. By the converse logic, we can also see how implicit models which utilise discriminators are approximating ratios of probability distributions."
   ]
  }
 ],
 "metadata": {
  "kernelspec": {
   "display_name": "Python 3",
   "language": "python",
   "name": "python3"
  },
  "language_info": {
   "codemirror_mode": {
    "name": "ipython",
    "version": 3
   },
   "file_extension": ".py",
   "mimetype": "text/x-python",
   "name": "python",
   "nbconvert_exporter": "python",
   "pygments_lexer": "ipython3",
   "version": "3.7.2"
  }
 },
 "nbformat": 4,
 "nbformat_minor": 2
}
