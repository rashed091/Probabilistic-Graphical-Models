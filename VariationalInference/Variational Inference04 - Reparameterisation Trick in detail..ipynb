{
 "cells": [
  {
   "cell_type": "markdown",
   "metadata": {},
   "source": [
    "# Reparameterization Trick\n",
    "\n",
    "## Introduction\n",
    "\n",
    "In the previous post, we did our first practical variational algorithm in tensorflow. However, as briefly mentioned, using the Monte Carlo estimate of the ELBO relies on gradients working correctly across the sampling distribution. In this post we will discuss that point in detail."
   ]
  },
  {
   "cell_type": "markdown",
   "metadata": {},
   "source": [
    "## Why must sampling be differentiable?\n",
    "\n",
    "If we recall the lower bound;\n",
    "\n",
    "$\\mathcal{L} = \\int_{Z} q(Z) log \\ \\frac{P(Z, X)}{q(Z)} dZ$\n",
    "\n",
    "Our strategy when pursuing the monte carlo estimate was to approximate the integral by a sum, and the distribution $q(Z)$ by sampling.\n",
    "\n",
    "The important thing to remember, is that when we take the gradient with respect to the parameters of the ELBO , it is easy to not incorporate the effect of the parameters on the expectation.\n",
    "\n",
    "As a simple example, consider sampling from a uniform distribution $U[a, b]$. If we change the values of a and b, then obviously this will change our samples! If we generate samples from this distribution outside of tensorflow, this gradient information will be lost."
   ]
  },
  {
   "cell_type": "markdown",
   "metadata": {},
   "source": [
    "We can see this requirement if we want to compute the gradient of the expectation of a function of x, a and b with respect to the parameters. \n",
    "Let's take the example of the continuous uniform parameterized by a and b."
   ]
  },
  {
   "cell_type": "markdown",
   "metadata": {},
   "source": [
    "$m = \\int_{a}^{b} f(x, a) p(x) dx$\n",
    "\n",
    "$f(x, a) = a+b+x$\n",
    "\n",
    "$m =\\frac{1}{b-a} \\int_{a}^{b} (x+a+b)  dx$\n",
    "\n",
    "$= \\frac{1}{b-a} ([0.5 x^{2}]^{b}_{a} + [ax]^{b}_{a}+ [bx]^{b}_{a})$\n",
    "$= \\frac{b+a}{2} + \\frac{a(b-a)}{b-a}\\frac{b(b-a)}{b-a} =   \\frac{b+a}{2} + a + b$\n",
    "\n",
    "$ \\frac{d}{da} m = \\frac{3}{2}$\n",
    "\n",
    "$ \\frac{d}{db} m = \\frac{3}{2}$\n",
    "\n",
    "This may be the analytical solution, but we could approximate this function by monte carlo:\n",
    "\n",
    "$\\frac{1}{N}\\sum_{i}^{N} (x_{i}+a+b)$\n",
    "\n",
    "What we would like is that computing the gradient of this MC approximation is close to the analytical."
   ]
  },
  {
   "cell_type": "code",
   "execution_count": 1,
   "metadata": {},
   "outputs": [
    {
     "data": {
      "text/plain": [
       "'1.3.0'"
      ]
     },
     "execution_count": 1,
     "metadata": {},
     "output_type": "execute_result"
    }
   ],
   "source": [
    "import numpy as np\n",
    "import tensorflow as tf\n",
    "import matplotlib.pyplot as plt\n",
    "%matplotlib inline\n",
    "plt.style.use('ggplot')\n",
    "\n",
    "tf.__version__"
   ]
  },
  {
   "cell_type": "code",
   "execution_count": 2,
   "metadata": {},
   "outputs": [],
   "source": [
    "graph = tf.Graph()\n",
    "with graph.as_default():\n",
    "    x = tf.placeholder(shape=(None,), dtype=tf.float32)\n",
    "    \n",
    "    a = tf.Variable(1,dtype=tf.float32)\n",
    "    b = tf.Variable(3,dtype=tf.float32)\n",
    "    \n",
    "    mc_mean = tf.reduce_mean(x+a+b)\n",
    "    grads = tf.gradients(mc_mean, [a,b])\n",
    "    init_op = tf.global_variables_initializer()"
   ]
  },
  {
   "cell_type": "code",
   "execution_count": 3,
   "metadata": {},
   "outputs": [],
   "source": [
    "sess = tf.InteractiveSession(graph=graph)\n",
    "sess.run(init_op)"
   ]
  },
  {
   "cell_type": "code",
   "execution_count": 4,
   "metadata": {},
   "outputs": [
    {
     "name": "stdout",
     "output_type": "stream",
     "text": [
      "[[1.0000013, 1.0000013]]\n"
     ]
    }
   ],
   "source": [
    "X = np.random.uniform(low=1, high =3,size=(1000))\n",
    "feed_dict = {x:X}\n",
    "print(sess.run([grads], feed_dict=feed_dict))"
   ]
  },
  {
   "cell_type": "markdown",
   "metadata": {},
   "source": [
    "hmmm...that's not right. The reason for this is that the sampling operation is also dependent on the parameters $a$ and $b$, but this is done outside of tensorflow, so the gradient doesn't flow into the mc_mean variable. \n",
    "\n",
    "In order to deal with this, we can reparameterize the sampling procedure. If we do random draws from a $U[0,1]$, we can transform this into a draw from $U[a,b]$ by doing;\n",
    "\n",
    "$a + (b-a)x$\n",
    "\n",
    "where $x \\sim U[0,1]$."
   ]
  },
  {
   "cell_type": "code",
   "execution_count": 5,
   "metadata": {},
   "outputs": [],
   "source": [
    "graph = tf.Graph()\n",
    "with graph.as_default():\n",
    "    x = tf.placeholder(shape=(None,), dtype=tf.float32)\n",
    "    \n",
    "    a = tf.Variable(1,dtype=tf.float32)\n",
    "    b = tf.Variable(3,dtype=tf.float32)\n",
    "    z = a + (b-a)*x\n",
    "    mc_mean = tf.reduce_mean(z+a+b)\n",
    "    grads = tf.gradients(mc_mean, [a,b])\n",
    "    init_op = tf.global_variables_initializer()"
   ]
  },
  {
   "cell_type": "code",
   "execution_count": 6,
   "metadata": {},
   "outputs": [],
   "source": [
    "sess = tf.InteractiveSession(graph=graph)\n",
    "sess.run(init_op)"
   ]
  },
  {
   "cell_type": "code",
   "execution_count": 7,
   "metadata": {},
   "outputs": [
    {
     "name": "stdout",
     "output_type": "stream",
     "text": [
      "[[1.5035391, 1.4964648]]\n"
     ]
    }
   ],
   "source": [
    "X = np.random.uniform(low=0, high =1,size=(1000))\n",
    "feed_dict = {x:X}\n",
    "print(sess.run([grads], feed_dict=feed_dict))"
   ]
  },
  {
   "cell_type": "markdown",
   "metadata": {},
   "source": [
    "## Theory\n",
    "\n",
    "The idea of reparameterisation was largely popularised by a paper released in 2014 [Autoencoding Variational Bayes, (Kingma, 2014)](https://arxiv.org/pdf/1312.6114.pdf). In this paper, they lay out 3 ways we can reparameterize probability distributions so samples have the appropriate gradient information.\n",
    "\n",
    "1. If the pdf we wish to sample from has a tractable inverse cdf, we can use this to transform a $U[0,1]$ sample to a sample from the target distribution, and the gradient will be properly accounted for.\n",
    "\n",
    "2. The approach used for this post, and also for the Gaussian case, fall under the location-scale family. A large class of distributions have a 'standard' form, which can be transformed to be draws from the same distribution with a different scale and/or location.\n",
    "\n",
    "3. Transformations and/or composition of draws from other distributions. For example, we can exponentiate random normal draws to get a log normal, and we can generate normal draws using the location-scale reparameterization."
   ]
  },
  {
   "cell_type": "markdown",
   "metadata": {},
   "source": [
    "### Example of an inverse CDF\n",
    "\n",
    "A simple example of the inverse method is the [Rayleigh distribution](https://en.wikipedia.org/wiki/Rayleigh_distribution). The CDF is given by;\n",
    "\n",
    "$C = 1 - exp{\\frac{x^2}{2\\sigma^{2}}}$\n",
    "\n",
    "We can invert this by;"
   ]
  },
  {
   "cell_type": "markdown",
   "metadata": {},
   "source": [
    "$1-C = exp{\\frac{x^2}{2\\sigma^{2}}}$\n",
    "\n",
    "$ln (1-C) = \\frac{x^2}{2\\sigma^{2}}$\n",
    "\n",
    "$\\sigma\\sqrt{2ln (1-C) }= x$\n",
    "\n",
    "So we can generate a value for $C$ from a standard continuous uniform, and then transform it into a rayleigh distributed variable, with dependence on parameters properly encoded.\n",
    "\n",
    "This is valid for a wide range of distributions, and is an alternative when a location-scale type transform isn't possible.\n",
    "\n",
    "\n",
    "## Checking the status of distributions in Tensorflow\n",
    "\n",
    "With 3rd party libraries, it is sometimes not obvious if gradient information is allowed across the sampling operation or not. Both behaviours are useful at some time, but not all distributions can be framed in a reparameterised way. \n",
    "\n",
    "Tensorflow has a flag FULLY_REPARAMETERIZED for gradient flowing distributions, and NOT_REPARAMETERIZED if it doesn't.\n",
    "\n",
    "We can check this under the Tensorflow graph by doing;\n",
    "\n",
    "distribution_instance.reparameterization_type == tf.contrib.distributions.FULLY_REPARAMETERIZED"
   ]
  },
  {
   "cell_type": "markdown",
   "metadata": {},
   "source": [
    "# Summary\n",
    "\n",
    "In this post, we have demonstrated why it is important to ensure that gradients are properly defined over a sampling operation, which is particularly relevant to computing gradients of monte carlo estimates in automatic differentiation frameworks.\n",
    "\n"
   ]
  }
 ],
 "metadata": {
  "kernelspec": {
   "display_name": "Python 3",
   "language": "python",
   "name": "python3"
  },
  "language_info": {
   "codemirror_mode": {
    "name": "ipython",
    "version": 3
   },
   "file_extension": ".py",
   "mimetype": "text/x-python",
   "name": "python",
   "nbconvert_exporter": "python",
   "pygments_lexer": "ipython3",
   "version": "3.7.2"
  }
 },
 "nbformat": 4,
 "nbformat_minor": 2
}
