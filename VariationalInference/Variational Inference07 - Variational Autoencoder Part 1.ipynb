{
 "cells": [
  {
   "cell_type": "markdown",
   "metadata": {},
   "source": [
    "# Variational Autoencoder\n",
    "\n",
    "Following on from the [previous post](https://chrisorm.github.io/VI-to-VAE.html) that bridged the gap between VI and VAEs, in this post, I implement a VAE (heavily based on the [Pytorch example script](https://github.com/pytorch/examples/tree/master/vae)!). We lay out the problem we are looking to solve, give some intuition about the model we use, and then evaluate the results.\n",
    "\n",
    "## Problem\n",
    "\n",
    "Rather than resorting to MNIST, we will try to learn the distribution of one-hot 4 dimensional vectors. This is simple enough that we are able to use a latent variable of size 2 - and we can therefore visualise the distribution learnt by the model. \n",
    "\n",
    "To model this, we will use the following specification:\n",
    "\n",
    "$p(z) \\sim \\mathcal{N}(0,I_{2})$\n",
    "\n",
    "$p(x \\mid z) \\sim \\mathcal{N}(f(z)[0],f(z)[1])$\n",
    "\n",
    "$q(z \\mid x) \\sim \\mathcal{N}(g(x)[0], g(x)[1])$\n",
    "\n",
    "where f and g are neural networks, and the $[0]$ and $[1]$ indicate the first and second outputs of the network. For a more complete review, see [this post](https://chrisorm.github.io/VI-to-VAE.html).\n",
    "\n",
    "We will use the analytic KLD formulation of the ELBO, as proposed in [the original paper](https://arxiv.org/pdf/1312.6114.pdf).\n",
    "\n",
    "## Intuition\n",
    "\n",
    "From the above probabilistic formulation, we can offer an intuition behind the roles of the neural networks. Network g can be seen as an encoder - it takes a sample, and transforms this into the parameters of the posterior over z. Network f is a decoder - it takes the latent \"representation\", z, and turns this into a distribution over x. \n",
    "\n",
    "At test time, we can simply take the mode of the two distributions, and in this case, we get an encoder-decoder pair: \n",
    "\n",
    "$E(x,z) = argmax_{z} \\ q(z \\mid x) $\n",
    "\n",
    "$D(x,z) = argmax_{x} \\ p(x \\mid z) $\n",
    "\n",
    "## Code\n",
    "\n",
    "Now we have laid out the theory, let's look at an example!"
   ]
  },
  {
   "cell_type": "code",
   "execution_count": 1,
   "metadata": {},
   "outputs": [],
   "source": [
    "import torch\n",
    "from torch import nn\n",
    "from torch.autograd import Variable\n",
    "\n",
    "import numpy as np"
   ]
  },
  {
   "cell_type": "code",
   "execution_count": 2,
   "metadata": {},
   "outputs": [],
   "source": [
    "representation_size = 2\n",
    "input_size = 4\n",
    "n_samples = 2000\n",
    "batch_size = 5"
   ]
  },
  {
   "cell_type": "code",
   "execution_count": 3,
   "metadata": {},
   "outputs": [],
   "source": [
    "n_samples_per_batch = n_samples//input_size\n",
    "\n",
    "y = np.array([i for i in range(input_size)  for _ in range(n_samples_per_batch)])\n",
    "\n",
    "d = np.identity(input_size)\n",
    "x = np.array([d[i] for i in y], dtype=np.float32)"
   ]
  },
  {
   "cell_type": "markdown",
   "metadata": {},
   "source": [
    "Some example data points:"
   ]
  },
  {
   "cell_type": "code",
   "execution_count": 21,
   "metadata": {},
   "outputs": [
    {
     "name": "stdout",
     "output_type": "stream",
     "text": [
      "[[ 1.  0.  0.  0.]\n",
      " [ 1.  0.  0.  0.]\n",
      " [ 0.  1.  0.  0.]\n",
      " [ 0.  1.  0.  0.]\n",
      " [ 0.  0.  1.  0.]\n",
      " [ 0.  0.  1.  0.]\n",
      " [ 0.  0.  0.  1.]\n",
      " [ 0.  0.  0.  1.]]\n"
     ]
    }
   ],
   "source": [
    "print(x[[10, 58 ,610, 790, 1123, 1258, 1506, 1988]])"
   ]
  },
  {
   "cell_type": "code",
   "execution_count": 5,
   "metadata": {},
   "outputs": [],
   "source": [
    "class VAE(nn.Module):\n",
    "    def __init__(self):\n",
    "        super(VAE, self).__init__()\n",
    "        self.en1 = nn.Linear(input_size, 200)\n",
    "        self.en_mu = nn.Linear(200, representation_size)\n",
    "        self.en_std = nn.Linear(200, representation_size)\n",
    "        self.de1 = nn.Linear(representation_size, 200)\n",
    "        self.de2 = nn.Linear(200, input_size)\n",
    "        self.relu = nn.ReLU()\n",
    "        self.sigmoid = nn.Sigmoid()\n",
    "        \n",
    "    def encode(self, x):\n",
    "        \"\"\"Encode a batch of samples, and return posterior parameters for each point.\"\"\"\n",
    "        h1 = self.relu(self.en1(x))\n",
    "        return self.en_mu(h1), self.en_std(h1)\n",
    "    \n",
    "    def decode(self, z):\n",
    "        \"\"\"Decode a batch of latent variables\"\"\"\n",
    "        \n",
    "        h2 = self.relu(self.de1(z))\n",
    "        return self.sigmoid(self.de2(h2))\n",
    "    \n",
    "    def reparam(self, mu, logvar):\n",
    "        \"\"\"Reparameterisation trick to sample z values. \n",
    "        This is stochastic during training,  and returns the mode during evaluation.\"\"\"\n",
    "        \n",
    "        if self.training:\n",
    "            std = logvar.mul(0.5).exp_()\n",
    "            eps = Variable(std.data.new(std.size()).normal_())\n",
    "            return eps.mul(std).add_(mu)\n",
    "        else:\n",
    "            return mu\n",
    "            \n",
    "    \n",
    "    def forward(self, x):\n",
    "        \"\"\"Takes a batch of samples, encodes them, and then decodes them again to compare.\"\"\"\n",
    "        mu, logvar = self.encode(x.view(-1, input_size))\n",
    "        z = self.reparam(mu, logvar)\n",
    "        return self.decode(z), mu, logvar\n",
    "    \n",
    "    def loss(self, reconstruction, x, mu, logvar):\n",
    "        \"\"\"ELBO assuming entries of x are binary variables, with closed form KLD.\"\"\"\n",
    "        \n",
    "        bce = torch.nn.functional.binary_cross_entropy(reconstruction, x.view(-1, input_size))\n",
    "        KLD = -0.5 * torch.sum(1 + logvar - mu.pow(2) - logvar.exp())\n",
    "        # Normalise by same number of elements as in reconstruction\n",
    "        KLD /= x.view(-1, input_size).data.shape[0] * input_size\n",
    "\n",
    "        return bce + KLD\n",
    "    \n",
    "    def get_z(self, x):\n",
    "        \"\"\"Encode a batch of data points, x, into their z representations.\"\"\"\n",
    "        \n",
    "        mu, logvar = self.encode(x.view(-1, input_size))\n",
    "        return self.reparam(mu, logvar)\n"
   ]
  },
  {
   "cell_type": "code",
   "execution_count": 6,
   "metadata": {},
   "outputs": [],
   "source": [
    "model = VAE()"
   ]
  },
  {
   "cell_type": "code",
   "execution_count": 7,
   "metadata": {},
   "outputs": [],
   "source": [
    "optimizer = torch.optim.Adam(model.parameters(), lr=1e-3)"
   ]
  },
  {
   "cell_type": "code",
   "execution_count": 8,
   "metadata": {},
   "outputs": [],
   "source": [
    "def train(epoch, batches_per_epoch = 501, log_interval=500):\n",
    "    model.train()\n",
    "    \n",
    "    ind = np.arange(x.shape[0])\n",
    "    for i in range(batches_per_epoch):\n",
    "        data = torch.from_numpy(x[np.random.choice(ind, size=batch_size)])\n",
    "        data = Variable(data, requires_grad=False)\n",
    "        optimizer.zero_grad()\n",
    "        recon_batch, mu, logvar = model(data)\n",
    "        loss = model.loss(recon_batch, data, mu, logvar)\n",
    "        loss.backward()\n",
    "        #train_loss += loss.data[0]\n",
    "        optimizer.step()\n",
    "        if (i % log_interval == 0) and (epoch % 5 ==0):\n",
    "            #Print progress\n",
    "            print('Train Epoch: {} [{}/{}]\\tLoss: {:.6f}'.format(\n",
    "                epoch, i * batch_size, batch_size*batches_per_epoch,\n",
    "                loss.data[0] / len(data)))\n",
    "\n",
    "    print('====> Epoch: {} done!'.format(\n",
    "          epoch))\n",
    "\n",
    "\n",
    "def test(epoch, batches_per_epoch=1):\n",
    "    model.eval()\n",
    "\n",
    "    ind = np.arange(x.shape[0])\n",
    "    for i in range(batches_per_epoch):\n",
    "        \n",
    "        data = torch.from_numpy(x[np.random.choice(ind, size=batch_size)])\n",
    "        data = Variable(data, requires_grad=False)\n",
    "        recon_batch, mu, logvar = model(data)\n",
    "        if i == 0:\n",
    "            n = min(data.size(0), 2)\n",
    "            print(data.view(batch_size, 2,2)[:n])\n",
    "            print(recon_batch.view(batch_size, 2,2)[:n])"
   ]
  },
  {
   "cell_type": "code",
   "execution_count": 9,
   "metadata": {},
   "outputs": [
    {
     "name": "stdout",
     "output_type": "stream",
     "text": [
      "====> Epoch: 1 done!\n",
      "====> Epoch: 2 done!\n",
      "====> Epoch: 3 done!\n",
      "====> Epoch: 4 done!\n",
      "Train Epoch: 5 [0/2505]\tLoss: 0.084151\n",
      "Train Epoch: 5 [2500/2505]\tLoss: 0.080040\n",
      "====> Epoch: 5 done!\n",
      "====> Epoch: 6 done!\n",
      "====> Epoch: 7 done!\n",
      "====> Epoch: 8 done!\n",
      "====> Epoch: 9 done!\n",
      "Train Epoch: 10 [0/2505]\tLoss: 0.089166\n",
      "Train Epoch: 10 [2500/2505]\tLoss: 0.067121\n",
      "====> Epoch: 10 done!\n",
      "====> Epoch: 11 done!\n",
      "====> Epoch: 12 done!\n",
      "====> Epoch: 13 done!\n",
      "====> Epoch: 14 done!\n",
      "Train Epoch: 15 [0/2505]\tLoss: 0.082387\n",
      "Train Epoch: 15 [2500/2505]\tLoss: 0.070755\n",
      "====> Epoch: 15 done!\n",
      "====> Epoch: 16 done!\n",
      "====> Epoch: 17 done!\n",
      "====> Epoch: 18 done!\n",
      "====> Epoch: 19 done!\n",
      "Train Epoch: 20 [0/2505]\tLoss: 0.067315\n",
      "Train Epoch: 20 [2500/2505]\tLoss: 0.086615\n",
      "====> Epoch: 20 done!\n",
      "====> Epoch: 21 done!\n",
      "====> Epoch: 22 done!\n",
      "====> Epoch: 23 done!\n",
      "====> Epoch: 24 done!\n",
      "Train Epoch: 25 [0/2505]\tLoss: 0.125867\n",
      "Train Epoch: 25 [2500/2505]\tLoss: 0.070417\n",
      "====> Epoch: 25 done!\n",
      "====> Epoch: 26 done!\n",
      "====> Epoch: 27 done!\n",
      "====> Epoch: 28 done!\n",
      "====> Epoch: 29 done!\n"
     ]
    }
   ],
   "source": [
    "print_examples = False #Change to true if you want to see some examples at each step!\n",
    "for epoch in range(1, 30):\n",
    "    train(epoch)\n",
    "    if print_examples:\n",
    "        test(epoch)"
   ]
  },
  {
   "cell_type": "code",
   "execution_count": 10,
   "metadata": {},
   "outputs": [],
   "source": [
    "data = Variable(torch.from_numpy(x), requires_grad=False)\n",
    "model.train()\n",
    "zs = model.get_z(data).data.numpy()"
   ]
  },
  {
   "cell_type": "code",
   "execution_count": 11,
   "metadata": {},
   "outputs": [
    {
     "data": {
      "text/plain": [
       "<matplotlib.collections.PathCollection at 0x7f2bdce37be0>"
      ]
     },
     "execution_count": 11,
     "metadata": {},
     "output_type": "execute_result"
    },
    {
     "data": {
      "image/png": "[encoded data removed]",
      "text/plain": [
       "<matplotlib.figure.Figure at 0x7f2be7a8ae10>"
      ]
     },
     "metadata": {},
     "output_type": "display_data"
    }
   ],
   "source": [
    "import matplotlib.pyplot as plt\n",
    "%matplotlib inline\n",
    "\n",
    "plt.scatter(zs[:,0], zs[:, 1], c=y)"
   ]
  },
  {
   "cell_type": "markdown",
   "metadata": {},
   "source": [
    "The above plot generates stochastic z values. As we can see, their is some overlap between the different classes. However, the VAE has learnt roughly distinct regions in the Z space to correspond to each class in our data. This is a great result, because we never used the labels in the learning process, and yet have learnt simple representations for our data, and these representations encode sufficient information to cluster data points!\n",
    "\n",
    "If we take the mode rather than samples from the encoder, we can see how the modes of the distributions look."
   ]
  },
  {
   "cell_type": "code",
   "execution_count": 12,
   "metadata": {},
   "outputs": [
    {
     "data": {
      "text/plain": [
       "<matplotlib.collections.PathCollection at 0x7f2bdcd664a8>"
      ]
     },
     "execution_count": 12,
     "metadata": {},
     "output_type": "execute_result"
    },
    {
     "data": {
      "image/png": "[encoded data removed]",
      "text/plain": [
       "<matplotlib.figure.Figure at 0x7f2bdcdec860>"
      ]
     },
     "metadata": {},
     "output_type": "display_data"
    }
   ],
   "source": [
    "data = Variable(torch.from_numpy(x), requires_grad=False)\n",
    "model.eval()\n",
    "zs = model.get_z(data).data.numpy()\n",
    "\n",
    "plt.scatter(zs[:,0], zs[:, 1], c=y)"
   ]
  },
  {
   "cell_type": "markdown",
   "metadata": {},
   "source": [
    "As this shows, it has learnt that their should be 4 means for the posterior, and positioned them far away from each other."
   ]
  },
  {
   "cell_type": "markdown",
   "metadata": {},
   "source": [
    "## What went wrong?\n",
    "\n",
    "Whilst this result is good, there are some troubling aspects - that the clustering overlaps is the most obvious one. If we pick a point that overlaps on the above plot, such as [0.5, 0.6], and decode it, we will see what this looks like.\n"
   ]
  },
  {
   "cell_type": "code",
   "execution_count": 18,
   "metadata": {},
   "outputs": [
    {
     "data": {
      "text/plain": [
       "\n",
       " 0.2693  0.4425  0.0012  0.2021\n",
       "[torch.FloatTensor of size 1x4]"
      ]
     },
     "execution_count": 18,
     "metadata": {},
     "output_type": "execute_result"
    }
   ],
   "source": [
    "test_point = np.array([0.5, 0.6], dtype=np.float32).reshape(1,-1)\n",
    "test_point = Variable(torch.from_numpy(test_point), requires_grad=False)\n",
    "s = model.decode(test_point)\n",
    "s.data"
   ]
  },
  {
   "cell_type": "markdown",
   "metadata": {},
   "source": [
    "This is not really a clear example - whilst we expect to have to do some rounding to get a 1 hot vector, this is an interpolation between 3 different classes. Whilst this may be desirable behaviour, it would be nice if there was less overlap.\n",
    "\n",
    "As an example, a good point reconstructs to:"
   ]
  },
  {
   "cell_type": "code",
   "execution_count": 16,
   "metadata": {},
   "outputs": [
    {
     "data": {
      "text/plain": [
       "\n",
       " 0.0593  0.8851  0.0553  0.0031\n",
       "[torch.FloatTensor of size 1x4]"
      ]
     },
     "execution_count": 16,
     "metadata": {},
     "output_type": "execute_result"
    }
   ],
   "source": [
    "test_point = np.array([0., 0.], dtype=np.float32).reshape(1,-1)\n",
    "test_point = Variable(torch.from_numpy(test_point), requires_grad=False)\n",
    "s = model.decode(test_point)\n",
    "s.data"
   ]
  },
  {
   "cell_type": "markdown",
   "metadata": {},
   "source": [
    "Another problem is the size of the space in z given to each class. If we look at the first visualisation, the blue class has a much smaller amount of space than say the yellow class. This means if we sample from z, which is a uniform gaussian, we will not draw uniformly from each class - we will oversample the yellow class and undersample the blue, for example."
   ]
  },
  {
   "cell_type": "markdown",
   "metadata": {},
   "source": [
    "## What could we do to improve matters?\n",
    "\n",
    "One big problem, is that we are still imposing some structure on the problem. Each posterior is a gaussian by definition - the neural network means we have a very complex hierarchical model to represent the posterior, but the final form is still a gaussian for each sample. \n",
    "\n",
    "What we would like is to have a network which can be arbitrarily flexible - even in the final form. However, this is complex as we have the sampling operation to incorporate. \n",
    "\n",
    "There is lots of places where this happens - GANs is one example. These are often termed implicit generative models - one where the form of each part is learned by the network, not just the parameters of an explicit distribution. \n",
    "\n",
    "A [previous post](https://chrisorm.github.io/GM-Disc-as-ratios.html) covers some necessary theory for us to extend what we have done here, and this will be the topic of the next post.\n",
    "\n",
    "# Summary\n",
    "\n",
    "In this post, we have introduced the VAE in practice, covered some properties of it, and identified a few problems. In the next post we will move onto some recent work, covering extensions to this approach to help correct some of these issues."
   ]
  }
 ],
 "metadata": {
  "kernelspec": {
   "display_name": "Python 3",
   "language": "python",
   "name": "python3"
  },
  "language_info": {
   "codemirror_mode": {
    "name": "ipython",
    "version": 3
   },
   "file_extension": ".py",
   "mimetype": "text/x-python",
   "name": "python",
   "nbconvert_exporter": "python",
   "pygments_lexer": "ipython3",
   "version": "3.7.2"
  }
 },
 "nbformat": 4,
 "nbformat_minor": 2
}
