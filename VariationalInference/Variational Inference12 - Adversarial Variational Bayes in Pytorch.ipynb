{
 "cells": [
  {
   "cell_type": "markdown",
   "metadata": {},
   "source": [
    "# Adversarial Variational Bayes in Pytorch\n",
    "\n",
    "In the previous post, we implemented a Variational Autoencoder, and pointed out a few problems. The overlap between classes was one of the key problems. The normality assumption is also perhaps somewhat constraining.\n",
    "\n",
    "In this post, I implement the recent paper [Adversarial Variational Bayes](https://arxiv.org/pdf/1701.04722.pdf), in Pytorch. This addresses some of the issues with VAEs, and also provides some interesting links to GANs, the other popular approach to generative modelling.\n",
    "\n",
    "## Theory\n",
    "\n",
    "Before diving in, if you are not familiar with VAEs, I suggest you take some time to recap my [previous post](https://chrisorm.github.io/VI-to-VAE.html) on the theory of VAEs. \n",
    "\n",
    "The main modification proposed by the [AVB paper](https://arxiv.org/pdf/1701.04722.pdf), is to change the encoder from being a parameterized Gaussian to being a fully implicit distribution. In a vanilla VAE, the encoder network takes a data point, x, as input and outputs the mean and variance of a normal distribution. We then used the reparameterization trick on standard normal samples to sample values of the latent variables.\n",
    "\n",
    "The first modification is that instead of outputting a mean and variance, the encoder now returns a z value directly. The inputs are now data points, x, and standard Gaussian noise. So our encoder network learns how to incorporate the random noise to generate a sample from the approximate posterior directly. \n",
    "\n",
    "This is most easily shown by figure 2 in the original paper.\n",
    "\n",
    "### Implicit Likelihood Ratio\n",
    "\n",
    "Once we have made the above change, we have a problem. The ELBO:\n",
    "\n",
    "$max_{\\phi}max_{\\theta} \\ E_{p_{D}}[ \\mathcal{L}] = max_{\\phi, \\theta} E_{p_{D}}[E_{q}[log \\ P_{\\theta}(X \\mid Z) + log \\ P_{\\theta}(Z) - log \\ q_{\\phi}(Z \\mid X)]] $\n",
    "\n",
    "contains probabilities under the approximate posterior, q. Now we have an implicit model for q, we can't evaluate the probability of a sample. In order to deal with this problem, we use the idea from [Learning in Implicit Generative Models](https://arxiv.org/abs/1610.03483), covered in a [previous post](https://chrisorm.github.io/GM-Disc-as-ratios.html). The idea is to use a discriminator to approximate the log ratio of q and the prior.\n",
    "\n",
    "We introduce a second network, $T(x,z)$, which outputs a single value for each sample. If we label the samples from the posterior as class 1, and from the prior as class 0, we can then pass the output of T through a sigmoid, and then train it using binary cross entropy, in exactly the same way as with my previous post on [Discriminators as likelihood ratios](https://chrisorm.github.io/GM-Disc-as-ratios.html). In this case, the output of T (without the sigmoid) are the logits, which at optimality of the discriminator is the ratio of the two distributions. We can therefor substitute the output of T directly for the ratio term in the ELBO, $log \\ p(Z) - log \\ q_{\\phi}(Z\\mid X) $.\n",
    "\n",
    "This gives us two loss functions that we optimise in an iterative process. The discriminator is trained by minimising the binary cross entropy, and the encoder and decoder is trained by maximising the ELBO, but with the discriminator's estimate in place of an analytical $log \\ p(Z) - log \\ q_{\\phi}(Z\\mid X) $. \n",
    "\n",
    "$max \\ \\mathcal{L_{D}} = E_{P_{D}}( E_{q(z \\mid x)}[log \\ \\sigma (T(X, Z))] + E_{p(z)}[log \\ 1 - \\sigma (T(X, Z))] )$\n",
    "\n",
    "$max \\ \\mathcal{L_{G}} =   E_{p_{D}}[E_{q}[log \\ P_{\\theta}(X \\mid Z) - T(X, Z)]] $\n",
    "\n",
    "## In practice\n",
    "\n",
    "I continue with the example I used in the VAE post, the toy example that is included in the post. "
   ]
  },
  {
   "cell_type": "code",
   "execution_count": 1,
   "metadata": {},
   "outputs": [],
   "source": [
    "import torch\n",
    "from torch import nn\n",
    "from torch.autograd import Variable\n",
    "\n",
    "import numpy as np"
   ]
  },
  {
   "cell_type": "code",
   "execution_count": 2,
   "metadata": {},
   "outputs": [],
   "source": [
    "representation_size = 2\n",
    "input_size = 4\n",
    "n_samples = 2000\n",
    "batch_size = 500\n",
    "gen_hidden_size = 200\n",
    "enc_hidden_size = 200\n",
    "disc_hidden_size = 200"
   ]
  },
  {
   "cell_type": "code",
   "execution_count": 3,
   "metadata": {},
   "outputs": [],
   "source": [
    "n_samples_per_batch = n_samples//input_size\n",
    "\n",
    "y = np.array([i for i in range(input_size)  for _ in range(n_samples_per_batch)])\n",
    "\n",
    "d = np.identity(input_size)\n",
    "x = np.array([d[i] for i in y], dtype=np.float32)"
   ]
  },
  {
   "cell_type": "markdown",
   "metadata": {},
   "source": [
    "Some example data points:"
   ]
  },
  {
   "cell_type": "code",
   "execution_count": 4,
   "metadata": {},
   "outputs": [
    {
     "name": "stdout",
     "output_type": "stream",
     "text": [
      "[[ 1.  0.  0.  0.]\n",
      " [ 1.  0.  0.  0.]\n",
      " [ 0.  1.  0.  0.]\n",
      " [ 0.  1.  0.  0.]\n",
      " [ 0.  0.  1.  0.]\n",
      " [ 0.  0.  1.  0.]\n",
      " [ 0.  0.  0.  1.]\n",
      " [ 0.  0.  0.  1.]]\n"
     ]
    }
   ],
   "source": [
    "print(x[[10, 58 ,610, 790, 1123, 1258, 1506, 1988]])"
   ]
  },
  {
   "cell_type": "code",
   "execution_count": 5,
   "metadata": {},
   "outputs": [],
   "source": [
    "class VAE(nn.Module):\n",
    "    def __init__(self):\n",
    "        super(VAE, self).__init__()\n",
    "        self.gen_l1 = torch.nn.Linear(representation_size, gen_hidden_size)\n",
    "        self.gen_l2 = torch.nn.Linear(gen_hidden_size, input_size)\n",
    "        \n",
    "        self.enc_l1 = torch.nn.Linear(input_size+representation_size, \n",
    "                                      enc_hidden_size)\n",
    "        self.enc_l2 = torch.nn.Linear(enc_hidden_size, representation_size)\n",
    "        \n",
    "        self.disc_l1 = torch.nn.Linear(input_size+representation_size, \n",
    "                                       disc_hidden_size)\n",
    "        self.disc_l2 = torch.nn.Linear(disc_hidden_size, 1)\n",
    "        \n",
    "        self.relu = torch.nn.ReLU()\n",
    "        self.sigmoid = torch.nn.Sigmoid()\n",
    "        \n",
    "    def sample_prior(self, s):\n",
    "        if self.training:\n",
    "            m = torch.zeros((s.data.shape[0], representation_size))\n",
    "            std = torch.ones((s.data.shape[0], representation_size))\n",
    "            d = Variable(torch.normal(m,std))\n",
    "        else:\n",
    "            d = Variable(torch.zeros((s.data.shape[0], representation_size)))\n",
    "        \n",
    "        return d\n",
    "    \n",
    "    def discriminator(self, x,z):\n",
    "        i = torch.cat((x, z), dim=1)\n",
    "        h = self.relu(self.disc_l1(i))\n",
    "        return self.disc_l2(h)\n",
    "    \n",
    "    def sample_posterior(self, x):\n",
    "        i = torch.cat((x, self.sample_prior(x)), dim=1)\n",
    "        h = self.relu(self.enc_l1(i))\n",
    "        return self.enc_l2(h)\n",
    "    \n",
    "    def decoder(self, z):\n",
    "        i = self.relu(self.gen_l1(z))\n",
    "        h = self.sigmoid(self.gen_l2(i))\n",
    "        return h\n",
    "    \n",
    "    def forward(self, x):\n",
    "        z_p = self.sample_prior(x)\n",
    "        \n",
    "        z_q = self.sample_posterior(x)\n",
    "        log_d_prior = self.discriminator(x, z_p)\n",
    "        log_d_posterior = self.discriminator(x, z_q)\n",
    "        disc_loss = torch.mean(\n",
    "            torch.nn.functional.binary_cross_entropy_with_logits(\n",
    "            log_d_posterior, torch.ones_like(log_d_posterior)\n",
    "        )\n",
    "        + torch.nn.functional.binary_cross_entropy_with_logits(\n",
    "            log_d_prior, torch.zeros_like(log_d_prior))\n",
    "        )\n",
    "        \n",
    "        x_recon = self.decoder(z_q)\n",
    "        recon_liklihood = -torch.nn.functional.binary_cross_entropy(\n",
    "                                                x_recon, x)*x.data.shape[0]\n",
    "        \n",
    "        gen_loss = torch.mean(log_d_posterior)-torch.mean(recon_liklihood)\n",
    "        \n",
    "        return disc_loss, gen_loss"
   ]
  },
  {
   "cell_type": "code",
   "execution_count": 6,
   "metadata": {},
   "outputs": [],
   "source": [
    "model = VAE()"
   ]
  },
  {
   "cell_type": "code",
   "execution_count": 7,
   "metadata": {},
   "outputs": [],
   "source": [
    "disc_params = []\n",
    "gen_params = []\n",
    "for name, param in model.named_parameters():\n",
    "    \n",
    "    if 'disc' in name:\n",
    "        \n",
    "        disc_params.append(param)\n",
    "    else:\n",
    "        gen_params.append(param)"
   ]
  },
  {
   "cell_type": "code",
   "execution_count": 8,
   "metadata": {},
   "outputs": [],
   "source": [
    "disc_optimizer = torch.optim.Adam(disc_params, lr=1e-3)\n",
    "gen_optimizer = torch.optim.Adam(gen_params, lr=1e-3)"
   ]
  },
  {
   "cell_type": "code",
   "execution_count": 9,
   "metadata": {},
   "outputs": [],
   "source": [
    "def train(epoch, batches_per_epoch = 501, log_interval=500):\n",
    "    model.train()\n",
    "    \n",
    "    ind = np.arange(x.shape[0])\n",
    "    for i in range(batches_per_epoch):\n",
    "        data = torch.from_numpy(x[np.random.choice(ind, size=batch_size)])\n",
    "        data = Variable(data, requires_grad=False)\n",
    "        \n",
    "        \n",
    "        discrim_loss, gen_loss= model(data)\n",
    "        \n",
    "        gen_optimizer.zero_grad()\n",
    "        gen_loss.backward(retain_graph=True)\n",
    "        gen_optimizer.step()\n",
    "        \n",
    "        disc_optimizer.zero_grad()\n",
    "        discrim_loss.backward(retain_graph=True)\n",
    "        disc_optimizer.step()\n",
    "        if (i % log_interval == 0) and (epoch % 1 ==0):\n",
    "            #Print progress\n",
    "            print('Train Epoch: {} [{}/{}]\\tLoss: {:.6f}\\tLoss: {:.6f}'.format(\n",
    "                epoch, i * batch_size, batch_size*batches_per_epoch,\n",
    "                discrim_loss.data[0] / len(data), gen_loss.data[0] / len(data)))\n",
    "\n",
    "    print('====> Epoch: {} done!'.format(\n",
    "          epoch))\n"
   ]
  },
  {
   "cell_type": "code",
   "execution_count": 10,
   "metadata": {},
   "outputs": [
    {
     "name": "stdout",
     "output_type": "stream",
     "text": [
      "Train Epoch: 1 [0/250500]\tLoss: 0.002767\tLoss: 0.665143\n",
      "Train Epoch: 1 [250000/250500]\tLoss: 0.000456\tLoss: 0.005928\n",
      "====> Epoch: 1 done!\n",
      "Train Epoch: 2 [0/250500]\tLoss: 0.000511\tLoss: 0.005995\n",
      "Train Epoch: 2 [250000/250500]\tLoss: 0.001044\tLoss: 0.004739\n",
      "====> Epoch: 2 done!\n",
      "Train Epoch: 3 [0/250500]\tLoss: 0.001039\tLoss: 0.004568\n",
      "Train Epoch: 3 [250000/250500]\tLoss: 0.000926\tLoss: 0.004154\n",
      "====> Epoch: 3 done!\n",
      "Train Epoch: 4 [0/250500]\tLoss: 0.000915\tLoss: 0.004528\n",
      "Train Epoch: 4 [250000/250500]\tLoss: 0.001076\tLoss: 0.003867\n",
      "====> Epoch: 4 done!\n",
      "Train Epoch: 5 [0/250500]\tLoss: 0.001025\tLoss: 0.003856\n",
      "Train Epoch: 5 [250000/250500]\tLoss: 0.001121\tLoss: 0.003561\n",
      "====> Epoch: 5 done!\n",
      "Train Epoch: 6 [0/250500]\tLoss: 0.001205\tLoss: 0.003342\n",
      "Train Epoch: 6 [250000/250500]\tLoss: 0.001148\tLoss: 0.003481\n",
      "====> Epoch: 6 done!\n",
      "Train Epoch: 7 [0/250500]\tLoss: 0.000997\tLoss: 0.003723\n",
      "Train Epoch: 7 [250000/250500]\tLoss: 0.001250\tLoss: 0.003150\n",
      "====> Epoch: 7 done!\n",
      "Train Epoch: 8 [0/250500]\tLoss: 0.001242\tLoss: 0.003158\n",
      "Train Epoch: 8 [250000/250500]\tLoss: 0.001235\tLoss: 0.002745\n",
      "====> Epoch: 8 done!\n",
      "Train Epoch: 9 [0/250500]\tLoss: 0.001093\tLoss: 0.002915\n",
      "Train Epoch: 9 [250000/250500]\tLoss: 0.001357\tLoss: 0.003052\n",
      "====> Epoch: 9 done!\n",
      "Train Epoch: 10 [0/250500]\tLoss: 0.001276\tLoss: 0.003014\n",
      "Train Epoch: 10 [250000/250500]\tLoss: 0.001053\tLoss: 0.003656\n",
      "====> Epoch: 10 done!\n",
      "Train Epoch: 11 [0/250500]\tLoss: 0.001076\tLoss: 0.003654\n",
      "Train Epoch: 11 [250000/250500]\tLoss: 0.001373\tLoss: 0.002868\n",
      "====> Epoch: 11 done!\n",
      "Train Epoch: 12 [0/250500]\tLoss: 0.001270\tLoss: 0.002848\n",
      "Train Epoch: 12 [250000/250500]\tLoss: 0.001166\tLoss: 0.003288\n",
      "====> Epoch: 12 done!\n",
      "Train Epoch: 13 [0/250500]\tLoss: 0.001110\tLoss: 0.003320\n",
      "Train Epoch: 13 [250000/250500]\tLoss: 0.001227\tLoss: 0.002905\n",
      "====> Epoch: 13 done!\n",
      "Train Epoch: 14 [0/250500]\tLoss: 0.001295\tLoss: 0.002825\n",
      "Train Epoch: 14 [250000/250500]\tLoss: 0.001322\tLoss: 0.002630\n",
      "====> Epoch: 14 done!\n"
     ]
    }
   ],
   "source": [
    "for epoch in range(1, 15):\n",
    "    train(epoch)"
   ]
  },
  {
   "cell_type": "code",
   "execution_count": 11,
   "metadata": {},
   "outputs": [],
   "source": [
    "data = Variable(torch.from_numpy(x), requires_grad=False)\n",
    "\n",
    "model.train()\n",
    "zs = model.sample_posterior(data).data.numpy()"
   ]
  },
  {
   "cell_type": "code",
   "execution_count": 12,
   "metadata": {},
   "outputs": [
    {
     "data": {
      "text/plain": [
       "<matplotlib.collections.PathCollection at 0x7ff8f12e6c18>"
      ]
     },
     "execution_count": 12,
     "metadata": {},
     "output_type": "execute_result"
    },
    {
     "data": {
      "image/png": "[encoded data removed]",
      "text/plain": [
       "<matplotlib.figure.Figure at 0x7ff9055ce0b8>"
      ]
     },
     "metadata": {},
     "output_type": "display_data"
    }
   ],
   "source": [
    "import matplotlib.pyplot as plt\n",
    "%matplotlib inline\n",
    "\n",
    "plt.scatter(zs[:,0], zs[:, 1], c=y)"
   ]
  },
  {
   "cell_type": "markdown",
   "metadata": {},
   "source": [
    "The above plot generates stochastic z values. As we can see, this distribution is much clearer than the equivalent from VAEs. "
   ]
  },
  {
   "cell_type": "code",
   "execution_count": 13,
   "metadata": {},
   "outputs": [
    {
     "data": {
      "text/plain": [
       "<matplotlib.collections.PathCollection at 0x7ff8f0219710>"
      ]
     },
     "execution_count": 13,
     "metadata": {},
     "output_type": "execute_result"
    },
    {
     "data": {
      "image/png": "[encoded data removed]",
      "text/plain": [
       "<matplotlib.figure.Figure at 0x7ff8f12ad400>"
      ]
     },
     "metadata": {},
     "output_type": "display_data"
    }
   ],
   "source": [
    "data = Variable(torch.from_numpy(x), requires_grad=False)\n",
    "model.eval()\n",
    "zs = model.sample_posterior(data).data.numpy()\n",
    "\n",
    "plt.scatter(zs[:,0], zs[:, 1], c=y)"
   ]
  },
  {
   "cell_type": "markdown",
   "metadata": {},
   "source": [
    "As this shows, it has learnt that their should be 4 means for the posterior, and positioned them far away from each other."
   ]
  },
  {
   "cell_type": "markdown",
   "metadata": {},
   "source": [
    "## Some example points\n",
    "\n",
    "The output of the decoder is the Bernoulli probability that that element is 1. "
   ]
  },
  {
   "cell_type": "code",
   "execution_count": 15,
   "metadata": {},
   "outputs": [
    {
     "data": {
      "text/plain": [
       "\n",
       " 2.6369e-14  5.8558e-09  1.8340e-08  1.0000e+00\n",
       "[torch.FloatTensor of size 1x4]"
      ]
     },
     "execution_count": 15,
     "metadata": {},
     "output_type": "execute_result"
    }
   ],
   "source": [
    "test_point = np.array([0.5, 0.6], dtype=np.float32).reshape(1,-1)\n",
    "test_point = Variable(torch.from_numpy(test_point), requires_grad=False)\n",
    "s = model.decoder(test_point)\n",
    "s.data"
   ]
  },
  {
   "cell_type": "markdown",
   "metadata": {},
   "source": [
    "As the boundary is much sharper, it is normally clear for almost any point which class the latent variable corresponds to. If we pick a border point, the network has much lower probabilties."
   ]
  },
  {
   "cell_type": "code",
   "execution_count": 16,
   "metadata": {},
   "outputs": [
    {
     "data": {
      "text/plain": [
       "\n",
       " 7.8847e-03  1.0944e-01  5.7596e-06  1.0726e-03\n",
       "[torch.FloatTensor of size 1x4]"
      ]
     },
     "execution_count": 16,
     "metadata": {},
     "output_type": "execute_result"
    }
   ],
   "source": [
    "test_point = np.array([0., 0.], dtype=np.float32).reshape(1,-1)\n",
    "test_point = Variable(torch.from_numpy(test_point), requires_grad=False)\n",
    "s = model.decoder(test_point)\n",
    "s.data"
   ]
  },
  {
   "cell_type": "markdown",
   "metadata": {},
   "source": [
    "# Summary\n",
    "\n",
    "In this post I have implemented the AVB algorithm in pytorch, and shown that it provides more intuitive latent codings than a vanilla VAE. This has been the first post to incorporate ideas from implicit generative modelling, and I hope to go over some more substantially theory in future posts."
   ]
  }
 ],
 "metadata": {
  "kernelspec": {
   "display_name": "Python 3",
   "language": "python",
   "name": "python3"
  },
  "language_info": {
   "codemirror_mode": {
    "name": "ipython",
    "version": 3
   },
   "file_extension": ".py",
   "mimetype": "text/x-python",
   "name": "python",
   "nbconvert_exporter": "python",
   "pygments_lexer": "ipython3",
   "version": "3.7.2"
  }
 },
 "nbformat": 4,
 "nbformat_minor": 2
}
