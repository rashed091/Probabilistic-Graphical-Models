{
 "cells": [
  {
   "cell_type": "markdown",
   "metadata": {},
   "source": [
    "# Using the ELBO in practice"
   ]
  },
  {
   "cell_type": "markdown",
   "metadata": {},
   "source": [
    "## Introduction\n",
    "\n",
    "In the previous post, we derived the ELBO in practice. We saw that by maximising the lower bound, given by;\n",
    "\n",
    "$$E_{q}[log \\ P(X,Z) - log \\ q(Z)] = \\mathcal{L}$$\n",
    "\n",
    "we can approximate the posterior $P(Z\\mid X)$ with $q(Z)$."
   ]
  },
  {
   "cell_type": "markdown",
   "metadata": {},
   "source": [
    "For this post, I will go through how we can use Tensorflow to to learn an approximation to the true posterior."
   ]
  },
  {
   "cell_type": "markdown",
   "metadata": {},
   "source": [
    "## Computing the ELBO in practice\n",
    "\n",
    "What we will concerned with in this post is how to compute the ELBO in practice, without having to resort to special case simplifications. This approach forms part of a set of approaches termed 'Black Box' Variational Inference. \n",
    "\n",
    "$$\\mathcal{L} = E_{q}[log \\ P(X,Z) - log \\ q(Z)] $$\n",
    "\n",
    "The advantage of this formulation is that as we want a tractable approximation it should be simple to sample from $q$. This means we are able to approximate the Expecation as;\n",
    "\n",
    "$$E_{q}[log \\ P(X,Z) - log \\ q(Z)] \\approx \\frac{1}{M}\\sum_{i}^{M} [log \\ P(X, Z_{i}) - log \\ q(Z_{i})]$$\n",
    "\n",
    "Where $Z_{i}$ is sampled under $q$.\n",
    "\n",
    "We can split these terms out a little to make things a little easier;\n",
    "\n",
    "$$ = \\frac{1}{M}\\sum_{i}^{M} log \\ P(X \\mid Z_{i}) + \\frac{1}{M}\\sum_{i}^{M}log \\ P(Z_{i}) - \\frac{1}{M}\\sum_{i}^{M}log \\ q(Z_{i})$$\n",
    "\n",
    "As the likelihood is almost always I.I.D, we can further split up the likelihood term;\n",
    "\n",
    "$$ = \\frac{1}{M}\\sum_{i}^{M} \\sum_{j}^{N}log \\ P(X_{j} \\mid Z_{i}) + \\frac{1}{M}\\sum_{i}^{M}log \\ P(Z_{i}) - \\frac{1}{M}\\sum_{i}^{M}log \\ q(Z_{i})$$\n",
    "\n",
    "Using the above formula we can easily compute a Monte carlo estimate of the ELBO, irrelevant of the form of the joint distribution.\n",
    "\n",
    "There is one subtly, however, lurking beneath the surface. \n",
    "\n",
    "## Using the MC ELBO estimate\n",
    "\n",
    "The esimate we have derived above is very simple to implement providing we can evaluate the joint distribution and we can sample from $q$.\n",
    "\n",
    "Our goal is to maximise the ELBO, using the MC approximation. If we wish to use a library like tensorflow, or other library which uses automatic differentiation in order to do gradient based optimization, we have to ensure that all the gradients flow correctly.\n",
    "\n",
    "In a general sense, sampling is not an operation over which gradients will flow under automatic differentiation. Intuitively, we can see this is the case because sampling is non-deterministic, so the gradients will also be non-deterministic. We will explore this further in a future post.\n",
    "\n",
    "One way to get around this is to use the so-called [Reparameterization Trick](http://blog.shakirm.com/2015/10/machine-learning-trick-of-the-day-4-reparameterisation-tricks/). Within Tensorflow, all variables that implement some method for sampling over which gradients will flow have a FULLY_REPARAMETERIZED flag. You can see this check in the code that follows.\n",
    "\n",
    "In future posts, we will look into the details of the Reparameterization Trick, as well as ways to deal with distributions where this is not possible.\n",
    "\n"
   ]
  },
  {
   "cell_type": "code",
   "execution_count": 2,
   "metadata": {},
   "outputs": [],
   "source": [
    "import numpy as np\n",
    "import torch\n",
    "from torch.autograd import Variable\n",
    "import matplotlib.pyplot as plt\n",
    "%matplotlib inline\n",
    "plt.style.use('ggplot')"
   ]
  },
  {
   "cell_type": "markdown",
   "metadata": {},
   "source": [
    "## Problem setup\n",
    "\n",
    "In order to introduce the ELBO, and to be able to examine the results, we will use a conjugate distribution so we can easily derive the analytical solution.\n",
    "\n",
    "We will use a simple linear regression, treating the weights, $W$ as our latent variable.\n",
    "\n",
    "$$P(W) = N(W; 0.8, 1.0)$$\n",
    "\n",
    "$$P(t\\mid X, W) = N(t; y, S_{N})$$\n",
    "\n",
    "where $y = Xw$"
   ]
  },
  {
   "cell_type": "markdown",
   "metadata": {},
   "source": [
    "Our aim is to compute an approximation to the posterior $P(W| \\ t, \\ X)$. \n",
    "\n",
    "Firstly, we will generate the data we will use."
   ]
  },
  {
   "cell_type": "code",
   "execution_count": 3,
   "metadata": {},
   "outputs": [],
   "source": [
    "N = 200\n",
    "\n",
    "X = np.random.uniform(low=-50, high=50, size=(N, 1))\n",
    "T = 3.2*X + np.random.normal(size=(N, 1), scale=5.5)"
   ]
  },
  {
   "cell_type": "code",
   "execution_count": 4,
   "metadata": {},
   "outputs": [
    {
     "data": {
      "text/plain": [
       "<matplotlib.collections.PathCollection at 0x1245109b0>"
      ]
     },
     "execution_count": 4,
     "metadata": {},
     "output_type": "execute_result"
    },
    {
     "data": {
      "image/png": "[encoded data removed]",
      "text/plain": [
       "<Figure size 432x288 with 1 Axes>"
      ]
     },
     "metadata": {},
     "output_type": "display_data"
    }
   ],
   "source": [
    "plt.scatter(X,T)"
   ]
  },
  {
   "cell_type": "code",
   "execution_count": 5,
   "metadata": {},
   "outputs": [],
   "source": [
    "def log_norm(x, mu, std):\n",
    "    \"\"\"Compute the log pdf of x,\n",
    "    under a normal distribution with mean mu and standard deviation std.\"\"\"\n",
    "    \n",
    "    return -0.5 * torch.log(2*np.pi*std**2) -(0.5 * (1/(std**2))* (x-mu)**2)"
   ]
  },
  {
   "cell_type": "code",
   "execution_count": 6,
   "metadata": {},
   "outputs": [],
   "source": [
    "class MCElbo(torch.nn.Module):\n",
    "    def __init__(self):\n",
    "        super(MCElbo, self).__init__()\n",
    "        self.n_latent = 100 # Number of latent samples\n",
    "        self.softplus = torch.nn.Softplus()\n",
    "        \n",
    "        #The parameters we adjust during training.\n",
    "        self.qm = torch.nn.Parameter(torch.randn(1,1), requires_grad=True)\n",
    "        self.qs= torch.nn.Parameter(torch.randn(1,1), requires_grad=True)\n",
    "        \n",
    "        #create holders for prior mean and std, and likelihood std.\n",
    "        self.prior_m = Variable(torch.randn(1,1), requires_grad=False)\n",
    "        self.prior_s = Variable(torch.randn(1,1), requires_grad=False)\n",
    "        self.likelihood_s = Variable(torch.FloatTensor((1)), requires_grad=False)\n",
    "        \n",
    "        #Set the prior and likelihood moments.\n",
    "        self.prior_s.data.fill_(1.0)\n",
    "        self.prior_m.data.fill_(0.9)\n",
    "        self.likelihood_s.data.fill_(5.5)\n",
    "     \n",
    "        \n",
    "    def generate_rand(self):\n",
    "        return np.random.normal(size=(self.n_latent,1))\n",
    "    \n",
    "    def reparam(self, eps):\n",
    "        eps = Variable(torch.FloatTensor(eps))\n",
    "        return  eps.mul(self.softplus(self.qs)).add(self.qm)\n",
    "    \n",
    "    def compute_elbo(self, x, t):\n",
    "        eps = self.generate_rand()\n",
    "        z = self.reparam(eps)\n",
    "        q_likelihood = torch.mean(log_norm(z, self.qm, self.softplus(self.qs)))\n",
    "        prior = torch.mean(log_norm(z, self.prior_m, self.prior_s))\n",
    "        likelihood = torch.mean(torch.sum(log_norm(t, x*z.transpose(0,1), \n",
    "                                                   self.likelihood_s), 0))\n",
    "        \n",
    "        kld_mc = q_likelihood - prior\n",
    "        loss = likelihood - kld_mc\n",
    "        return loss"
   ]
  },
  {
   "cell_type": "code",
   "execution_count": 7,
   "metadata": {},
   "outputs": [
    {
     "name": "stdout",
     "output_type": "stream",
     "text": [
      "[[0.12696537]] [[0.12256405]]\n",
      "[[3.1920013]] [[0.00029016]]\n",
      "[[3.1917012]] [[0.00019842]]\n",
      "[[3.1924832]] [[0.00017931]]\n",
      "[[3.1917026]] [[0.00017949]]\n",
      "[[3.1894362]] [[0.00017801]]\n",
      "[[3.192994]] [[0.00017509]]\n",
      "[[3.1909337]] [[0.00017181]]\n",
      "[[3.1911685]] [[0.00017638]]\n"
     ]
    }
   ],
   "source": [
    "c = MCElbo()\n",
    "optimizer = torch.optim.Adam(c.parameters(),lr=0.2)\n",
    "x = Variable(torch.Tensor(X), requires_grad=False) \n",
    "t = Variable(torch.Tensor(T), requires_grad=False)\n",
    "\n",
    "for i in range(2001):\n",
    "    loss = -c.compute_elbo(x, t)\n",
    "    optimizer.zero_grad()\n",
    "    loss.backward(retain_graph=True)\n",
    "    optimizer.step()\n",
    "    if i % 250 ==0:\n",
    "        print(c.qm.data.numpy(), (c.softplus(c.qs).data**2).numpy())"
   ]
  },
  {
   "cell_type": "code",
   "execution_count": 8,
   "metadata": {},
   "outputs": [
    {
     "data": {
      "text/plain": [
       "array([[0.00017682]])"
      ]
     },
     "execution_count": 8,
     "metadata": {},
     "output_type": "execute_result"
    }
   ],
   "source": [
    "analytical_posterior_var = ((1/5.5**2)*X.T@ X +1)**-1\n",
    "analytical_posterior_var"
   ]
  },
  {
   "cell_type": "code",
   "execution_count": 9,
   "metadata": {},
   "outputs": [
    {
     "data": {
      "text/plain": [
       "array([[3.19167208]])"
      ]
     },
     "execution_count": 9,
     "metadata": {},
     "output_type": "execute_result"
    }
   ],
   "source": [
    "analytical_posterior_mean = analytical_posterior_var*(0.9+((1/5.5**2)*X.T @ T))\n",
    "analytical_posterior_mean"
   ]
  },
  {
   "cell_type": "code",
   "execution_count": 10,
   "metadata": {},
   "outputs": [
    {
     "data": {
      "text/plain": [
       "<matplotlib.legend.Legend at 0x103187cc0>"
      ]
     },
     "execution_count": 10,
     "metadata": {},
     "output_type": "execute_result"
    },
    {
     "data": {
      "image/png": "[encoded data removed]",
      "text/plain": [
       "<Figure size 432x288 with 1 Axes>"
      ]
     },
     "metadata": {},
     "output_type": "display_data"
    }
   ],
   "source": [
    "from scipy.stats import norm\n",
    "xn = np.arange(3.1, 3.5, 0.0001)\n",
    "true_dist = norm(loc = analytical_posterior_mean, \n",
    "                 scale =(analytical_posterior_var)**0.5)\n",
    "q_dist = norm(loc = c.qm.data.numpy(), scale = c.softplus(c.qs).data.numpy())\n",
    "yn = true_dist.pdf(xn).ravel()\n",
    "plt.plot(xn, yn, linewidth=3, label=\"True Posterior\")\n",
    "plt.plot(xn, q_dist.pdf(xn).ravel(), '--', linewidth=3,\n",
    "         label=\"Approximation\")\n",
    "plt.legend()\n"
   ]
  },
  {
   "cell_type": "code",
   "execution_count": null,
   "metadata": {},
   "outputs": [],
   "source": []
  }
 ],
 "metadata": {
  "anaconda-cloud": {},
  "kernelspec": {
   "display_name": "Python 3",
   "language": "python",
   "name": "python3"
  },
  "language_info": {
   "codemirror_mode": {
    "name": "ipython",
    "version": 3
   },
   "file_extension": ".py",
   "mimetype": "text/x-python",
   "name": "python",
   "nbconvert_exporter": "python",
   "pygments_lexer": "ipython3",
   "version": "3.7.2"
  },
  "toc": {
   "colors": {
    "hover_highlight": "#DAA520",
    "running_highlight": "#FF0000",
    "selected_highlight": "#FFD700"
   },
   "moveMenuLeft": true,
   "nav_menu": {
    "height": "4px",
    "width": "254px"
   },
   "navigate_menu": true,
   "number_sections": false,
   "sideBar": true,
   "threshold": 4,
   "toc_cell": false,
   "toc_section_display": "block",
   "toc_window_display": false,
   "widenNotebook": false
  },
  "varInspector": {
   "cols": {
    "lenName": 16,
    "lenType": 16,
    "lenVar": 40
   },
   "kernels_config": {
    "python": {
     "delete_cmd_postfix": "",
     "delete_cmd_prefix": "del ",
     "library": "var_list.py",
     "varRefreshCmd": "print(var_dic_list())"
    },
    "r": {
     "delete_cmd_postfix": ") ",
     "delete_cmd_prefix": "rm(",
     "library": "var_list.r",
     "varRefreshCmd": "cat(var_dic_list()) "
    }
   },
   "types_to_exclude": [
    "module",
    "function",
    "builtin_function_or_method",
    "instance",
    "_Feature"
   ],
   "window_display": false
  }
 },
 "nbformat": 4,
 "nbformat_minor": 1
}
