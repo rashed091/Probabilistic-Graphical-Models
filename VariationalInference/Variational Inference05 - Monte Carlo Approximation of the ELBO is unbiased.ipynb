{
 "cells": [
  {
   "cell_type": "markdown",
   "metadata": {},
   "source": [
    "# Unbiased property of the ELBO\n",
    "\n",
    "In order to be able to perform stochastic optimisation of the Monte Carlo approximation of the ELBO, we need to have the property that the approximation is unbiased. This is a short post reviewing that idea, and showing that this is indeed the case."
   ]
  },
  {
   "cell_type": "markdown",
   "metadata": {},
   "source": [
    "## Deriving the bias of an estimator\n",
    "\n",
    "If we have an estimator $\\hat{\\theta}$, this is called an unbiased estimator if $E[\\hat{\\theta}] - \\theta$ is zero (where $\\theta$ is the true quantity). For a stochastic approximation, if our estimator is unbiased, we get convergence guarentees under the somewhat mild conditions ([Robbins, Monro 1951](https://pdfs.semanticscholar.org/34dd/d8865569c2c32dec9bf7ffc817ff42faaa01.pdf)).\n",
    "\n",
    "However, if it is biased, we may have convergence issues. Intuitively, we can see this below;"
   ]
  },
  {
   "cell_type": "markdown",
   "metadata": {},
   "source": [
    "If $E[\\hat{L}] \\neq L$, then clearly it is not necessarily true that $ \\frac{d}{d\\theta}E[\\hat{L}] \\neq \\frac{d}{d\\theta}L$. This means that for some arbitary loss function, if we perform an SGD like approximation many times over, our adjustments, based on the gradient, don't necessarily move us in the correct direction.\n",
    "\n",
    "If we view optimisation as moving us 'downhill' to some minimum point on our loss surface, if the gradient is a biased estimate, we do not have a general guarantee that this biased estimate will always point in the correct direction in expectation. For an unbiased estimate, we can view this as saying that whilst any single estimate will be wrong, if we take many estimates such as when we perform SGD, the resulting movement on the surface will likely be quite close to the true optimal move.\n",
    "\n",
    "This can either affect the speed of convergence, or even whether the algorithm will converge properly at all."
   ]
  },
  {
   "cell_type": "markdown",
   "metadata": {},
   "source": [
    "# A simple example\n",
    "\n",
    "A common example of an unbiased estimate is taking the average as an estimate of the expectation. The proof is below;\n",
    "\n",
    "$E[\\frac{1}{N}\\sum_{i=1}^{N} x_{i}] = \\frac{1}{N}\\sum_{i=1}^{N} E[x_{i}]$\n",
    "\n",
    "$=\\frac{1}{N} N \\ E[X] = E[X]$"
   ]
  },
  {
   "cell_type": "markdown",
   "metadata": {},
   "source": [
    "# Unbiased ELBO\n",
    "\n",
    "$\\mathcal{L} = E_{q}[log \\frac{P(X,Z)}{q(z)}]$\n",
    "\n",
    "$\\hat{\\mathcal{L}} = \\frac{1}{N}\\sum_{i}^{N}[log \\frac{P(X,Z_{i})}{q(Z_{i})}]$\n",
    "\n",
    "Now, assuming IID draws from q, we know $Z_{i} \\sim q$. \n",
    "\n",
    "$E_{q}[\\hat{\\mathcal{L}}] = E_{q}[\\frac{1}{N}\\sum_{i}^{N}log \\frac{P(X,Z_{i})}{q(Z_{i})}]$\n",
    "\n",
    "$= \\frac{1}{N}\\sum_{i}^{N}E_{q}[log \\frac{P(X,Z_{i})}{q(Z_{i})}]$\n",
    "\n",
    "$= \\frac{1}{N}\\sum_{i}^{N}[ \\int q(Z_{i}) log \\frac{P(X,Z_{i})}{q(Z_{i})} dZ_{i}]$\n",
    "\n",
    "For each of the terms of the sum, the integral is the same, as the integral is over the whole domain over $Z_{i}$. This means the value of each term is independent of the subscript. We can also reach the same conclusion by recognising that as the terms are IID, they all have the same expectation, so;\n",
    "\n",
    "$= \\frac{1}{N}N \\ E_{q}[log \\frac{P(X,Z)}{q(Z)}] =E_{q}[log \\frac{P(X,Z)}{q(Z)}] $"
   ]
  },
  {
   "cell_type": "markdown",
   "metadata": {},
   "source": [
    "# Summary\n",
    "\n",
    "This post was a quick note to prove the Monte Carlo ELBO is an unbiased approximation of the true ELBO function."
   ]
  }
 ],
 "metadata": {
  "kernelspec": {
   "display_name": "Python 3",
   "language": "python",
   "name": "python3"
  },
  "language_info": {
   "codemirror_mode": {
    "name": "ipython",
    "version": 3
   },
   "file_extension": ".py",
   "mimetype": "text/x-python",
   "name": "python",
   "nbconvert_exporter": "python",
   "pygments_lexer": "ipython3",
   "version": "3.7.2"
  }
 },
 "nbformat": 4,
 "nbformat_minor": 2
}
